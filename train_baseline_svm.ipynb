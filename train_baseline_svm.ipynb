{
 "cells": [
  {
   "cell_type": "code",
   "execution_count": null,
   "metadata": {
    "collapsed": false
   },
   "outputs": [],
   "source": [
    "# import tensorflow as tf\n",
    "import numpy as np\n",
    "import pandas as pd\n",
    "\n",
    "from sklearn.feature_extraction import DictVectorizer\n",
    "from sklearn import svm\n",
    "from sklearn.metrics import accuracy_score  # gt, pred\n",
    "\n",
    "from utils.utils import user_opt_gen, nice_dict, seed, init_data, pcp1, pcp2, pcp3, pcp4\n",
    "from utils.utils_baseline_svm import *\n",
    "\n",
    "# from collections import Counter\n",
    "\n",
    "# import matplotlib.pyplot as plt\n",
    "\n",
    "# import re"
   ]
  },
  {
   "cell_type": "code",
   "execution_count": null,
   "metadata": {
    "collapsed": false
   },
   "outputs": [],
   "source": [
    "if __name__ == '__main__':\n",
    "    \n",
    "    x, y, n, _ = init_data()\n",
    "    \n",
    "    # create a sparse matrix (X) to hold features \n",
    "    kwargs_lin_clf = nice_dict({'input_data': x, \n",
    "                                'width': 5, \n",
    "                                'mk_ngrams': True, 'ngram_filter': 10, 'filter_keys_ngrams': None,\n",
    "                                'mk_chars': True, 'char_filter': 100, 'filter_keys_chars': None})\n",
    "\n",
    "    X_features, _, _ = lin_clf_features(**kwargs_lin_clf)\n",
    "    \n",
    "    # vectorizer transforms dict into sparse matrix\n",
    "    v = DictVectorizer(sparse=True)\n",
    "\n",
    "    # create a sparse X matrix with character and n-grams features\n",
    "    X = v.fit_transform(X_features)\n",
    "\n",
    "    # http://scikit-learn.org/stable/modules/generated/sklearn.feature_extraction.DictVectorizer.html\n",
    "    # v.get_feature_names()\n",
    "    # v.restrict()\n",
    "\n",
    "    # print(y.shape)  # pd object\n",
    "    print('X (sparse) matrix, of size {} by {} has been created.'\n",
    "          .format(X.get_shape()[0], X.get_shape()[1]))  # vectorized\n",
    "    \n",
    "    kwargs_svm = nice_dict({'C': 1.0,  # penalty term\n",
    "                        'decision_function_shape': 'ovr',  # one-vs-rest (‘ovr’) / one-vs-one (‘ovo’) \n",
    "                        'random_state': seed(), \n",
    "                        'kernel': 'rbf', \n",
    "                        'gamma': 'auto' ,  # kernel coef for ‘rbf’, ‘poly’ and ‘sigmoid’. ‘auto’ -> 1/n_features\n",
    "                        'probability': True,  # enable probability estimates \n",
    "                        'shrinking': True,  # use the shrinking heuristic \n",
    "                        'max_iter': -1  # -1 mean no limitation \n",
    "                        })\n",
    "\n",
    "    svm_clf = svm.SVC(**kwargs_svm)\n",
    "\n",
    "    print(svm_clf)\n",
    "    \n",
    "    svm_clf.fit(X, y)\n",
    "\n",
    "    pred = svm_clf.predict(X)\n",
    "\n",
    "    # http://scikit-learn.org/stable/modules/svm.html\n",
    "    # http://scikit-learn.org/stable/modules/generated/sklearn.svm.SVC.html\n",
    "    \n",
    "    print(accuracy_score(y, pred))\n",
    "    print(pred[:10])"
   ]
  },
  {
   "cell_type": "code",
   "execution_count": null,
   "metadata": {
    "collapsed": false
   },
   "outputs": [],
   "source": [
    "if __name__ == '__main__':\n",
    "    # array to hold log probabilities (takes a bit longer to calc)\n",
    "    pred_prob = svm_clf.predict_log_proba(X)\n",
    "\n",
    "    # returns an array with indecies of top k elements in the input_array\n",
    "    def top_k_ind(input_array, k):\n",
    "        return input_array.argsort()[-k:][::-1]\n",
    "\n",
    "\n",
    "    # returns an array with probabilities of top k elements (log likelihood) in the input_array\n",
    "    def top_k_prob(input_array, k):\n",
    "        return np.exp(input_array[top_k_ind(input_array, k)])\n",
    "\n",
    "    # proto-type for outputting a ranked list of predictions with SVM\n",
    "    test_obs = pred_prob[0,:]\n",
    "    test_k = 3\n",
    "    # indecies\n",
    "    top_ind = top_k_ind(test_obs, test_k)\n",
    "    print('Indecies of top entries are {}'.format(top_ind))\n",
    "    # probabilities\n",
    "    print('Corresponding probabilities are {}'.format(\n",
    "        top_k_prob(test_obs, test_k))\n",
    "         )\n",
    "\n",
    "    # labels\n",
    "    print('Corresponding labels are {}'.format(\n",
    "        svm_clf.classes_[top_ind])\n",
    "         )\n",
    "\n",
    "    print(\n",
    "    list(zip(svm_clf.classes_[top_ind], top_k_prob(test_obs, test_k)))\n",
    "    )"
   ]
  },
  {
   "cell_type": "code",
   "execution_count": null,
   "metadata": {
    "collapsed": true
   },
   "outputs": [],
   "source": []
  }
 ],
 "metadata": {
  "anaconda-cloud": {},
  "kernelspec": {
   "display_name": "Python [conda env:tensorflow]",
   "language": "python",
   "name": "conda-env-tensorflow-py"
  },
  "language_info": {
   "codemirror_mode": {
    "name": "ipython",
    "version": 3
   },
   "file_extension": ".py",
   "mimetype": "text/x-python",
   "name": "python",
   "nbconvert_exporter": "python",
   "pygments_lexer": "ipython3",
   "version": "3.5.2"
  }
 },
 "nbformat": 4,
 "nbformat_minor": 2
}
