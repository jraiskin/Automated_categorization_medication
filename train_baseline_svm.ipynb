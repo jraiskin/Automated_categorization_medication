{
 "cells": [
  {
   "cell_type": "code",
   "execution_count": 1,
   "metadata": {
    "collapsed": false
   },
   "outputs": [],
   "source": [
    "import numpy as np\n",
    "import pandas as pd\n",
    "\n",
    "from sklearn.feature_extraction import DictVectorizer\n",
    "from sklearn import svm\n",
    "from sklearn.linear_model import LogisticRegression as Logistic\n",
    "# from sklearn.metrics import accuracy_score, label_ranking_average_precision_score\n",
    "\n",
    "import matplotlib.pyplot as plt\n",
    "%matplotlib inline\n",
    "\n",
    "from collections import Counter, OrderedDict\n",
    "import os\n",
    "\n",
    "from utils.utils import *\n",
    "from utils.utils_baseline_svm import *\n",
    "\n",
    "from utils.kwargs_file import kwargs_lin_data_init, kwargs_svm, kwargs_logistic"
   ]
  },
  {
   "cell_type": "code",
   "execution_count": 2,
   "metadata": {
    "collapsed": false
   },
   "outputs": [],
   "source": [
    "# call for linear model\n",
    "# change data preprocessing hyper-parameters\n",
    "kwargs_lin_data_init.mk_ngrams = True\n",
    "kwargs_lin_data_init.char_filter = 100\n",
    "kwargs_lin_data_init.ngram_filter = 10\n",
    "\n",
    "kwargs_lin_data_init.use_suggestions = False\n",
    "\n",
    "# for writing the results to file\n",
    "sub_folder = 'svm_results/'\n",
    "\n",
    "# summary_path = 'SVM_hyperparameter_summary_suggest_08_WITH_NGRAMS_near_NO_FILTER.csv'\n",
    "# summary_path = 'SVM_hyperparameter_summary_suggest_08_only_BOC_6_1.csv'\n",
    "# summary_path = 'SVM_hyperparameter_summary_suggest_08_WITH_NGRAMS_6_1.csv'\n",
    "# summary_path = 'SVM_hyperparameter_summary_no_suggest_WITH_NGRAMS_near_NO_FILTER.csv'\n",
    "# summary_path = 'SVM_hyperparameter_summary_no_suggest_only_BOC_6_1.csv'\n",
    "summary_path = 'SVM_hyperparameter_summary_no_suggest_WITH_NGRAMS_6_1.csv'\n",
    "summary_path = sub_folder + summary_path"
   ]
  },
  {
   "cell_type": "code",
   "execution_count": null,
   "metadata": {
    "collapsed": false
   },
   "outputs": [],
   "source": [
    "# vectorizer transforms dict into sparse matrix\n",
    "v = DictVectorizer(sparse=True)\n",
    "\n",
    "x_train, x_val, y_train, y_val, allowed_ngrams = \\\n",
    "    data_load_preprocess(**kwargs_lin_data_init)"
   ]
  },
  {
   "cell_type": "code",
   "execution_count": null,
   "metadata": {
    "collapsed": false
   },
   "outputs": [],
   "source": [
    "# x_train, x_val, y_train, y_val, allowed_ngrams = \\\n",
    "#     data_load_preprocess(**{**kwargs_lin_data_init, \n",
    "#                             **{'linear_counters': False}})\n",
    "\n",
    "# keep_first_k_chars(input=x_train, k=4, \n",
    "#                    model='linear', \n",
    "#                    ngram_width=kwargs_lin_data_init.ngram_width, \n",
    "#                    mk_ngrams=kwargs_lin_data_init.mk_ngrams, \n",
    "#                    allowed_ngrams=allowed_ngrams)"
   ]
  },
  {
   "cell_type": "code",
   "execution_count": null,
   "metadata": {
    "collapsed": false,
    "scrolled": true
   },
   "outputs": [],
   "source": [
    "# create a sparse X matrix with character and n-grams features\n",
    "X_train = v.fit_transform(x_train)\n",
    "X_val = v.transform(x_val)\n",
    "\n",
    "# http://scikit-learn.org/stable/modules/generated/sklearn.feature_extraction.DictVectorizer.html\n",
    "\n",
    "print('X_train (sparse) matrix, of size {} by {} has been created.'\n",
    "      .format(X_train.get_shape()[0], X_train.get_shape()[1]))  # vectorized\n",
    "\n",
    "svm_clf = svm.SVC(**kwargs_svm)"
   ]
  },
  {
   "cell_type": "code",
   "execution_count": null,
   "metadata": {
    "collapsed": false
   },
   "outputs": [],
   "source": [
    "svm_clf.fit(X_train, y_train)"
   ]
  },
  {
   "cell_type": "code",
   "execution_count": null,
   "metadata": {
    "collapsed": false,
    "scrolled": true
   },
   "outputs": [],
   "source": [
    "pred = svm_clf.predict(X_val)\n",
    "\n",
    "# http://scikit-learn.org/stable/modules/svm.html\n",
    "# http://scikit-learn.org/stable/modules/generated/sklearn.svm.SVC.html\n",
    "\n",
    "# print(accuracy_score(y_val, pred))\n",
    "# equivalent to:\n",
    "print('Accuracy on validation set is {:.3f}'.format(svm_clf.score(X_val, y_val)))\n",
    "# print(pred[:10])\n",
    "\n",
    "# array to hold log probabilities (takes a bit longer to calc)\n",
    "pred_prob = svm_clf.predict_log_proba(X_val)\n",
    "# makes y into array with the same shape as the log prob\n",
    "y_val_dense = y_to_dense(y=y_val, \n",
    "                         classes=svm_clf.classes_)"
   ]
  },
  {
   "cell_type": "code",
   "execution_count": null,
   "metadata": {
    "collapsed": false
   },
   "outputs": [],
   "source": [
    "k = 5\n",
    "'{:.3f} of observations has the correct class in the top {} prediction'.format(\n",
    "    in_top_k(y_val_dense, pred_prob, k), k)\n",
    "\n",
    "print('Mean Reciprocal Rank is {:.3f}'.format(mean_reciprocal_rank(y_val_dense, pred_prob)))"
   ]
  },
  {
   "cell_type": "code",
   "execution_count": null,
   "metadata": {
    "collapsed": false
   },
   "outputs": [],
   "source": [
    "# logistic regression\n",
    "\n",
    "logistic_clf = Logistic(**kwargs_logistic)\n",
    "logistic_clf.fit(X_train, y_train)"
   ]
  },
  {
   "cell_type": "code",
   "execution_count": null,
   "metadata": {
    "collapsed": false
   },
   "outputs": [],
   "source": [
    "pred_logistic = logistic_clf.predict(X_val)\n",
    "print('Accuracy on validation set is {:.3f}'.format(svm_clf.score(X_val, y_val)))"
   ]
  },
  {
   "cell_type": "code",
   "execution_count": null,
   "metadata": {
    "collapsed": false
   },
   "outputs": [],
   "source": [
    "\"\"\"\n",
    "Train multiple classifiers with different hyper-parameters.\n",
    "\"\"\""
   ]
  },
  {
   "cell_type": "code",
   "execution_count": null,
   "metadata": {
    "collapsed": false,
    "scrolled": true
   },
   "outputs": [],
   "source": [
    "k = 5  # for the top_k metric\n",
    "\n",
    "summary_to_file = []\n",
    "\n",
    "for kernel, degree in zip(\n",
    "    ['linear', *['poly'] * 3, 'rbf', 'sigmoid'], \n",
    "    [3, *list(range(2, 2+3)), 3, 3]):\n",
    "    for C in [0.01, 0.1, 1.0]: \n",
    "        for shrinking in [True, False]:\n",
    "            kwargs_cur_params = {**kwargs_svm, \n",
    "                                 **{'kernel': kernel, \n",
    "                                    'degree': degree, \n",
    "                                    'C': C,\n",
    "                                    'shrinking': shrinking}}\n",
    "            \n",
    "            # clearing all vars (just making sure)\n",
    "            svm_cur = ''\n",
    "            pred_cur = ''\n",
    "            pred_prob_cur = ''\n",
    "            y_val_dense_cur = ''\n",
    "            cur_acc, cur_topk, cur_mrr = '', '', ''\n",
    "            summary_cur_model, summary_dict = '', ''\n",
    "\n",
    "            # create and fit model\n",
    "            svm_cur = svm.SVC(**kwargs_cur_params)\n",
    "            svm_cur.fit(X_train, y_train)\n",
    "            # predictions\n",
    "            pred_cur = svm_cur.predict(X_val)\n",
    "            # log probabilities\n",
    "            pred_prob_cur = svm_cur.predict_log_proba(X_val)\n",
    "            # makes y into array with the same shape as the log prob\n",
    "            # get dense y again, not sure if classes are always ordered the same\n",
    "            y_val_dense_cur = y_to_dense(y=y_val, \n",
    "                                         classes=svm_cur.classes_)\n",
    "            # collect evaluation metrics\n",
    "            cur_acc, cur_topk, cur_mrr = \\\n",
    "                in_top_k(y_val_dense_cur, pred_prob_cur, 1), \\\n",
    "                in_top_k(y_val_dense_cur, pred_prob_cur, k), \\\n",
    "                mean_reciprocal_rank(y_val_dense, pred_prob_cur)\n",
    "            \n",
    "            summary_to_file.append(OrderedDict(\n",
    "                sorted(tuple((k,v) for k,v in svm_cur.get_params().items() \n",
    "                             if k not in ['class_weight', \n",
    "                                          'cache_size', \n",
    "                                          'max_iter', \n",
    "                                          'random_state', \n",
    "                                          'tol', \n",
    "                                          'verbose'])) + \\\n",
    "                [('Accuracy', '{:.3f}'.format(cur_acc)), \n",
    "                 ('Mean Reciprocal Rank', '{:.3f}'.format(cur_mrr)), \n",
    "                 ('Top {}'.format(k), '{:.3f}'.format(cur_topk))]\n",
    "            ))\n",
    "            \n",
    "            print('Model fitted: {}'.format(svm_cur))\n",
    "            print('Accuracy on test set is {:.3f}'.format(cur_acc))\n",
    "            print('{:.3f} of observations has the correct class in the top {} prediction'.format(\n",
    "                cur_topk, k))\n",
    "            print('Mean Reciprocal Rank is {:.3f}'.format(cur_mrr))"
   ]
  },
  {
   "cell_type": "code",
   "execution_count": null,
   "metadata": {
    "collapsed": false
   },
   "outputs": [],
   "source": [
    "results_df = pd.DataFrame(summary_to_file)\n",
    "results_df.sort_values(by='Mean Reciprocal Rank', \n",
    "                       ascending=False, \n",
    "                       inplace=True)\n",
    "\n",
    "results_df"
   ]
  },
  {
   "cell_type": "code",
   "execution_count": null,
   "metadata": {
    "collapsed": true
   },
   "outputs": [],
   "source": [
    "# save to file\n",
    "results_df.to_csv(summary_path)"
   ]
  },
  {
   "cell_type": "code",
   "execution_count": 3,
   "metadata": {
    "collapsed": false
   },
   "outputs": [
    {
     "data": {
      "text/plain": [
       "'\\nLoad training results from CSV files\\n'"
      ]
     },
     "execution_count": 3,
     "metadata": {},
     "output_type": "execute_result"
    }
   ],
   "source": [
    "\"\"\"\n",
    "Load training results from CSV files\n",
    "\"\"\""
   ]
  },
  {
   "cell_type": "code",
   "execution_count": 4,
   "metadata": {
    "collapsed": false
   },
   "outputs": [],
   "source": [
    "# get a list of file names in sub_folder\n",
    "summary_files = [fname\n",
    "                 for fname \n",
    "                 in next(os.walk(sub_folder))][2]\n",
    "\n",
    "summary_files = [sub_folder + fname \n",
    "                 for fname in summary_files]"
   ]
  },
  {
   "cell_type": "code",
   "execution_count": 5,
   "metadata": {
    "collapsed": false
   },
   "outputs": [],
   "source": [
    "results = []\n",
    "for file in summary_files:\n",
    "    data_table = pd.read_csv(file)\n",
    "    row = OrderedDict()\n",
    "    row['name'] = file.split('summary_')[1]  # split the file name\n",
    "    row['Accuracy'] = data_table['Accuracy'][0]\n",
    "    row['Mean Reciprocal Rank'] = data_table['Mean Reciprocal Rank'][0]\n",
    "    row['kernel'] = data_table['kernel'][0]\n",
    "    row['c'] = data_table['C'][0]\n",
    "    results.append(row)"
   ]
  },
  {
   "cell_type": "code",
   "execution_count": 6,
   "metadata": {
    "collapsed": true
   },
   "outputs": [],
   "source": [
    "results_summary = pd.DataFrame(results)\n",
    "results_summary = \\\n",
    "    results_summary.sort_values(by='Accuracy', ascending=False)"
   ]
  },
  {
   "cell_type": "code",
   "execution_count": 7,
   "metadata": {
    "collapsed": false
   },
   "outputs": [
    {
     "data": {
      "text/plain": [
       "<matplotlib.axes._subplots.AxesSubplot at 0x7fa7e0c320b8>"
      ]
     },
     "execution_count": 7,
     "metadata": {},
     "output_type": "execute_result"
    },
    {
     "data": {
      "image/png": "[encoded data removed]",
      "text/plain": [
       "<matplotlib.figure.Figure at 0x7fa7e0c8f668>"
      ]
     },
     "metadata": {},
     "output_type": "display_data"
    }
   ],
   "source": [
    "results_summary.plot(x='name', \n",
    "                     y=['Mean Reciprocal Rank', \n",
    "                        'Accuracy'], \n",
    "                     figsize=(14,9),\n",
    "                     rot=15, \n",
    "                     ylim=(0.9, 1.0), \n",
    "                     linewidth=10, \n",
    "                     kind='line')"
   ]
  },
  {
   "cell_type": "code",
   "execution_count": null,
   "metadata": {
    "collapsed": true
   },
   "outputs": [],
   "source": []
  },
  {
   "cell_type": "code",
   "execution_count": null,
   "metadata": {
    "collapsed": true
   },
   "outputs": [],
   "source": []
  },
  {
   "cell_type": "code",
   "execution_count": null,
   "metadata": {
    "collapsed": true
   },
   "outputs": [],
   "source": []
  },
  {
   "cell_type": "code",
   "execution_count": null,
   "metadata": {
    "collapsed": true
   },
   "outputs": [],
   "source": []
  }
 ],
 "metadata": {
  "anaconda-cloud": {},
  "kernelspec": {
   "display_name": "Python [conda env:tensorflow]",
   "language": "python",
   "name": "conda-env-tensorflow-py"
  },
  "language_info": {
   "codemirror_mode": {
    "name": "ipython",
    "version": 3
   },
   "file_extension": ".py",
   "mimetype": "text/x-python",
   "name": "python",
   "nbconvert_exporter": "python",
   "pygments_lexer": "ipython3",
   "version": "3.5.2"
  }
 },
 "nbformat": 4,
 "nbformat_minor": 2
}
