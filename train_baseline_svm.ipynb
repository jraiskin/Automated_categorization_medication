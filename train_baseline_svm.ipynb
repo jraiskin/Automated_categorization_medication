{
 "cells": [
  {
   "cell_type": "code",
   "execution_count": 1,
   "metadata": {
    "collapsed": false
   },
   "outputs": [],
   "source": [
    "# import tensorflow as tf\n",
    "import numpy as np\n",
    "import pandas as pd\n",
    "\n",
    "from sklearn.feature_extraction import DictVectorizer\n",
    "from sklearn import svm\n",
    "from sklearn.metrics import accuracy_score  # gt, pred\n",
    "\n",
    "from utils import utils\n",
    "\n",
    "from collections import Counter\n",
    "# from math import isnan\n",
    "\n",
    "# import matplotlib.pyplot as plt\n",
    "\n",
    "# import re"
   ]
  },
  {
   "cell_type": "code",
   "execution_count": 2,
   "metadata": {
    "collapsed": false,
    "scrolled": true
   },
   "outputs": [],
   "source": [
    "user_opt = utils.user_opt_gen()\n",
    "\n",
    "main_data = pd.read_csv(user_opt['data_path'], \n",
    "                         sep=';', \n",
    "                         header=0, \n",
    "                         encoding='cp850')\n",
    "\n",
    "# only observations with ATC labels\n",
    "main_data_labeled = main_data.loc[[isinstance(k, str) for k in main_data['ATC']],:]\n",
    "\n",
    "atc_conversion_data = pd.read_csv(user_opt['atc_conversion_data_path'], \n",
    "                                  sep=';', \n",
    "                                  header=0, \n",
    "                                  encoding='cp850')"
   ]
  },
  {
   "cell_type": "code",
   "execution_count": 3,
   "metadata": {
    "collapsed": false
   },
   "outputs": [],
   "source": [
    "# create a charachter:count dict\n",
    "def char_freq_map(input_data):\n",
    "    char_dict = {}\n",
    "    # check if dataframe or a single obs\n",
    "    if isinstance(input_data, pd.core.series.Series):\n",
    "        # getting line\n",
    "        for line in input_data:\n",
    "            # splitting into characters\n",
    "            chars = list(line)\n",
    "            for char in chars:\n",
    "                char_dict[char] = char_dict.get(char, 0) + 1\n",
    "    elif isinstance(input_data, str):\n",
    "        # splitting into characters\n",
    "            chars = list(input_data)\n",
    "            for char in chars:\n",
    "                char_dict[char] = char_dict.get(char, 0) + 1\n",
    "    return char_dict\n",
    "\n",
    "\n",
    "# create a ngram:count dict\n",
    "def ngram_freq_map(input_data, width):\n",
    "    ngram_dict = {}\n",
    "    # check if dataframe or a single obs\n",
    "    if isinstance(input_data, pd.core.series.Series):\n",
    "        # getting line\n",
    "        for line in input_data:\n",
    "            ngram_dict = update_ngram_dict(line, width, ngram_dict)\n",
    "    elif isinstance(input_data, str):\n",
    "        ngram_dict = update_ngram_dict(input_data, width, ngram_dict)\n",
    "    return ngram_dict\n",
    "\n",
    "\n",
    "# create a sliding window and update a dict with counts (default 0)\n",
    "def update_ngram_dict(line, width, ngram_dict):\n",
    "    ngrams = sliding_window(line, width)\n",
    "    for ngram in ngrams:\n",
    "        ngram_dict[ngram] = ngram_dict.get(ngram, 0) + 1\n",
    "    return ngram_dict\n",
    "\n",
    "\n",
    "# returns a list with a sliding window\n",
    "# over the string with given width\n",
    "def sliding_window(input_str, width):\n",
    "    assert len(input_str) >= width, 'Cannot slide with width larger than the string!'\n",
    "    return [input_str[i:i + width] for i in range(len(input_str) - width + 1)]"
   ]
  },
  {
   "cell_type": "code",
   "execution_count": 4,
   "metadata": {
    "collapsed": false,
    "scrolled": false
   },
   "outputs": [],
   "source": [
    "# for col in range(X.get_shape()[1]):\n",
    "#     print(sum(X.getcol(col)))\n",
    "\n",
    "# for i in range(20, 30):\n",
    "#     print(i)\n",
    "#     print(X.getcol(i))\n",
    "#     print()\n",
    "#     print()\n",
    "\n",
    "# counter = 0\n",
    "# for col in range(X.get_shape()[1]):\n",
    "#     if sum(X.getcol(col)) >= 5:\n",
    "#         counter += 1\n",
    "# print(counter)\n",
    "\n",
    "# char_freq_map(x)\n",
    "# sliding_window(x[0], 4)\n",
    "# [print(text) for text in x]\n",
    "\n",
    "# ngram_dict = ngram_freq_map(x, 5)\n",
    "# smaller_ngram_dict = {k: ngram_dict[k] for k in ngram_dict if ngram_dict[k] >= 5}\n",
    "# print(len(ngram_dict))\n",
    "# print(len(smaller_ngram_dict))"
   ]
  },
  {
   "cell_type": "code",
   "execution_count": 5,
   "metadata": {
    "collapsed": false
   },
   "outputs": [],
   "source": [
    "# smaller n for testing purposes\n",
    "# n = 1000\n",
    "n = len(main_data_labeled)\n",
    "\n",
    "x = main_data_labeled['FREETXT'][:n]\n",
    "y = main_data_labeled['ATC'][:n]\n",
    "\n",
    "# vectorizer transforms dict into sparse matrix\n",
    "v = DictVectorizer(sparse=True)\n",
    "# [len(obs) for obs in x]\n",
    "\n",
    "# create a sparse X matrix with character and n-grams features\n",
    "# z = {**a, **b} merges a, b dicts by key\n",
    "X = v.fit_transform(\n",
    "    [{**ngram_freq_map(obs, 5), **char_freq_map(obs)} for obs in x])\n",
    "\n",
    "# Y = [{label:1} for label in y]\n",
    "## can check:\n",
    "## for i in range(len(Y)):\n",
    "##     print(list(Y[i].keys())[0] == y[i])\n",
    "# Y = v.fit_transform(Y)\n",
    "\n",
    "# http://scikit-learn.org/stable/modules/generated/sklearn.feature_extraction.DictVectorizer.html\n",
    "# v.get_feature_names()\n",
    "# v.restrict()\n",
    "\n",
    "# print(y.shape)  # pd object\n",
    "# print(X.get_shape())  # vectorized"
   ]
  },
  {
   "cell_type": "code",
   "execution_count": 10,
   "metadata": {
    "collapsed": false
   },
   "outputs": [
    {
     "name": "stdout",
     "output_type": "stream",
     "text": [
      "SVC(C=1.0, cache_size=200, class_weight=None, coef0=0.0,\n",
      "  decision_function_shape=None, degree=3, gamma='auto', kernel='rbf',\n",
      "  max_iter=-1, probability=False, random_state=None, shrinking=True,\n",
      "  tol=0.001, verbose=False)\n"
     ]
    }
   ],
   "source": [
    "# svm_clf = svm.LinearSVC(verbose=True, \n",
    "#                         max_iter=10000, dual=True)\n",
    "\n",
    "svm_clf = svm.SVC()\n",
    "\n",
    "print(svm_clf)\n",
    "\n",
    "svm_clf.fit(X, y)\n",
    "\n",
    "pred = svm_clf.predict(X)\n",
    "\n",
    "# http://scikit-learn.org/stable/modules/svm.html\n",
    "# http://scikit-learn.org/stable/modules/generated/sklearn.svm.SVC.html"
   ]
  },
  {
   "cell_type": "code",
   "execution_count": 11,
   "metadata": {
    "collapsed": false
   },
   "outputs": [
    {
     "name": "stdout",
     "output_type": "stream",
     "text": [
      "0.0389546351085\n"
     ]
    }
   ],
   "source": [
    "print(accuracy_score(y, pred))"
   ]
  },
  {
   "cell_type": "code",
   "execution_count": null,
   "metadata": {
    "collapsed": false
   },
   "outputs": [],
   "source": []
  },
  {
   "cell_type": "code",
   "execution_count": null,
   "metadata": {
    "collapsed": true
   },
   "outputs": [],
   "source": []
  },
  {
   "cell_type": "code",
   "execution_count": null,
   "metadata": {
    "collapsed": true
   },
   "outputs": [],
   "source": []
  },
  {
   "cell_type": "code",
   "execution_count": null,
   "metadata": {
    "collapsed": true
   },
   "outputs": [],
   "source": []
  }
 ],
 "metadata": {
  "anaconda-cloud": {},
  "kernelspec": {
   "display_name": "Python [conda env:tensorflow]",
   "language": "python",
   "name": "conda-env-tensorflow-py"
  },
  "language_info": {
   "codemirror_mode": {
    "name": "ipython",
    "version": 3
   },
   "file_extension": ".py",
   "mimetype": "text/x-python",
   "name": "python",
   "nbconvert_exporter": "python",
   "pygments_lexer": "ipython3",
   "version": "3.5.2"
  }
 },
 "nbformat": 4,
 "nbformat_minor": 2
}
