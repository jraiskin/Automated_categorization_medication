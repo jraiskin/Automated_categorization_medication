{
 "cells": [
  {
   "cell_type": "code",
   "execution_count": 1,
   "metadata": {
    "collapsed": false
   },
   "outputs": [],
   "source": [
    "# import tensorflow as tf\n",
    "import numpy as np\n",
    "# import pandas as pd\n",
    "\n",
    "from sklearn.feature_extraction import DictVectorizer\n",
    "from sklearn import svm\n",
    "from sklearn.linear_model import LogisticRegression as Logistic\n",
    "# from sklearn.metrics import accuracy_score, label_ranking_average_precision_score\n",
    "\n",
    "from utils.utils import *\n",
    "from utils.utils_baseline_svm import *\n",
    "\n",
    "# from collections import Counter\n",
    "\n",
    "# import matplotlib.pyplot as plt\n",
    "\n",
    "# import re"
   ]
  },
  {
   "cell_type": "code",
   "execution_count": 2,
   "metadata": {
    "collapsed": false
   },
   "outputs": [
    {
     "name": "stdout",
     "output_type": "stream",
     "text": [
      "The are 2919 observations\n",
      "Sampling from allowed 82 labels\n",
      "82 labels in the validation set, with\n",
      "1587 potential observation to draw from.\n",
      "365 observations sampled for validation\n",
      "1222 observations for training\n",
      "The ratio of validation to *training* is about 0.299\n"
     ]
    }
   ],
   "source": [
    "# call for linear model\n",
    "kwargs_lin_clf = nice_dict({'mk_chars': True, \n",
    "                            'model': 'linear', \n",
    "                            'char_filter': 100, 'allowed_chars': None, \n",
    "                            'mk_ngrams': False, 'ngram_width': 5, \n",
    "                            'ngram_filter': 10, 'allowed_ngrams': None, \n",
    "                            'keep_infreq_labels': False, 'label_count_thresh': 10, \n",
    "                            'valid_ratio': 0.25, \n",
    "                            'scale_func': unscale, 'to_permute': True, })\n",
    "\n",
    "x_train, x_val, y_train, y_val = \\\n",
    "    data_load_preprocess(**kwargs_lin_clf)"
   ]
  },
  {
   "cell_type": "code",
   "execution_count": 3,
   "metadata": {
    "collapsed": false,
    "scrolled": true
   },
   "outputs": [
    {
     "name": "stdout",
     "output_type": "stream",
     "text": [
      "X_train (sparse) matrix, of size 1222 by 63 has been created.\n",
      "SVC(C=1.0, cache_size=200, class_weight=None, coef0=0.0,\n",
      "  decision_function_shape='ovr', degree=3, gamma='auto', kernel='rbf',\n",
      "  max_iter=-1, probability=True, random_state=2178, shrinking=True,\n",
      "  tol=0.001, verbose=False)\n"
     ]
    }
   ],
   "source": [
    "# vectorizer transforms dict into sparse matrix\n",
    "v = DictVectorizer(sparse=True)\n",
    "\n",
    "# create a sparse X matrix with character and n-grams features\n",
    "X_train = v.fit_transform(x_train)\n",
    "X_val = v.transform(x_val)\n",
    "\n",
    "# http://scikit-learn.org/stable/modules/generated/sklearn.feature_extraction.DictVectorizer.html\n",
    "# v.get_feature_names()\n",
    "# v.restrict()\n",
    "\n",
    "# print(y.shape)  # pd object\n",
    "print('X_train (sparse) matrix, of size {} by {} has been created.'\n",
    "      .format(X_train.get_shape()[0], X_train.get_shape()[1]))  # vectorized\n",
    "\n",
    "kwargs_svm = nice_dict({'C': 1.0,  # penalty term\n",
    "                        'decision_function_shape': 'ovr',  # one-vs-rest (‘ovr’) / one-vs-one (‘ovo’) \n",
    "                        'random_state': seed(), \n",
    "                        'kernel': 'rbf', \n",
    "                        'gamma': 'auto' ,  # kernel coef for ‘rbf’, ‘poly’ and ‘sigmoid’. ‘auto’ -> 1/n_features\n",
    "                        'probability': True,  # enable probability estimates \n",
    "                        'shrinking': True,  # use the shrinking heuristic \n",
    "                        'max_iter': -1  # -1 mean no limitation \n",
    "                        })\n",
    "\n",
    "svm_clf = svm.SVC(**kwargs_svm)\n",
    "\n",
    "print(svm_clf)"
   ]
  },
  {
   "cell_type": "code",
   "execution_count": 4,
   "metadata": {
    "collapsed": false
   },
   "outputs": [
    {
     "data": {
      "text/plain": [
       "SVC(C=1.0, cache_size=200, class_weight=None, coef0=0.0,\n",
       "  decision_function_shape='ovr', degree=3, gamma='auto', kernel='rbf',\n",
       "  max_iter=-1, probability=True, random_state=2178, shrinking=True,\n",
       "  tol=0.001, verbose=False)"
      ]
     },
     "execution_count": 4,
     "metadata": {},
     "output_type": "execute_result"
    }
   ],
   "source": [
    "svm_clf.fit(X_train, y_train)"
   ]
  },
  {
   "cell_type": "code",
   "execution_count": 5,
   "metadata": {
    "collapsed": false,
    "scrolled": true
   },
   "outputs": [
    {
     "name": "stdout",
     "output_type": "stream",
     "text": [
      "Accuracy on validation set is 0.934\n"
     ]
    }
   ],
   "source": [
    "pred = svm_clf.predict(X_val)\n",
    "\n",
    "# http://scikit-learn.org/stable/modules/svm.html\n",
    "# http://scikit-learn.org/stable/modules/generated/sklearn.svm.SVC.html\n",
    "\n",
    "# print(accuracy_score(y_val, pred))\n",
    "# equivalent to:\n",
    "print('Accuracy on validation set is {:.3f}'.format(svm_clf.score(X_val, y_val)))\n",
    "# print(pred[:10])"
   ]
  },
  {
   "cell_type": "code",
   "execution_count": 6,
   "metadata": {
    "collapsed": false
   },
   "outputs": [],
   "source": [
    "# array to hold log probabilities (takes a bit longer to calc)\n",
    "pred_prob = svm_clf.predict_log_proba(X_val)\n",
    "# makes y into array with the same shape as the log prob\n",
    "y_val_dense = y_to_dense(y=y_val, \n",
    "                         classes=svm_clf.classes_)"
   ]
  },
  {
   "cell_type": "code",
   "execution_count": 7,
   "metadata": {
    "collapsed": false
   },
   "outputs": [
    {
     "data": {
      "text/plain": [
       "'0.981 of observations has the correct class in the top 5 prediction'"
      ]
     },
     "execution_count": 7,
     "metadata": {},
     "output_type": "execute_result"
    }
   ],
   "source": [
    "k = 5\n",
    "'{:.3f} of observations has the correct class in the top {} prediction'.format(\n",
    "    in_top_k(y_val_dense, pred_prob, k), k)"
   ]
  },
  {
   "cell_type": "code",
   "execution_count": 8,
   "metadata": {
    "collapsed": false
   },
   "outputs": [
    {
     "name": "stdout",
     "output_type": "stream",
     "text": [
      "Mean Reciprocal Rank is 0.959\n"
     ]
    }
   ],
   "source": [
    "print('Mean Reciprocal Rank is {:.3f}'.format(mean_reciprocal_rank(y_val_dense, pred_prob)))"
   ]
  },
  {
   "cell_type": "code",
   "execution_count": 9,
   "metadata": {
    "collapsed": false
   },
   "outputs": [
    {
     "data": {
      "text/plain": [
       "LogisticRegression(C=1.0, class_weight=None, dual=False, fit_intercept=True,\n",
       "          intercept_scaling=1, max_iter=100, multi_class='ovr', n_jobs=1,\n",
       "          penalty='l2', random_state=2178, solver='newton-cg', tol=0.0001,\n",
       "          verbose=0, warm_start=False)"
      ]
     },
     "execution_count": 9,
     "metadata": {},
     "output_type": "execute_result"
    }
   ],
   "source": [
    "# logistic regression\n",
    "kwargs_logistic = nice_dict({'C': 1.0, \n",
    "                             'penalty': 'l2', \n",
    "                             'multi_class': 'ovr', # one-vs-rest (‘ovr’) / one-vs-one (‘ovo’) \n",
    "                             'random_state': seed(), \n",
    "                             'solver': 'newton-cg',  # ‘liblinear’ is fit to \"small\" data-sets, crashes kernel \n",
    "                             # solver:{‘newton-cg’, ‘lbfgs’, ‘liblinear’, ‘sag’}, default: ‘liblinear’\n",
    "                             'fit_intercept': True\n",
    "                        })\n",
    "\n",
    "logistic_clf = Logistic(**kwargs_logistic)\n",
    "logistic_clf.fit(X_train, y_train)"
   ]
  },
  {
   "cell_type": "code",
   "execution_count": 10,
   "metadata": {
    "collapsed": false
   },
   "outputs": [
    {
     "name": "stdout",
     "output_type": "stream",
     "text": [
      "Accuracy on validation set is 0.934\n"
     ]
    }
   ],
   "source": [
    "pred_logistic = logistic_clf.predict(X_val)\n",
    "print('Accuracy on validation set is {:.3f}'.format(svm_clf.score(X_val, y_val)))"
   ]
  },
  {
   "cell_type": "code",
   "execution_count": null,
   "metadata": {
    "collapsed": true
   },
   "outputs": [],
   "source": []
  },
  {
   "cell_type": "code",
   "execution_count": null,
   "metadata": {
    "collapsed": true
   },
   "outputs": [],
   "source": []
  },
  {
   "cell_type": "code",
   "execution_count": null,
   "metadata": {
    "collapsed": true
   },
   "outputs": [],
   "source": []
  },
  {
   "cell_type": "code",
   "execution_count": null,
   "metadata": {
    "collapsed": true
   },
   "outputs": [],
   "source": []
  },
  {
   "cell_type": "code",
   "execution_count": null,
   "metadata": {
    "collapsed": false
   },
   "outputs": [],
   "source": [
    "k = 5  # for the top_k metric\n",
    "# for writing the results to file\n",
    "summary_path = 'SVM_hyperparameter_summary_only_BOC.csv'\n",
    "file = open(summary_path,'w')\n",
    "\n",
    "for kernel, degree in zip(\n",
    "    ['linear', *['poly'] * 3, 'rbf', 'sigmoid'], \n",
    "    [3, *list(range(2, 2+3)), 3, 3]):\n",
    "    for C in [0.01, 0.1, 1.0]: \n",
    "        for shrinking in [True, False]:\n",
    "            kwargs_cur_params = {**kwargs_svm, \n",
    "                                 **{'kernel': kernel, \n",
    "                                    'degree': degree, \n",
    "                                    'C': C,\n",
    "                                    'shrinking': shrinking}}\n",
    "            \n",
    "            # clearing all vars (just making sure)\n",
    "            svm_cur = ''\n",
    "            pred_cur = ''\n",
    "            pred_prob_cur = ''\n",
    "            y_val_dense_cur = ''\n",
    "            cur_acc, cur_topk, cur_mrr = '', '', ''\n",
    "            summary_cur_model, summary_dict = '', ''\n",
    "\n",
    "            # create and fit model\n",
    "            svm_cur = svm.SVC(**kwargs_cur_params)\n",
    "            svm_cur.fit(X_train, y_train)\n",
    "            # predictions\n",
    "            pred_cur = svm_cur.predict(X_val)\n",
    "            # log probabilities\n",
    "            pred_prob_cur = svm_cur.predict_log_proba(X_val)\n",
    "            # makes y into array with the same shape as the log prob\n",
    "            # get dense y again, not sure if classes are always ordered the same\n",
    "            y_val_dense_cur = y_to_dense(y=y_val, \n",
    "                                         classes=svm_cur.classes_)\n",
    "            # collect evaluation metrics\n",
    "            cur_acc, cur_topk, cur_mrr = \\\n",
    "                svm_cur.score(X_val, y_val), \\\n",
    "                in_top_k(y_val_dense_cur, pred_prob_cur, k), \\\n",
    "                mean_reciprocal_rank(y_val_dense, pred_prob_cur)\n",
    "\n",
    "            summary_dict = {'Accuracy': cur_acc, \n",
    "                            'Mean Reciprocal Rank': cur_topk,\n",
    "                            'Top {}'.format(k): cur_mrr}\n",
    "\n",
    "            # create string for model params\n",
    "            summary_cur_model = ' '.join(\n",
    "                [':'.join([str(key),str(value)]) \n",
    "                 for key,value in svm_cur.get_params().items()\n",
    "                 if key not in ['random_state', \n",
    "                                'tol', \n",
    "                                'max_iter', \n",
    "                                'cache_size', \n",
    "                                'verbose', \n",
    "                                'class_weight']])\n",
    "\n",
    "            print('Model fitted: {}'.format(summary_cur_model))\n",
    "            print('Accuracy on test set is {:.3f}'.format(cur_acc))\n",
    "            print('{:.3f} of observations has the correct class in the top {} prediction'.format(\n",
    "                cur_topk, k))\n",
    "            print('Mean Reciprocal Rank is {:.3f}'.format(cur_mrr))\n",
    "\n",
    "            summary_cur_model_metrics = ','.join(\n",
    "                [' '.join(['{},{:.3f}'.format(key, value)]) \n",
    "                 for key,value in summary_dict.items()])\n",
    "\n",
    "            summary_cur_model = ','.join([summary_cur_model, summary_cur_model_metrics])\n",
    "\n",
    "            # write to file\n",
    "            file.write('\\n{}'.format(summary_cur_model))\n",
    "\n",
    "file.close()"
   ]
  },
  {
   "cell_type": "code",
   "execution_count": null,
   "metadata": {
    "collapsed": true
   },
   "outputs": [],
   "source": []
  },
  {
   "cell_type": "code",
   "execution_count": null,
   "metadata": {
    "collapsed": true
   },
   "outputs": [],
   "source": []
  }
 ],
 "metadata": {
  "anaconda-cloud": {},
  "kernelspec": {
   "display_name": "Python [conda env:tensorflow]",
   "language": "python",
   "name": "conda-env-tensorflow-py"
  },
  "language_info": {
   "codemirror_mode": {
    "name": "ipython",
    "version": 3
   },
   "file_extension": ".py",
   "mimetype": "text/x-python",
   "name": "python",
   "nbconvert_exporter": "python",
   "pygments_lexer": "ipython3",
   "version": "3.5.2"
  }
 },
 "nbformat": 4,
 "nbformat_minor": 2
}
