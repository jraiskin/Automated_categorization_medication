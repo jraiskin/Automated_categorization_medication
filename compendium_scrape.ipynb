{
 "cells": [
  {
   "cell_type": "code",
   "execution_count": null,
   "metadata": {
    "collapsed": false
   },
   "outputs": [],
   "source": [
    "from utils.utils import save\n",
    "\n",
    "from selenium import webdriver\n",
    "\n",
    "from itertools import product, islice\n",
    "from time import sleep\n",
    "from collections import OrderedDict\n",
    "import re\n",
    "import argparse"
   ]
  },
  {
   "cell_type": "code",
   "execution_count": null,
   "metadata": {
    "collapsed": true
   },
   "outputs": [],
   "source": [
    "\"\"\"\n",
    "Enable passing some keyword arguments from command line.\n",
    "This does not affect the Jupyter notebook.\n",
    "\"\"\"\n",
    "# try:\n",
    "parser = argparse.ArgumentParser()\n",
    "\n",
    "parser.add_argument('--start', action='store', dest='start',\n",
    "                    help='Specify the starting iteration number', \n",
    "                    type=int,\n",
    "                    default=None)\n",
    "\n",
    "parser.add_argument('--stop', action='store', dest='stop',\n",
    "                    help='Specify the stopping iteration number', \n",
    "                    type=int, \n",
    "                    default=None)\n",
    "\n",
    "#     results = parser.parse_args()\n",
    "args, unknown = parser.parse_known_args()\n",
    "\n",
    "# if args.logdir is not None and isinstance(args.logdir, str):\n",
    "#     kwargs_simple_rnn.log_dir = str(args.logdir)\n",
    "\n",
    "start_itr = args.start\n",
    "stop_itr = args.stop"
   ]
  },
  {
   "cell_type": "code",
   "execution_count": null,
   "metadata": {
    "collapsed": false,
    "scrolled": true
   },
   "outputs": [],
   "source": [
    "url = 'https://compendium.ch/identa/searchPills.aspx?Platform=Desktop'"
   ]
  },
  {
   "cell_type": "code",
   "execution_count": null,
   "metadata": {
    "collapsed": false
   },
   "outputs": [],
   "source": [
    "driver = webdriver.Firefox()\n",
    "driver.delete_all_cookies()\n",
    "driver.get(url)"
   ]
  },
  {
   "cell_type": "code",
   "execution_count": null,
   "metadata": {
    "collapsed": false
   },
   "outputs": [],
   "source": [
    "# driver.find_elements_by_xpath('//*[@id]')\n",
    "drop_down_menus_xpath = \\\n",
    "['//*[@id=\"ctl00_MainContent_ddlGalForm\"]',\n",
    " '//*[@id=\"ctl00_MainContent_ddlGeoForm\"]',\n",
    " '//*[@id=\"ctl00_MainContent_ddlColor\"]',\n",
    " '//*[@id=\"ctl00_MainContent_ddlNotch\"]', \n",
    " '//*[@id=\"ctl00_MainContent_ddlLength\"]']\n",
    "\n",
    "click = lambda item_id, d=driver: d.find_element_by_id(item_id).click()\n",
    "search_id = 'ctl00_MainContent_btnSearch'\n",
    "reset_id = 'ctl00_MainContent_btnReset'\n",
    "# res_table_id = 'ctl00_MainContent_gvwPills'\n",
    "# res_table_id = 'ctl00_MainContent_gvwPills_ctl02_lblDescr'  # first row, text cell?\n",
    "product_list_left_id = 'listProducts'\n",
    "product_details_ids = ['ctl00_MainContent_ucProductDetail1_dvProduct_lblProductDescr', \n",
    "                       'ctl00_MainContent_ucProductDetail1_dvProduct_lblAtcDescr', \n",
    "                       'ctl00_MainContent_ucProductDetail1_dvProduct_lblAtcCode', \n",
    "                       'ctl00_MainContent_ucProductDetail1_dvProduct_lblKCH']\n",
    "\n",
    "# check if no results returned\n",
    "no_results = lambda: \\\n",
    "    len(driver.find_elements_by_id('ctl00_MainContent_lblNoDataFound')) != 0\n",
    "# map from drop-down menu options to the correct range,\n",
    "# to be used in the option's xpath\n",
    "# special case for length menu:\n",
    "# start range from 1, to check if there are no results (then skip)\n",
    "drop_down_index = lambda x, num: list(range(1, len(x) + 2)) \\\n",
    "    if len(x) == num else \\\n",
    "    list(range(2, len(x) + 2))\n",
    "\n",
    "find_digits = lambda s: [int(num) for num in re.findall('\\d+', s)]\n",
    "\n",
    "top_left_panel_digits = lambda: \\\n",
    "    find_digits(\n",
    "        driver.find_element_by_id(\n",
    "            'ctl00_MainTitle_lblTitle').text)\n",
    "\n",
    "too_many_res = lambda: \\\n",
    "    len(top_left_panel_digits()) > 0 and \\\n",
    "    top_left_panel_digits()[0] >= 100\n",
    "    \n",
    "click_results_table = lambda d=driver: \\\n",
    "    d.find_element_by_xpath('//*[@id=\"ctl00_MainContent_gvwPills\"]/tbody/tr[1]/td[2]')\\\n",
    "    .click()"
   ]
  },
  {
   "cell_type": "code",
   "execution_count": null,
   "metadata": {
    "collapsed": false
   },
   "outputs": [],
   "source": [
    "def log_results(d=driver, \n",
    "                product_list_left_id=product_list_left_id, \n",
    "                product_details_ids=product_details_ids):\n",
    "    \"\"\"\n",
    "    Returns a list of OrederedDict with the data we wish to collect.\n",
    "    \"\"\"\n",
    "    \n",
    "    res_list = []\n",
    "\n",
    "    for num in range(top_left_panel_digits()[1]):\n",
    "        # get product links (updates after each click / fetch)\n",
    "        product_list_left = d.find_element_by_id(product_list_left_id)\n",
    "        product_links = product_list_left.find_elements_by_tag_name('a')\n",
    "        if 'num_of_products' not in globals():\n",
    "            num_of_products =  len(product_links)\n",
    "            assert num_of_products == top_left_panel_digits()[1]\n",
    "        \n",
    "        product_links[num].click()\n",
    "        \n",
    "        sleep(2.5)\n",
    "        \n",
    "        res_list.append(\n",
    "            OrderedDict(\n",
    "                [(item_id, driver.find_element_by_id(item_id).text) \n",
    "                 for item_id in product_details_ids]))\n",
    "    return res_list"
   ]
  },
  {
   "cell_type": "code",
   "execution_count": null,
   "metadata": {
    "collapsed": false
   },
   "outputs": [],
   "source": [
    "# populate all dropdown menu options\n",
    "drop_down_menu_vals = {}\n",
    "for xpath in drop_down_menus_xpath:\n",
    "    elem = driver.find_elements_by_xpath(xpath)\n",
    "    assert len(elem) == 1, 'Item shuold be unique.'\n",
    "    elem = elem[0]\n",
    "    values = [i.text # i.get_attribute('value') \n",
    "              for i in elem.find_elements_by_tag_name('option') \n",
    "              if i.text != 'Alle']\n",
    "    drop_down_menu_vals[\n",
    "        elem.get_attribute('id')] = values\n",
    "    \n",
    "# number of elements in the \"length\" menu\n",
    "length_menu_num = \\\n",
    "    len(drop_down_menu_vals['ctl00_MainContent_ddlLength'])"
   ]
  },
  {
   "cell_type": "code",
   "execution_count": null,
   "metadata": {
    "collapsed": false
   },
   "outputs": [],
   "source": [
    "# get the id's from the xpaths\n",
    "menu_ids = [elem.partition('\"')[-1].rpartition('\"')[0] \n",
    "            for elem in drop_down_menus_xpath]\n",
    "# make sure\n",
    "assert set(menu_ids) == set(drop_down_menu_vals.keys())"
   ]
  },
  {
   "cell_type": "code",
   "execution_count": null,
   "metadata": {
    "collapsed": true
   },
   "outputs": [],
   "source": [
    "driver.get(url)\n",
    "click(reset_id)"
   ]
  },
  {
   "cell_type": "code",
   "execution_count": null,
   "metadata": {
    "collapsed": false,
    "scrolled": true
   },
   "outputs": [],
   "source": [
    "menu_combinations = \\\n",
    "    [drop_down_index(drop_down_menu_vals[key], \n",
    "                     length_menu_num)\n",
    "     for key in menu_ids]\n",
    "\n",
    "# create all Cartesian products\n",
    "menu_combinations = \\\n",
    "product(*menu_combinations)\n",
    "# enumerate for logging purposes\n",
    "menu_combinations = enumerate(menu_combinations)"
   ]
  },
  {
   "cell_type": "code",
   "execution_count": null,
   "metadata": {
    "collapsed": false,
    "scrolled": true
   },
   "outputs": [],
   "source": [
    "# an emaple of how all of the dropdown menus combinations might be clicked on\n",
    "driver.implicitly_wait(2)  # seconds\n",
    "# Set the amount of time to wait for a page load to complete before throwing an error\n",
    "# driver.set_page_load_timeout(2.0)\n",
    "# Set the amount of time that the script should wait during an\n",
    "# execute_async_script call before throwing an error\n",
    "# driver.set_script_timeout(2.0)\n",
    "\n",
    "data_collector_list = []\n",
    "\n",
    "if start_itr is None:\n",
    "    start_itr = 392\n",
    "if stop_itr is None:\n",
    "    stop_itr = 500\n",
    "\n",
    "iterable = islice(menu_combinations, \n",
    "                  start_itr, \n",
    "                  stop_itr)\n",
    "for itr in iterable:\n",
    "    click(reset_id)    \n",
    "    sleep(0.5)\n",
    "    \n",
    "    step, cart_prod = itr\n",
    "    # set the drop-down menu state\n",
    "    for j in range(len(cart_prod)):\n",
    "        xpath = drop_down_menus_xpath[j]+'/option[{}]'.\\\n",
    "            format(cart_prod[j])\n",
    "        driver.find_element_by_xpath(xpath).click()\n",
    "            \n",
    "    print('step number {}'.format(step))\n",
    "#     print('product is {}'.format(list(zip(menu_ids, \n",
    "#                                      cart_prod))))\n",
    "\n",
    "    # perform search\n",
    "    click(search_id)\n",
    "    sleep(0.2)\n",
    "    \n",
    "    if cart_prod[j] == 1:  # if lengths = \"Alle\" \n",
    "        if no_results():  # returns no results\n",
    "            # it is safe to skip all iterations on lengths menu\n",
    "            try:\n",
    "                [iterable.__next__() \n",
    "                 for _ in range(length_menu_num)]\n",
    "            except:\n",
    "                # if we've exceeded the iterator's length\n",
    "                # it's still ok, since the next \"islice batch\"\n",
    "                # would not lose any iteration with information\n",
    "                pass\n",
    "        elif too_many_res():  # returns too many results\n",
    "            continue  # iterate over lengths in the length menu\n",
    "        else:\n",
    "            click_results_table()\n",
    "            sleep(2.2)  # wait for new page to load\n",
    "            data_collector_list = \\\n",
    "                data_collector_list + log_results()\n",
    "            driver.get(url)\n",
    "            sleep(0.2)\n",
    "            # it is safe to skip all iterations on lengths menu\n",
    "            try:\n",
    "                [iterable.__next__() \n",
    "                 for _ in range(length_menu_num)]\n",
    "            except:\n",
    "                # if we've exceeded the iterator's length\n",
    "                # it's still ok, since the next \"islice batch\"\n",
    "                # would not lose any iteration with information\n",
    "                pass\n",
    "#     elif no_results():\n",
    "#         pass\n",
    "    else:\n",
    "        if no_results():\n",
    "            continue\n",
    "        else:\n",
    "            click_results_table()\n",
    "            sleep(2.2)  # wait for new page to load\n",
    "            data_collector_list = \\\n",
    "                data_collector_list + log_results()\n",
    "            driver.get(url)\n",
    "            sleep(0.2)"
   ]
  },
  {
   "cell_type": "code",
   "execution_count": null,
   "metadata": {
    "collapsed": false
   },
   "outputs": [],
   "source": [
    "print('Done scraping!')\n",
    "print('Saving now')"
   ]
  },
  {
   "cell_type": "code",
   "execution_count": null,
   "metadata": {
    "collapsed": false
   },
   "outputs": [],
   "source": [
    "# print(data_collector_list)\n",
    "\n",
    "def keep_unique(seq):\n",
    "    seen = []\n",
    "    seen_add = seen.append\n",
    "    return [x for x in seq if not (x in seen or seen_add(x))]\n",
    "\n",
    "# keep_unique(data_collector_list)\n",
    "\n",
    "sub_dir = 'scrape/'\n",
    "\n",
    "save(fname=sub_dir+'data_collector_list_num_{}_{}'.format(start_itr, stop_itr), \n",
    "     obj=data_collector_list)\n",
    "\n",
    "save(fname=sub_dir+'data_collector_list_unique_num_{}_{}'.format(start_itr, stop_itr), \n",
    "     obj=keep_unique(data_collector_list))"
   ]
  },
  {
   "cell_type": "code",
   "execution_count": null,
   "metadata": {
    "collapsed": true
   },
   "outputs": [],
   "source": [
    "print('Done saving!')"
   ]
  },
  {
   "cell_type": "code",
   "execution_count": null,
   "metadata": {
    "collapsed": false
   },
   "outputs": [],
   "source": [
    "driver.close()"
   ]
  },
  {
   "cell_type": "code",
   "execution_count": null,
   "metadata": {
    "collapsed": true
   },
   "outputs": [],
   "source": []
  }
 ],
 "metadata": {
  "anaconda-cloud": {},
  "kernelspec": {
   "display_name": "Python [conda env:tensorflow]",
   "language": "python",
   "name": "conda-env-tensorflow-py"
  },
  "language_info": {
   "codemirror_mode": {
    "name": "ipython",
    "version": 3
   },
   "file_extension": ".py",
   "mimetype": "text/x-python",
   "name": "python",
   "nbconvert_exporter": "python",
   "pygments_lexer": "ipython3",
   "version": "3.5.2"
  }
 },
 "nbformat": 4,
 "nbformat_minor": 2
}
