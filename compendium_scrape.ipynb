{
 "cells": [
  {
   "cell_type": "code",
   "execution_count": null,
   "metadata": {
    "collapsed": false
   },
   "outputs": [],
   "source": [
    "# from xml.dom.minidom import parse, parseString\n",
    "\n",
    "# import urllib\n",
    "# from urllib.request import urlopen, Request, build_opener, HTTPCookieProcessor\n",
    "# from urllib import urlencode\n",
    "\n",
    "# import requests\n",
    "\n",
    "# import mechanicalsoup\n",
    "# from bs4 import BeautifulSoup\n",
    "# from http.cookiejar import CookieJar\n",
    "\n",
    "from selenium import webdriver\n",
    "\n",
    "from itertools import product, islice\n",
    "\n",
    "# from sys import getsizeof\n",
    "\n",
    "from time import sleep\n",
    "\n",
    "from collections import OrderedDict\n",
    "\n",
    "import re"
   ]
  },
  {
   "cell_type": "code",
   "execution_count": null,
   "metadata": {
    "collapsed": false,
    "scrolled": true
   },
   "outputs": [],
   "source": [
    "url = 'https://compendium.ch/identa/searchPills.aspx?Platform=Desktop'"
   ]
  },
  {
   "cell_type": "code",
   "execution_count": null,
   "metadata": {
    "collapsed": false
   },
   "outputs": [],
   "source": [
    "driver = webdriver.Firefox()\n",
    "driver.delete_all_cookies()\n",
    "driver.get(url)"
   ]
  },
  {
   "cell_type": "code",
   "execution_count": null,
   "metadata": {
    "collapsed": false
   },
   "outputs": [],
   "source": [
    "# driver.find_elements_by_xpath('//*[@id]')\n",
    "drop_down_menus_xpath = \\\n",
    "['//*[@id=\"ctl00_MainContent_ddlGalForm\"]',\n",
    " '//*[@id=\"ctl00_MainContent_ddlGeoForm\"]',\n",
    " '//*[@id=\"ctl00_MainContent_ddlColor\"]',\n",
    " '//*[@id=\"ctl00_MainContent_ddlNotch\"]', \n",
    " '//*[@id=\"ctl00_MainContent_ddlLength\"]']\n",
    "\n",
    "click = lambda item_id, d=driver: d.find_element_by_id(item_id).click()\n",
    "search_id = 'ctl00_MainContent_btnSearch'\n",
    "reset_id = 'ctl00_MainContent_btnReset'\n",
    "# res_table_id = 'ctl00_MainContent_gvwPills'\n",
    "# res_table_id = 'ctl00_MainContent_gvwPills_ctl02_lblDescr'  # first row, text cell?\n",
    "product_list_left_id = 'listProducts'\n",
    "product_details_ids = ['ctl00_MainContent_ucProductDetail1_dvProduct_lblProductDescr', \n",
    "                       'ctl00_MainContent_ucProductDetail1_dvProduct_lblAtcDescr', \n",
    "                       'ctl00_MainContent_ucProductDetail1_dvProduct_lblAtcCode', \n",
    "                       'ctl00_MainContent_ucProductDetail1_dvProduct_lblKCH']\n",
    "\n",
    "\n",
    "\n",
    "# search_button = lambda d=driver: d.find_element_by_id('ctl00_MainContent_btnSearch').click()\n",
    "# reset_button = lambda d=driver: d.find_element_by_id('ctl00_MainContent_btnReset').click()\n",
    "# //*[@id=\"ctl00_MainContent_ddlGalForm\"]/option[1]\n",
    "\n",
    "# check if no results returned\n",
    "no_results = lambda: \\\n",
    "    len(driver.find_elements_by_id('ctl00_MainContent_lblNoDataFound')) != 0\n",
    "# map from drop-down menu options to the correct range,\n",
    "# to be used in the option's xpath\n",
    "# special case for length menu:\n",
    "# start range from 1, to check if there are no results (then skip)\n",
    "drop_down_index = lambda x, num: list(range(1, len(x) + 2)) \\\n",
    "    if len(x) == num else \\\n",
    "    list(range(2, len(x) + 2))\n",
    "\n",
    "find_digits = lambda s: [int(num) for num in re.findall('\\d+', s)]\n",
    "\n",
    "top_left_panel_digits = lambda: \\\n",
    "    find_digits(\n",
    "        driver.find_element_by_id(\n",
    "            'ctl00_MainTitle_lblTitle').text)\n",
    "\n",
    "too_many_res = lambda: \\\n",
    "    len(top_left_panel_digits()) > 0 and \\\n",
    "    top_left_panel_digits()[0] >= 100\n",
    "    \n",
    "click_results_table = lambda d=driver: \\\n",
    "    d.find_element_by_xpath('//*[@id=\"ctl00_MainContent_gvwPills\"]/tbody/tr[1]/td[2]')\\\n",
    "    .click()"
   ]
  },
  {
   "cell_type": "code",
   "execution_count": null,
   "metadata": {
    "collapsed": false
   },
   "outputs": [],
   "source": [
    "def log_results(d=driver, \n",
    "                product_list_left_id=product_list_left_id, \n",
    "                product_details_ids=product_details_ids):\n",
    "    sleep(0.2)\n",
    "\n",
    "    # click on results table\n",
    "    click_results_table()\n",
    "#         driver.find_element_by_class_name('gridview pills-grid').click()\n",
    "    \n",
    "    sleep(2)\n",
    "\n",
    "    for num in range(top_left_panel_digits()[1]):\n",
    "        # get product links (updates after each click / fetch)\n",
    "        product_list_left = d.find_element_by_id(product_list_left_id)\n",
    "        product_links = product_list_left.find_elements_by_tag_name('a')\n",
    "        if 'num_of_products' not in globals():\n",
    "            num_of_products =  len(product_links)\n",
    "            assert num_of_products == top_left_panel_digits()[1]\n",
    "\n",
    "#         sleep(3)\n",
    "\n",
    "        product_links[num].click()\n",
    "\n",
    "        sleep(3)\n",
    "\n",
    "        print(\n",
    "        OrderedDict(\n",
    "            [(item_id, driver.find_element_by_id(item_id).text) \n",
    "             for item_id in product_details_ids])\n",
    "        )"
   ]
  },
  {
   "cell_type": "code",
   "execution_count": null,
   "metadata": {
    "collapsed": false
   },
   "outputs": [],
   "source": [
    "# get the id's from the xpaths\n",
    "menu_ids = [elem.partition('\"')[-1].rpartition('\"')[0] \n",
    "            for elem in drop_down_menus_xpath]\n",
    "# make sure\n",
    "assert set(menu_ids) == set(drop_down_menu_vals.keys())"
   ]
  },
  {
   "cell_type": "code",
   "execution_count": null,
   "metadata": {
    "collapsed": false
   },
   "outputs": [],
   "source": [
    "# populate all dropdown menu options\n",
    "drop_down_menu_vals = {}\n",
    "for xpath in drop_down_menus_xpath:\n",
    "    elem = driver.find_elements_by_xpath(xpath)\n",
    "    assert len(elem) == 1, 'Item shuold be unique.'\n",
    "    elem = elem[0]\n",
    "    values = [i.text # i.get_attribute('value') \n",
    "              for i in elem.find_elements_by_tag_name('option') \n",
    "              if i.text != 'Alle']\n",
    "    drop_down_menu_vals[\n",
    "        elem.get_attribute('id')] = values\n",
    "    \n",
    "# number of elements in the \"length\" menu\n",
    "length_menu_num = \\\n",
    "    len(drop_down_menu_vals['ctl00_MainContent_ddlLength'])"
   ]
  },
  {
   "cell_type": "code",
   "execution_count": null,
   "metadata": {
    "collapsed": true
   },
   "outputs": [],
   "source": []
  },
  {
   "cell_type": "code",
   "execution_count": null,
   "metadata": {
    "collapsed": true
   },
   "outputs": [],
   "source": [
    "driver.get(url)\n",
    "click(reset_id)"
   ]
  },
  {
   "cell_type": "code",
   "execution_count": null,
   "metadata": {
    "collapsed": false,
    "scrolled": true
   },
   "outputs": [],
   "source": [
    "menu_combinations = \\\n",
    "    [drop_down_index(drop_down_menu_vals[key], \n",
    "                     length_menu_num)\n",
    "     for key in menu_ids]\n",
    "\n",
    "# create all Cartesian products\n",
    "menu_combinations = \\\n",
    "product(*menu_combinations)\n",
    "# enumerate for logging purposes\n",
    "menu_combinations = enumerate(menu_combinations)"
   ]
  },
  {
   "cell_type": "code",
   "execution_count": null,
   "metadata": {
    "collapsed": false,
    "scrolled": true
   },
   "outputs": [],
   "source": [
    "# an emaple of how all of the dropdown menus combinations might be clicked on\n",
    "driver.implicitly_wait(2)  # seconds\n",
    "# Set the amount of time to wait for a page load to complete before throwing an error\n",
    "# driver.set_page_load_timeout(2.0)\n",
    "# Set the amount of time that the script should wait during an\n",
    "# execute_async_script call before throwing an error\n",
    "# driver.set_script_timeout(2.0)\n",
    "\n",
    "start_itr = 392\n",
    "stop_itr = 500\n",
    "iterable = islice(menu_combinations, \n",
    "                  start_itr, \n",
    "                  stop_itr)\n",
    "for itr in iterable:\n",
    "    click(reset_id)\n",
    "#     reset_button()\n",
    "    \n",
    "    sleep(0.5)\n",
    "    \n",
    "#     for elem_id in menu_ids:\n",
    "#         wait_for_elem(driver, elem_id)\n",
    "    \n",
    "    step, cart_prod = itr\n",
    "    # set the drop-down menu state\n",
    "    for j in range(len(cart_prod)):\n",
    "        xpath = drop_down_menus_xpath[j]+'/option[{}]'.\\\n",
    "            format(cart_prod[j])\n",
    "        driver.find_element_by_xpath(xpath).click()\n",
    "            \n",
    "    print('step number {}'.format(step))\n",
    "#     print('product is {}'.format(list(zip(menu_ids, \n",
    "#                                      cart_prod))))\n",
    "\n",
    "    # perform search\n",
    "    click(search_id)\n",
    "#     search_button()\n",
    "    \n",
    "    sleep(0.2)\n",
    "#     wait_for_elem(driver, 'ctl00_MainContent_btnSearch')\n",
    "    \n",
    "    \n",
    "    if cart_prod[j] == 1:  # if lengths = \"Alle\" \n",
    "        if no_results():  # returns no results\n",
    "            # it is safe to skip all iterations on lengths menu\n",
    "            try:\n",
    "                [iterable.__next__() \n",
    "                 for _ in range(length_menu_num)]\n",
    "            except:\n",
    "                # if we've exceeded the iterator's length\n",
    "                # it's still ok, since the next \"islice batch\"\n",
    "                # would not lose any iteration with information\n",
    "                pass\n",
    "        elif too_many_res():  # returns too many results\n",
    "            continue  # iterate over lengths in the length menu\n",
    "        else:\n",
    "            log_results()\n",
    "            driver.get(url)\n",
    "            sleep(0.2)\n",
    "#     elif no_results():\n",
    "#         pass\n",
    "    else:\n",
    "        if no_results():\n",
    "            continue\n",
    "        else:\n",
    "            log_results()\n",
    "            driver.get(url)\n",
    "            sleep(0.2)"
   ]
  },
  {
   "cell_type": "code",
   "execution_count": null,
   "metadata": {
    "collapsed": false
   },
   "outputs": [],
   "source": [
    "print('done')"
   ]
  },
  {
   "cell_type": "code",
   "execution_count": null,
   "metadata": {
    "collapsed": true
   },
   "outputs": [],
   "source": []
  },
  {
   "cell_type": "code",
   "execution_count": null,
   "metadata": {
    "collapsed": true
   },
   "outputs": [],
   "source": []
  },
  {
   "cell_type": "code",
   "execution_count": null,
   "metadata": {
    "collapsed": true
   },
   "outputs": [],
   "source": []
  },
  {
   "cell_type": "code",
   "execution_count": null,
   "metadata": {
    "collapsed": true
   },
   "outputs": [],
   "source": []
  },
  {
   "cell_type": "code",
   "execution_count": null,
   "metadata": {
    "collapsed": false
   },
   "outputs": [],
   "source": [
    "clickable = driver.find_element_by_class_name('clickable')"
   ]
  },
  {
   "cell_type": "code",
   "execution_count": null,
   "metadata": {
    "collapsed": false
   },
   "outputs": [],
   "source": [
    "clickable.find_elements_by_tag_name('td')[1].click()"
   ]
  },
  {
   "cell_type": "code",
   "execution_count": null,
   "metadata": {
    "collapsed": true
   },
   "outputs": [],
   "source": []
  },
  {
   "cell_type": "code",
   "execution_count": null,
   "metadata": {
    "collapsed": true
   },
   "outputs": [],
   "source": []
  },
  {
   "cell_type": "code",
   "execution_count": null,
   "metadata": {
    "collapsed": false
   },
   "outputs": [],
   "source": [
    "click(res_table_id)"
   ]
  },
  {
   "cell_type": "code",
   "execution_count": null,
   "metadata": {
    "collapsed": false
   },
   "outputs": [],
   "source": [
    "product_list_left = driver.find_element_by_id(product_list_left_id)\n",
    "product_links = product_list_left.find_elements_by_tag_name('a')\n",
    "num_of_products = len(product_links)"
   ]
  },
  {
   "cell_type": "code",
   "execution_count": null,
   "metadata": {
    "collapsed": false
   },
   "outputs": [],
   "source": [
    "product_links[0].click()"
   ]
  },
  {
   "cell_type": "code",
   "execution_count": null,
   "metadata": {
    "collapsed": false
   },
   "outputs": [],
   "source": [
    "OrderedDict(\n",
    "    [(item_id, driver.find_element_by_id(item_id).text) \n",
    "     for item_id in product_details_ids])"
   ]
  },
  {
   "cell_type": "code",
   "execution_count": null,
   "metadata": {
    "collapsed": true
   },
   "outputs": [],
   "source": []
  },
  {
   "cell_type": "code",
   "execution_count": null,
   "metadata": {
    "collapsed": true
   },
   "outputs": [],
   "source": [
    "product_list_left = driver.find_element_by_id(product_list_left_id)\n",
    "product_links = product_list_left.find_elements_by_tag_name('a')\n",
    "num_of_products = len(product_links)"
   ]
  },
  {
   "cell_type": "code",
   "execution_count": null,
   "metadata": {
    "collapsed": true
   },
   "outputs": [],
   "source": [
    "product_links[1].click()"
   ]
  },
  {
   "cell_type": "code",
   "execution_count": null,
   "metadata": {
    "collapsed": true
   },
   "outputs": [],
   "source": []
  },
  {
   "cell_type": "code",
   "execution_count": null,
   "metadata": {
    "collapsed": false
   },
   "outputs": [],
   "source": []
  },
  {
   "cell_type": "code",
   "execution_count": null,
   "metadata": {
    "collapsed": true
   },
   "outputs": [],
   "source": []
  },
  {
   "cell_type": "code",
   "execution_count": null,
   "metadata": {
    "collapsed": false
   },
   "outputs": [],
   "source": [
    "'num_of_products' not in globals()"
   ]
  },
  {
   "cell_type": "code",
   "execution_count": null,
   "metadata": {
    "collapsed": true
   },
   "outputs": [],
   "source": []
  },
  {
   "cell_type": "code",
   "execution_count": null,
   "metadata": {
    "collapsed": true
   },
   "outputs": [],
   "source": []
  },
  {
   "cell_type": "code",
   "execution_count": null,
   "metadata": {
    "collapsed": true
   },
   "outputs": [],
   "source": []
  },
  {
   "cell_type": "code",
   "execution_count": null,
   "metadata": {
    "collapsed": false
   },
   "outputs": [],
   "source": []
  },
  {
   "cell_type": "code",
   "execution_count": null,
   "metadata": {
    "collapsed": false,
    "scrolled": true
   },
   "outputs": [],
   "source": [
    "too_many_res()"
   ]
  },
  {
   "cell_type": "code",
   "execution_count": null,
   "metadata": {
    "collapsed": true
   },
   "outputs": [],
   "source": [
    "reset_button()"
   ]
  },
  {
   "cell_type": "code",
   "execution_count": null,
   "metadata": {
    "collapsed": true
   },
   "outputs": [],
   "source": [
    "search_button()"
   ]
  },
  {
   "cell_type": "code",
   "execution_count": null,
   "metadata": {
    "collapsed": true
   },
   "outputs": [],
   "source": []
  },
  {
   "cell_type": "code",
   "execution_count": null,
   "metadata": {
    "collapsed": false
   },
   "outputs": [],
   "source": [
    "driver.close()"
   ]
  },
  {
   "cell_type": "code",
   "execution_count": null,
   "metadata": {
    "collapsed": true
   },
   "outputs": [],
   "source": []
  },
  {
   "cell_type": "code",
   "execution_count": null,
   "metadata": {
    "collapsed": true
   },
   "outputs": [],
   "source": []
  },
  {
   "cell_type": "code",
   "execution_count": null,
   "metadata": {
    "collapsed": true
   },
   "outputs": [],
   "source": []
  },
  {
   "cell_type": "code",
   "execution_count": null,
   "metadata": {
    "collapsed": true
   },
   "outputs": [],
   "source": []
  },
  {
   "cell_type": "code",
   "execution_count": null,
   "metadata": {
    "collapsed": false
   },
   "outputs": [],
   "source": [
    "br = mechanicalsoup.StatefulBrowser()\n",
    "br.set_verbose(2)\n",
    "\n",
    "# page = br.open(url)\n",
    "page = br.open(url)\n",
    "form = page.soup.form\n",
    "\n",
    "# br.get(url)\n",
    "\n",
    "# br.  # ('select#ctl00_MainContent_ddlGalForm') #, {“class”:”signin”})\n",
    "\n",
    "drop_down_menu = dict(\n",
    "    (menu['name'], \n",
    "     [opt['value'] for opt in menu.find_all('option') \n",
    "      if opt.text != 'Alle']) \n",
    " for menu in form.find_all('select'))\n",
    "\n",
    "# br.select_form('select', {'name': 'ctl00$MainContent$ddlGalForm'})\n",
    "# br.select_form('table#ctl00_MainContent_tblCriterias')\n",
    "# br.select_form('select#ctl00$MainContent$ddlGalForm')\n",
    "\n",
    "# form.find('select#ctl00$MainContent$ddlGalForm', {\"name\": \"size\", \"value\": \"medium\"})[\"checked\"] = \"\"\n",
    "# form.find(\"select\", {\"name\": \"size\", \"value\": \"medium\"})[\"checked\"] = \"\"\n",
    "\n",
    "# form.find('select', {'id': 'ctl00_MainContent_ddlGalForm'}).get('value', '')\n",
    "# form.find('select', {'id': 'ctl00_MainContent_ddlGalForm'})#['option selected']\n",
    "# form.find('select', {'id': 'ctl00_MainContent_ddlGalForm'}).find_control\n",
    "\n",
    "# br.new_control(type='identaDropdown', name='ctl00_MainContent_ddlGalForm', value='')\n",
    "\n",
    "# sf = util.system_file()\n",
    "# br.select_form(\"#biqmac\")\n",
    "# br[\"mail\"] = sf.mail\n",
    "# br[\"name\"] = sf.cluster_user\n",
    "# br[\"graphname\"] = core.filename(biqmac_file)\n",
    "# br[\"graphfile\"] = biqmac_file\n",
    "# br[\"source\"] = \"Custom Generator\"\n",
    "\n",
    "# br.get_current_form().set(\"submit\", \"mac\", force=True)\n",
    "# res = br.submit_selected()\n",
    "\n",
    "\n",
    "# br.launch_browser()\n",
    "\n",
    "# br.new_control(type='select', \n",
    "#                name='ctl00$MainContent$ddlGalForm', \n",
    "#                value='Alle')\n",
    "\n",
    "# br.get_current_form().set()\n",
    "\n",
    "# br._build_request()\n",
    "\n",
    "# br.select_form('select#ctl00_MainContent_ddlGalForm.identaDropdown')"
   ]
  },
  {
   "cell_type": "code",
   "execution_count": null,
   "metadata": {
    "collapsed": false,
    "scrolled": true
   },
   "outputs": [],
   "source": [
    "key = list(drop_down_menu.keys())[1]\n",
    "print(key)\n",
    "# br._build_request(form).data[key] = drop_down_menu[key][1]"
   ]
  },
  {
   "cell_type": "code",
   "execution_count": null,
   "metadata": {
    "collapsed": false,
    "scrolled": true
   },
   "outputs": [],
   "source": [
    "drop_down_menu"
   ]
  },
  {
   "cell_type": "code",
   "execution_count": null,
   "metadata": {
    "collapsed": true
   },
   "outputs": [],
   "source": [
    "br._build_request(form).data[key] = drop_down_menu[key][1]"
   ]
  },
  {
   "cell_type": "code",
   "execution_count": null,
   "metadata": {
    "collapsed": false
   },
   "outputs": [],
   "source": []
  },
  {
   "cell_type": "code",
   "execution_count": null,
   "metadata": {
    "collapsed": false
   },
   "outputs": [],
   "source": []
  },
  {
   "cell_type": "code",
   "execution_count": null,
   "metadata": {
    "collapsed": true
   },
   "outputs": [],
   "source": []
  },
  {
   "cell_type": "code",
   "execution_count": null,
   "metadata": {
    "collapsed": true
   },
   "outputs": [],
   "source": []
  },
  {
   "cell_type": "code",
   "execution_count": null,
   "metadata": {
    "collapsed": false
   },
   "outputs": [],
   "source": [
    "for k,v in br._build_request(form).data.items():\n",
    "    print(k, v)\n",
    "# br._build_request(form).data['']"
   ]
  },
  {
   "cell_type": "code",
   "execution_count": null,
   "metadata": {
    "collapsed": true
   },
   "outputs": [],
   "source": []
  },
  {
   "cell_type": "code",
   "execution_count": null,
   "metadata": {
    "collapsed": true
   },
   "outputs": [],
   "source": []
  },
  {
   "cell_type": "code",
   "execution_count": null,
   "metadata": {
    "collapsed": true
   },
   "outputs": [],
   "source": []
  },
  {
   "cell_type": "code",
   "execution_count": null,
   "metadata": {
    "collapsed": true
   },
   "outputs": [],
   "source": []
  },
  {
   "cell_type": "code",
   "execution_count": null,
   "metadata": {
    "collapsed": true
   },
   "outputs": [],
   "source": []
  },
  {
   "cell_type": "code",
   "execution_count": null,
   "metadata": {
    "collapsed": true
   },
   "outputs": [],
   "source": []
  },
  {
   "cell_type": "code",
   "execution_count": null,
   "metadata": {
    "collapsed": false
   },
   "outputs": [],
   "source": [
    "cj = CookieJar()\n",
    "opener = build_opener(HTTPCookieProcessor(cj))\n",
    "\n",
    "# input-type values from the html form\n",
    "# formdata = { \"username\" : username, \"password\": password, \"form-id\" : \"1234\" }\n",
    "# data_encoded = urllib.urlencode(formdata)\n",
    "# response = opener.open(\"https://page.com/login.php\", data_encoded)\n",
    "\n",
    "response = opener.open(url)\n",
    "html = response.read()\n",
    "\n",
    "# html"
   ]
  },
  {
   "cell_type": "code",
   "execution_count": null,
   "metadata": {
    "collapsed": false
   },
   "outputs": [],
   "source": [
    "soup = BeautifulSoup(html, 'html5lib')\n",
    "soup"
   ]
  },
  {
   "cell_type": "code",
   "execution_count": null,
   "metadata": {
    "collapsed": false
   },
   "outputs": [],
   "source": [
    "# help(soup.find_all('select')[0])\n",
    "\n",
    "# soup.find_all('select')[0].find_all('option')[0].text\n",
    "\n",
    "# soup.select('select')\n",
    "\n",
    "# soup.find_all('select')[0].get('tabindex')"
   ]
  },
  {
   "cell_type": "code",
   "execution_count": null,
   "metadata": {
    "collapsed": false
   },
   "outputs": [],
   "source": [
    "# drop_down_menu = dict(\n",
    "#     (menu.get('tabindex'), \n",
    "#      [opt.text for opt in menu.find_all('option') \n",
    "#       if opt.text != 'Alle']) \n",
    "#  for menu in soup.find_all('select'))\n",
    "\n",
    "drop_down_menu = dict(\n",
    "    (menu['name'], \n",
    "     [opt.text for opt in menu.find_all('option') \n",
    "      if opt.text != 'Alle']) \n",
    " for menu in soup.find_all('select'))"
   ]
  },
  {
   "cell_type": "code",
   "execution_count": null,
   "metadata": {
    "collapsed": false,
    "scrolled": true
   },
   "outputs": [],
   "source": [
    "drop_down_menu.keys()"
   ]
  },
  {
   "cell_type": "code",
   "execution_count": null,
   "metadata": {
    "collapsed": false
   },
   "outputs": [],
   "source": [
    "data = {\n",
    "    'ctl00$MainContent$ddlLength': drop_down_menu['ctl00$MainContent$ddlLength'],\n",
    "    'ctl00$ctl00$txtSearchWord': '',\n",
    "    '__EVENTTARGET': soup.find('input', {'name': '__EVENTTARGET'}).get('value', ''),\n",
    "    '__EVENTARGUMENT': soup.find('input', {'name': '__EVENTARGUMENT'}).get('value', ''),\n",
    "    '__LASTFOCUS': soup.find('input', {'name': '__LASTFOCUS'}).get('value', ''),\n",
    "    '__VIEWSTATE': soup.find('input', {'name': '__VIEWSTATE'}).get('value', ''),\n",
    "    '__VIEWSTATEGENERATOR': soup.find('input', {'name': '__VIEWSTATEGENERATOR'}).get('value', ''),\n",
    "    '__EVENTVALIDATION': soup.find('input', {'name': '__EVENTVALIDATION'}).get('value', ''),\n",
    "}"
   ]
  },
  {
   "cell_type": "code",
   "execution_count": null,
   "metadata": {
    "collapsed": true
   },
   "outputs": [],
   "source": []
  },
  {
   "cell_type": "code",
   "execution_count": null,
   "metadata": {
    "collapsed": true
   },
   "outputs": [],
   "source": []
  },
  {
   "cell_type": "code",
   "execution_count": null,
   "metadata": {
    "collapsed": false,
    "scrolled": true
   },
   "outputs": [],
   "source": [
    "# from bs4 import BeautifulSoup\n",
    "import requests\n",
    "\n",
    "url = 'https://compendium.ch/identa/searchPills.aspx'\n",
    "cj = CookieJar()\n",
    "\n",
    "with requests.Session() as session:\n",
    "    session.headers = {'User-Agent': 'Mozilla/5.0 (Macintosh; Intel Mac OS X 10_10_2) AppleWebKit/537.36 (KHTML, like Gecko) Chrome/40.0.2214.115 Safari/537.36'}\n",
    "\n",
    "    # parsing parameters\n",
    "    response = session.get(url, cookies=cj)\n",
    "    soup = BeautifulSoup(response.content, 'html5lib')\n",
    "    \n",
    "#     print(soup)\n",
    "    \n",
    "    drop_down_menu = dict(\n",
    "        (menu['name'], \n",
    "         [opt.text for opt in menu.find_all('option') \n",
    "          if opt.text != 'Alle']) \n",
    "        for menu in soup.find_all('select'))\n",
    "    \n",
    "    hidden_inputs = soup.find_all('input', {\"type\" : \"hidden\"})\n",
    "        \n",
    "    data = {\n",
    "        'ctl00$MainContent$ddlLength': drop_down_menu['ctl00$MainContent$ddlLength'][0],\n",
    "        'ctl00$ctl00$txtSearchWord': '',\n",
    "        '__EVENTTARGET': soup.find('input', {'name': '__EVENTTARGET'}).get('value', ''),\n",
    "        '__EVENTARGUMENT': soup.find('input', {'name': '__EVENTARGUMENT'}).get('value', ''),\n",
    "#         'ctl00_RadScriptManager1_TSM': soup.find('input', {'name': 'ctl00_RadScriptManager1_TSM'}).get('value', ''),\n",
    "#         'ctl00_RadStyleSheetManager1_TSSM': soup.find('input', {'name': 'ctl00_RadStyleSheetManager1_TSSM'}).get('value', ''),\n",
    "#         '__LASTFOCUS': soup.find('input', {'name': '__LASTFOCUS'}).get('value', ''),\n",
    "#         '__LASTFOCUS': soup.find('input', {'name': '__LASTFOCUS'}).get('value', ''),\n",
    "#         '__LASTFOCUS': soup.find('input', {'name': '__LASTFOCUS'}).get('value', ''),\n",
    "#         '__LASTFOCUS': soup.find('input', {'name': '__LASTFOCUS'}).get('value', ''),\n",
    "#         '__LASTFOCUS': soup.find('input', {'name': '__LASTFOCUS'}).get('value', ''),\n",
    "#         '__LASTFOCUS': soup.find('input', {'name': '__LASTFOCUS'}).get('value', ''),\n",
    "#         '__LASTFOCUS': soup.find('input', {'name': '__LASTFOCUS'}).get('value', ''),\n",
    "        '__VIEWSTATE': soup.find('input', {'name': '__VIEWSTATE'}).get('value', ''),\n",
    "        '__VIEWSTATEGENERATOR': soup.find('input', {'name': '__VIEWSTATEGENERATOR'}).get('value', ''),\n",
    "        '__EVENTVALIDATION': soup.find('input', {'name': '__EVENTVALIDATION'}).get('value', ''),\n",
    "    }\n",
    "    \n",
    "    for hidden in hidden_inputs:\n",
    "        try:\n",
    "            data[hidden] = soup.find('input', {'name': hidden}).get('value', '')\n",
    "        except:\n",
    "            pass\n",
    "\n",
    "    # parsing data\n",
    "    response = session.post(url, data=data, cookies=cj)\n",
    "\n",
    "    soup = BeautifulSoup(response.content, 'html5lib')\n",
    "    \n",
    "#     print(soup)\n",
    "#     print(data)\n",
    "    \n",
    "# #     for row in soup.select('table.tData01 tr'):\n",
    "#     for row in soup.select('table.tData01 tr'):\n",
    "#         print([td.text for td in row.find_all('td')])\n",
    "#         print(soup.select('table.tData01 tr'))\n"
   ]
  },
  {
   "cell_type": "code",
   "execution_count": null,
   "metadata": {
    "collapsed": false
   },
   "outputs": [],
   "source": [
    "soup"
   ]
  },
  {
   "cell_type": "code",
   "execution_count": null,
   "metadata": {
    "collapsed": true
   },
   "outputs": [],
   "source": []
  },
  {
   "cell_type": "code",
   "execution_count": null,
   "metadata": {
    "collapsed": true
   },
   "outputs": [],
   "source": [
    "from bs4 import BeautifulSoup\n",
    "import requests\n",
    "\n",
    "url = 'http://www.koreabaseball.com/Record/Player/HitterDetail/Game.aspx?playerId=76325'\n",
    "\n",
    "# with requests.Session() as session:\n",
    "#     session.headers = {'User-Agent': 'Mozilla/5.0 (Macintosh; Intel Mac OS X 10_10_2) AppleWebKit/537.36 (KHTML, like Gecko) Chrome/40.0.2214.115 Safari/537.36'}\n",
    "\n",
    "    # parsing parameters\n",
    "    response = session.get(url)\n",
    "    soup = BeautifulSoup(response.content, 'html5lib')\n",
    "    \n",
    "#     print(soup)\n",
    "    \n",
    "    data = {\n",
    "        'ctl00$ctl00$cphContainer$cphContents$ddlYear': '2013',\n",
    "        'ctl00$ctl00$txtSearchWord': '',\n",
    "        '__EVENTTARGET': soup.find('input', {'name': '__EVENTTARGET'}).get('value', ''),\n",
    "        '__EVENTARGUMENT': soup.find('input', {'name': '__EVENTARGUMENT'}).get('value', ''),\n",
    "        '__LASTFOCUS': soup.find('input', {'name': '__LASTFOCUS'}).get('value', ''),\n",
    "        '__VIEWSTATE': soup.find('input', {'name': '__VIEWSTATE'}).get('value', ''),\n",
    "        '__VIEWSTATEGENERATOR': soup.find('input', {'name': '__VIEWSTATEGENERATOR'}).get('value', ''),\n",
    "        '__EVENTVALIDATION': soup.find('input', {'name': '__EVENTVALIDATION'}).get('value', ''),\n",
    "    }\n",
    "\n",
    "    # parsing data\n",
    "    response = session.post(url, data=data)\n",
    "\n",
    "    soup = BeautifulSoup(response.content, 'html5lib')\n",
    "    \n",
    "#     print(soup)\n",
    "    \n",
    "#     for row in soup.select('table.tData01 tr'):\n",
    "    for row in soup.select('table.tbl tr'):\n",
    "        print([td.text for td in row.find_all('td')])\n",
    "        print(soup.select('table.tData01 tr'))\n"
   ]
  },
  {
   "cell_type": "code",
   "execution_count": null,
   "metadata": {
    "collapsed": true
   },
   "outputs": [],
   "source": []
  },
  {
   "cell_type": "code",
   "execution_count": null,
   "metadata": {
    "collapsed": true
   },
   "outputs": [],
   "source": []
  },
  {
   "cell_type": "code",
   "execution_count": null,
   "metadata": {
    "collapsed": true
   },
   "outputs": [],
   "source": []
  },
  {
   "cell_type": "code",
   "execution_count": null,
   "metadata": {
    "collapsed": true
   },
   "outputs": [],
   "source": []
  },
  {
   "cell_type": "code",
   "execution_count": null,
   "metadata": {
    "collapsed": true
   },
   "outputs": [],
   "source": []
  },
  {
   "cell_type": "code",
   "execution_count": null,
   "metadata": {
    "collapsed": true
   },
   "outputs": [],
   "source": []
  },
  {
   "cell_type": "code",
   "execution_count": null,
   "metadata": {
    "collapsed": true
   },
   "outputs": [],
   "source": []
  },
  {
   "cell_type": "code",
   "execution_count": null,
   "metadata": {
    "collapsed": true
   },
   "outputs": [],
   "source": []
  },
  {
   "cell_type": "code",
   "execution_count": null,
   "metadata": {
    "collapsed": true
   },
   "outputs": [],
   "source": []
  },
  {
   "cell_type": "code",
   "execution_count": null,
   "metadata": {
    "collapsed": false
   },
   "outputs": [],
   "source": [
    "from bs4 import BeautifulSoup\n",
    "import requests\n",
    "\n",
    "url = 'http://www.koreabaseball.com/Record/Player/HitterDetail/Game.aspx?playerId=76325'\n",
    "\n",
    "with requests.Session() as session:\n",
    "    session.headers = {'User-Agent': 'Mozilla/5.0 (Macintosh; Intel Mac OS X 10_10_2) AppleWebKit/537.36 (KHTML, like Gecko) Chrome/40.0.2214.115 Safari/537.36'}\n",
    "\n",
    "    # parsing parameters\n",
    "    response = session.get(url)\n",
    "    soup = BeautifulSoup(response.content, 'html5lib')\n",
    "    \n",
    "#     print(soup)\n",
    "    \n",
    "    data = {\n",
    "        'ctl00$ctl00$cphContainer$cphContents$ddlYear': '2013',\n",
    "        'ctl00$ctl00$txtSearchWord': '',\n",
    "        '__EVENTTARGET': soup.find('input', {'name': '__EVENTTARGET'}).get('value', ''),\n",
    "        '__EVENTARGUMENT': soup.find('input', {'name': '__EVENTARGUMENT'}).get('value', ''),\n",
    "        '__LASTFOCUS': soup.find('input', {'name': '__LASTFOCUS'}).get('value', ''),\n",
    "        '__VIEWSTATE': soup.find('input', {'name': '__VIEWSTATE'}).get('value', ''),\n",
    "        '__VIEWSTATEGENERATOR': soup.find('input', {'name': '__VIEWSTATEGENERATOR'}).get('value', ''),\n",
    "        '__EVENTVALIDATION': soup.find('input', {'name': '__EVENTVALIDATION'}).get('value', ''),\n",
    "    }\n",
    "\n",
    "    # parsing data\n",
    "    response = session.post(url, data=data)\n",
    "\n",
    "    soup = BeautifulSoup(response.content, 'html5lib')\n",
    "    \n",
    "#     print(soup)\n",
    "    \n",
    "#     for row in soup.select('table.tData01 tr'):\n",
    "    for row in soup.select('table.tbl tr'):\n",
    "        print([td.text for td in row.find_all('td')])\n",
    "        print(soup.select('table.tData01 tr'))\n"
   ]
  },
  {
   "cell_type": "code",
   "execution_count": null,
   "metadata": {
    "collapsed": false
   },
   "outputs": [],
   "source": [
    "soup.select('table.tData01 tr')"
   ]
  },
  {
   "cell_type": "code",
   "execution_count": null,
   "metadata": {
    "collapsed": true
   },
   "outputs": [],
   "source": []
  },
  {
   "cell_type": "code",
   "execution_count": null,
   "metadata": {
    "collapsed": true
   },
   "outputs": [],
   "source": []
  },
  {
   "cell_type": "code",
   "execution_count": null,
   "metadata": {
    "collapsed": true
   },
   "outputs": [],
   "source": []
  },
  {
   "cell_type": "code",
   "execution_count": null,
   "metadata": {
    "collapsed": false
   },
   "outputs": [],
   "source": [
    "soup = BeautifulSoup(data).read()\n",
    "# BeautifulSoup(YOUR_MARKUP, \"html5lib\")"
   ]
  },
  {
   "cell_type": "code",
   "execution_count": null,
   "metadata": {
    "collapsed": false
   },
   "outputs": [],
   "source": [
    "import urllib.request\n",
    "\n",
    "request = urllib.request.Request(url)\n",
    "response = urllib.request.urlopen(request)\n",
    "the_page = response.read()\n",
    "theText = the_page.decode()\n",
    "soup = BeautifulSoup(theText, 'html5lib')"
   ]
  },
  {
   "cell_type": "code",
   "execution_count": null,
   "metadata": {
    "collapsed": false
   },
   "outputs": [],
   "source": [
    "print(soup.prettify())"
   ]
  },
  {
   "cell_type": "code",
   "execution_count": null,
   "metadata": {
    "collapsed": false
   },
   "outputs": [],
   "source": [
    "soup.findAll(name='select')\n",
    "# ctl00$MainContent$ddlGalForm\n",
    "# 'ctl00_MainContent_ddlGalForm'\n",
    "# 'identaDropdown'\n",
    "# <option value=\"\">Alle</option>\n",
    "# <option selected=\"selected\" value=\"SF\">Andere</option>\n",
    "# select\n"
   ]
  },
  {
   "cell_type": "code",
   "execution_count": null,
   "metadata": {
    "collapsed": true
   },
   "outputs": [],
   "source": []
  },
  {
   "cell_type": "code",
   "execution_count": null,
   "metadata": {
    "collapsed": true
   },
   "outputs": [],
   "source": []
  },
  {
   "cell_type": "code",
   "execution_count": null,
   "metadata": {
    "collapsed": false
   },
   "outputs": [],
   "source": [
    "html = response.read()\n",
    "\n",
    "soup = BeautifulSoup(html, 'html5lib')\n",
    "\n",
    "# numbers = soup.select(\"option\")\n",
    "numbers = soup.select('ctl00_MainContent_ddlGalForm')\n",
    "print(numbers)\n",
    "\n",
    "for number in numbers:\n",
    "    number = number[\"value\"]\n",
    "    response = self.opener.open(page+\"plan?utf8=&current_subscriber=\"+number, None, 10)\n",
    "    print(response)\n",
    "    \n",
    "# response"
   ]
  },
  {
   "cell_type": "code",
   "execution_count": null,
   "metadata": {
    "collapsed": true
   },
   "outputs": [],
   "source": []
  },
  {
   "cell_type": "code",
   "execution_count": null,
   "metadata": {
    "collapsed": false
   },
   "outputs": [],
   "source": [
    "# import string, sys\n",
    "from bs4 import BeautifulSoup\n",
    "\n",
    "changable_url = 'http://www.asusparts.eu/partfinder/Asus/All%20In%20One/E%20Series'\n",
    "page = urlopen(changable_url)\n",
    "base_url = 'http://www.asusparts.eu'\n",
    "soup = BeautifulSoup(page)\n",
    "\n",
    "redirects = []\n",
    "model_info = []\n",
    "\n",
    "select = soup.find(id='myselectListModel')\n",
    "print(select.get_text())\n",
    "\n",
    "\n",
    "options = select.findAll('option')\n",
    "\n",
    "for option in options:\n",
    "    if(option.has_attr('redirectvalue')):\n",
    "       redirects.append(option['redirectvalue'])\n",
    "\n",
    "for r in redirects:\n",
    "    rpage = urlopen(base_url + r.replace(' ', '%20'))\n",
    "    s = BeautifulSoup(rpage)\n",
    "    print(s)\n",
    "\n",
    "\n",
    "# sys.exit()"
   ]
  },
  {
   "cell_type": "code",
   "execution_count": null,
   "metadata": {
    "collapsed": true
   },
   "outputs": [],
   "source": []
  },
  {
   "cell_type": "code",
   "execution_count": null,
   "metadata": {
    "collapsed": true
   },
   "outputs": [],
   "source": [
    "import urllib.request\n",
    "import urllib.parse\n",
    "url=\"http://www.nasdaq.com/symbol/dal/historical\"\n",
    "pageInputs={\"ddlTimeFrame\":\"2y\"}\n",
    "pageGets = urllib.parse.urlencode(pageInputs)\n",
    "pageGets=pageGets.encode(\"ascii\")\n",
    "serReq=urllib.request.Request(url,pageGets)\n",
    "opReq=urllib.request.urlopen(serReq)\n",
    "rdReq=opReq.read()\n",
    "dcReq=rdReq.decode()"
   ]
  },
  {
   "cell_type": "code",
   "execution_count": null,
   "metadata": {
    "collapsed": false
   },
   "outputs": [],
   "source": [
    "dcReq"
   ]
  },
  {
   "cell_type": "code",
   "execution_count": null,
   "metadata": {
    "collapsed": true
   },
   "outputs": [],
   "source": []
  },
  {
   "cell_type": "code",
   "execution_count": null,
   "metadata": {
    "collapsed": true
   },
   "outputs": [],
   "source": []
  },
  {
   "cell_type": "code",
   "execution_count": null,
   "metadata": {
    "collapsed": true
   },
   "outputs": [],
   "source": []
  },
  {
   "cell_type": "code",
   "execution_count": null,
   "metadata": {
    "collapsed": true
   },
   "outputs": [],
   "source": []
  },
  {
   "cell_type": "code",
   "execution_count": null,
   "metadata": {
    "collapsed": true
   },
   "outputs": [],
   "source": []
  },
  {
   "cell_type": "code",
   "execution_count": null,
   "metadata": {
    "collapsed": false
   },
   "outputs": [],
   "source": [
    "# data.read()\n"
   ]
  },
  {
   "cell_type": "code",
   "execution_count": null,
   "metadata": {
    "collapsed": false
   },
   "outputs": [],
   "source": [
    "from urllib.request import quote\n",
    "\n",
    "# for r in redirects:\n",
    "#     rpage = urlopen(urljoin(base_url, quote(r)))\n",
    "#     rpage = urlopen(url)\n",
    "#     s = BeautifulSoup(rpage)\n",
    "#     print(s)\n",
    "\n",
    "rpage = urlopen(url)"
   ]
  },
  {
   "cell_type": "code",
   "execution_count": null,
   "metadata": {
    "collapsed": true
   },
   "outputs": [],
   "source": []
  },
  {
   "cell_type": "code",
   "execution_count": null,
   "metadata": {
    "collapsed": true
   },
   "outputs": [],
   "source": []
  },
  {
   "cell_type": "code",
   "execution_count": null,
   "metadata": {
    "collapsed": true
   },
   "outputs": [],
   "source": []
  },
  {
   "cell_type": "code",
   "execution_count": null,
   "metadata": {
    "collapsed": false
   },
   "outputs": [],
   "source": [
    "dropdown_id = 'DropDownList1'\n",
    "button_id = 'Button1'\n",
    "table_id = 'table1'\n",
    "# browser = webdriver.Chrome()\n",
    "browser = webbrowser.Chrome()\n",
    "url = 'https://compendium.ch/identa/searchPills.aspx'\n",
    "# browser.get(url)\n",
    "browser.open_new(url)"
   ]
  },
  {
   "cell_type": "code",
   "execution_count": null,
   "metadata": {
    "collapsed": true
   },
   "outputs": [],
   "source": [
    "# Data getting\n",
    "dropdown = _browser.find_element_by_id(dropdown_id)\n",
    "for option in dropdown.dropdown.find_elements_by_tag_name('option'):\n",
    "    select = Select(browser.find_element_by_id(dropdown_id))\n",
    "    select.select_by_value(option.text)\n",
    "    button = browser.find_element_by_id(button_id)\n",
    "    button.click()\n",
    "    table = browser.find_element_by_id(table_id)\n",
    "    html = table.get_attribute('outerHTML')\n",
    "browser.close()"
   ]
  },
  {
   "cell_type": "code",
   "execution_count": null,
   "metadata": {
    "collapsed": true
   },
   "outputs": [],
   "source": []
  },
  {
   "cell_type": "code",
   "execution_count": null,
   "metadata": {
    "collapsed": true
   },
   "outputs": [],
   "source": []
  }
 ],
 "metadata": {
  "anaconda-cloud": {},
  "kernelspec": {
   "display_name": "Python [conda env:tensorflow]",
   "language": "python",
   "name": "conda-env-tensorflow-py"
  },
  "language_info": {
   "codemirror_mode": {
    "name": "ipython",
    "version": 3
   },
   "file_extension": ".py",
   "mimetype": "text/x-python",
   "name": "python",
   "nbconvert_exporter": "python",
   "pygments_lexer": "ipython3",
   "version": "3.5.2"
  }
 },
 "nbformat": 4,
 "nbformat_minor": 2
}
