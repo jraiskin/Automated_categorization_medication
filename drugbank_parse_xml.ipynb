{
 "cells": [
  {
   "cell_type": "code",
   "execution_count": 18,
   "metadata": {
    "collapsed": true
   },
   "outputs": [],
   "source": [
    "import xml.etree.ElementTree as etree\n",
    "\n",
    "from itertools import islice"
   ]
  },
  {
   "cell_type": "code",
   "execution_count": null,
   "metadata": {
    "collapsed": true
   },
   "outputs": [],
   "source": [
    "# http://boscoh.com/programming/reading-xml-serially.html"
   ]
  },
  {
   "cell_type": "code",
   "execution_count": 19,
   "metadata": {
    "collapsed": true
   },
   "outputs": [],
   "source": [
    "drugbank_xml = 'resources/drugbank_all_full_database.xml'\n",
    "drugbank_schema = 'resources/drugbank.xsd'"
   ]
  },
  {
   "cell_type": "code",
   "execution_count": 41,
   "metadata": {
    "collapsed": false,
    "scrolled": false
   },
   "outputs": [
    {
     "name": "stdout",
     "output_type": "stream",
     "text": [
      "start <Element '{http://www.drugbank.ca}atc-codes' at 0x7f98503bf1d8> {http://www.drugbank.ca}atc-codes {}\n",
      "start <Element '{http://www.drugbank.ca}atc-code' at 0x7f98503bf228> {http://www.drugbank.ca}atc-code {'code': 'B01AE02'}\n",
      "end <Element '{http://www.drugbank.ca}atc-code' at 0x7f98503bf228> {http://www.drugbank.ca}atc-code {'code': 'B01AE02'}\n",
      "end <Element '{http://www.drugbank.ca}atc-codes' at 0x7f98503bf1d8> {http://www.drugbank.ca}atc-codes {}\n"
     ]
    }
   ],
   "source": [
    "# first few (two?) elements seems like header or similar\n",
    "iterable= \\\n",
    "    islice(etree.iterparse(drugbank_xml, \n",
    "                           events=('start', 'end', 'start-ns', 'end-ns')), \n",
    "           2, 500)\n",
    "\n",
    "for event, elem in iterable:\n",
    "    if 'atc' in elem.tag:\n",
    "        print(event, elem, elem.tag, elem.attrib)"
   ]
  },
  {
   "cell_type": "code",
   "execution_count": null,
   "metadata": {
    "collapsed": true
   },
   "outputs": [],
   "source": []
  },
  {
   "cell_type": "code",
   "execution_count": null,
   "metadata": {
    "collapsed": true
   },
   "outputs": [],
   "source": []
  },
  {
   "cell_type": "code",
   "execution_count": null,
   "metadata": {
    "collapsed": true
   },
   "outputs": [],
   "source": []
  },
  {
   "cell_type": "code",
   "execution_count": null,
   "metadata": {
    "collapsed": true
   },
   "outputs": [],
   "source": []
  },
  {
   "cell_type": "code",
   "execution_count": null,
   "metadata": {
    "collapsed": true
   },
   "outputs": [],
   "source": []
  }
 ],
 "metadata": {
  "anaconda-cloud": {},
  "kernelspec": {
   "display_name": "Python [conda env:tensorflow]",
   "language": "python",
   "name": "conda-env-tensorflow-py"
  },
  "language_info": {
   "codemirror_mode": {
    "name": "ipython",
    "version": 3
   },
   "file_extension": ".py",
   "mimetype": "text/x-python",
   "name": "python",
   "nbconvert_exporter": "python",
   "pygments_lexer": "ipython3",
   "version": "3.5.2"
  }
 },
 "nbformat": 4,
 "nbformat_minor": 2
}
