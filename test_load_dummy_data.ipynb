{
 "cells": [
  {
   "cell_type": "code",
   "execution_count": 1,
   "metadata": {
    "collapsed": false
   },
   "outputs": [],
   "source": [
    "import tensorflow as tf\n",
    "import numpy as np\n",
    "import pandas as pd"
   ]
  },
  {
   "cell_type": "code",
   "execution_count": 2,
   "metadata": {
    "collapsed": false
   },
   "outputs": [],
   "source": [
    "# import os\n",
    "# print (os.name)\n",
    "# 'posix'"
   ]
  },
  {
   "cell_type": "code",
   "execution_count": 6,
   "metadata": {
    "collapsed": false
   },
   "outputs": [
    {
     "name": "stdout",
     "output_type": "stream",
     "text": [
      "tensorflow version is 0.12.1\n",
      "numpy version is 1.12.0\n",
      "pd version is 0.19.2\n"
     ]
    }
   ],
   "source": [
    "print(\"tensorflow version is %s\" %tf.__version__)\n",
    "print(\"numpy version is %s\" %np.__version__)\n",
    "print(\"pd version is %s\" %pd.__version__)"
   ]
  },
  {
   "cell_type": "code",
   "execution_count": 9,
   "metadata": {
    "collapsed": false
   },
   "outputs": [],
   "source": [
    "import getpass\n",
    "# getpass.getuser()\n",
    "# 'yarden'\n",
    "\n",
    "user_opt = {\n",
    "    'yarden' : {\n",
    "        'dummy_data_path' : r'/media/yarden/OS/Users/Yarden-/Desktop/ETH Autumn 2016/Master Thesis/Data/20170214_dummy_data_for_Yarden.csv',\n",
    "        'atc_conversion_data_path' : r'/media/yarden/OS/Users/Yarden-/Desktop/ETH Autumn 2016/Master Thesis/Data/Complete_ATCs_and_lacking_translations_V03a_20161206.csv'\n",
    "    },\n",
    "    'Yarden-' : {\n",
    "        'dummy_data_path' : None,\n",
    "        'atc_conversion_data_path' : None\n",
    "    }\n",
    "}\n",
    "\n",
    "cur_user = getpass.getuser()\n",
    "user_opt = user_opt[cur_user]"
   ]
  },
  {
   "cell_type": "code",
   "execution_count": 11,
   "metadata": {
    "collapsed": false,
    "scrolled": true
   },
   "outputs": [],
   "source": [
    "dummy_data = pd.read_csv(user_opt['dummy_data_path'], \n",
    "                         sep=';', \n",
    "                         header=0, \n",
    "                         encoding='cp850')\n",
    "\n",
    "atc_conversion_data = pd.read_csv(user_opt['dummy_data_path'], \n",
    "                                  sep=';', \n",
    "                                  header=0, \n",
    "                                  encoding='cp850')"
   ]
  },
  {
   "cell_type": "code",
   "execution_count": 15,
   "metadata": {
    "collapsed": false,
    "scrolled": false
   },
   "outputs": [
    {
     "data": {
      "text/html": [
       "<div>\n",
       "<table border=\"1\" class=\"dataframe\">\n",
       "  <thead>\n",
       "    <tr style=\"text-align: right;\">\n",
       "      <th></th>\n",
       "      <th>FREETXT</th>\n",
       "      <th>CNT</th>\n",
       "      <th>INGR</th>\n",
       "      <th>ATC</th>\n",
       "      <th>BestOutput</th>\n",
       "    </tr>\n",
       "  </thead>\n",
       "  <tbody>\n",
       "    <tr>\n",
       "      <th>0</th>\n",
       "      <td>(Saline solution)</td>\n",
       "      <td>315067</td>\n",
       "      <td>(Saline solution)</td>\n",
       "      <td>B05B</td>\n",
       "      <td>(Sugar solution) or (Ringer's solution and var...</td>\n",
       "    </tr>\n",
       "    <tr>\n",
       "      <th>1</th>\n",
       "      <td>Paracetamol</td>\n",
       "      <td>56346</td>\n",
       "      <td>Paracetamol</td>\n",
       "      <td>N02BE01</td>\n",
       "      <td>Paracetamol</td>\n",
       "    </tr>\n",
       "    <tr>\n",
       "      <th>2</th>\n",
       "      <td>Dalteparin</td>\n",
       "      <td>54330</td>\n",
       "      <td>Dalteparin</td>\n",
       "      <td>B01AB04</td>\n",
       "      <td>Dalteparin</td>\n",
       "    </tr>\n",
       "    <tr>\n",
       "      <th>3</th>\n",
       "      <td>Paracetamol</td>\n",
       "      <td>54235</td>\n",
       "      <td>Paracetamol</td>\n",
       "      <td>N02BE01</td>\n",
       "      <td>Paracetamol</td>\n",
       "    </tr>\n",
       "    <tr>\n",
       "      <th>4</th>\n",
       "      <td>(Ringer's solution and variations)</td>\n",
       "      <td>53037</td>\n",
       "      <td>(Ringer's solution and variations)</td>\n",
       "      <td>B05B</td>\n",
       "      <td>(Sugar solution) or (Ringer's solution and var...</td>\n",
       "    </tr>\n",
       "    <tr>\n",
       "      <th>5</th>\n",
       "      <td>Metamizol-Natrium</td>\n",
       "      <td>47530</td>\n",
       "      <td>Metamizol-Natrium</td>\n",
       "      <td>N02BB02</td>\n",
       "      <td>Metamizole sodium</td>\n",
       "    </tr>\n",
       "    <tr>\n",
       "      <th>6</th>\n",
       "      <td>Phenprocoumon</td>\n",
       "      <td>46118</td>\n",
       "      <td>Phenprocoumon</td>\n",
       "      <td>B01AA04</td>\n",
       "      <td>Phenprocoumon</td>\n",
       "    </tr>\n",
       "    <tr>\n",
       "      <th>7</th>\n",
       "      <td>Heparin</td>\n",
       "      <td>41495</td>\n",
       "      <td>Heparin</td>\n",
       "      <td>B01AB01</td>\n",
       "      <td>Heparin</td>\n",
       "    </tr>\n",
       "    <tr>\n",
       "      <th>8</th>\n",
       "      <td>Dalteparin</td>\n",
       "      <td>33946</td>\n",
       "      <td>Dalteparin</td>\n",
       "      <td>B01AB04</td>\n",
       "      <td>Dalteparin</td>\n",
       "    </tr>\n",
       "    <tr>\n",
       "      <th>9</th>\n",
       "      <td>Metamizol-Natrium</td>\n",
       "      <td>33211</td>\n",
       "      <td>Metamizol-Natrium</td>\n",
       "      <td>N02BB02</td>\n",
       "      <td>Metamizole sodium</td>\n",
       "    </tr>\n",
       "    <tr>\n",
       "      <th>10</th>\n",
       "      <td>(Ringer's solution and variations)</td>\n",
       "      <td>27774</td>\n",
       "      <td>(Ringer's solution and variations)</td>\n",
       "      <td>B05B</td>\n",
       "      <td>(Sugar solution) or (Ringer's solution and var...</td>\n",
       "    </tr>\n",
       "    <tr>\n",
       "      <th>11</th>\n",
       "      <td>Dalteparin</td>\n",
       "      <td>25853</td>\n",
       "      <td>Dalteparin</td>\n",
       "      <td>B01AB04</td>\n",
       "      <td>Dalteparin</td>\n",
       "    </tr>\n",
       "    <tr>\n",
       "      <th>12</th>\n",
       "      <td>Esomeprazol</td>\n",
       "      <td>24757</td>\n",
       "      <td>Esomeprazol</td>\n",
       "      <td>A02BC05</td>\n",
       "      <td>Esomeprazole</td>\n",
       "    </tr>\n",
       "    <tr>\n",
       "      <th>13</th>\n",
       "      <td>Furosemid</td>\n",
       "      <td>20810</td>\n",
       "      <td>Furosemid</td>\n",
       "      <td>C03CA01</td>\n",
       "      <td>Furosemide</td>\n",
       "    </tr>\n",
       "    <tr>\n",
       "      <th>14</th>\n",
       "      <td>Acetylsalicylsõure</td>\n",
       "      <td>19254</td>\n",
       "      <td>Acetylsalicylsõure</td>\n",
       "      <td>B01AC06</td>\n",
       "      <td>Acetylsalicylic acid</td>\n",
       "    </tr>\n",
       "  </tbody>\n",
       "</table>\n",
       "</div>"
      ],
      "text/plain": [
       "                               FREETXT     CNT  \\\n",
       "0                    (Saline solution)  315067   \n",
       "1                          Paracetamol   56346   \n",
       "2                           Dalteparin   54330   \n",
       "3                          Paracetamol   54235   \n",
       "4   (Ringer's solution and variations)   53037   \n",
       "5                    Metamizol-Natrium   47530   \n",
       "6                        Phenprocoumon   46118   \n",
       "7                              Heparin   41495   \n",
       "8                           Dalteparin   33946   \n",
       "9                    Metamizol-Natrium   33211   \n",
       "10  (Ringer's solution and variations)   27774   \n",
       "11                          Dalteparin   25853   \n",
       "12                         Esomeprazol   24757   \n",
       "13                           Furosemid   20810   \n",
       "14                  Acetylsalicylsõure   19254   \n",
       "\n",
       "                                  INGR      ATC  \\\n",
       "0                    (Saline solution)     B05B   \n",
       "1                          Paracetamol  N02BE01   \n",
       "2                           Dalteparin  B01AB04   \n",
       "3                          Paracetamol  N02BE01   \n",
       "4   (Ringer's solution and variations)     B05B   \n",
       "5                    Metamizol-Natrium  N02BB02   \n",
       "6                        Phenprocoumon  B01AA04   \n",
       "7                              Heparin  B01AB01   \n",
       "8                           Dalteparin  B01AB04   \n",
       "9                    Metamizol-Natrium  N02BB02   \n",
       "10  (Ringer's solution and variations)     B05B   \n",
       "11                          Dalteparin  B01AB04   \n",
       "12                         Esomeprazol  A02BC05   \n",
       "13                           Furosemid  C03CA01   \n",
       "14                  Acetylsalicylsõure  B01AC06   \n",
       "\n",
       "                                           BestOutput  \n",
       "0   (Sugar solution) or (Ringer's solution and var...  \n",
       "1                                         Paracetamol  \n",
       "2                                          Dalteparin  \n",
       "3                                         Paracetamol  \n",
       "4   (Sugar solution) or (Ringer's solution and var...  \n",
       "5                                   Metamizole sodium  \n",
       "6                                       Phenprocoumon  \n",
       "7                                             Heparin  \n",
       "8                                          Dalteparin  \n",
       "9                                   Metamizole sodium  \n",
       "10  (Sugar solution) or (Ringer's solution and var...  \n",
       "11                                         Dalteparin  \n",
       "12                                       Esomeprazole  \n",
       "13                                         Furosemide  \n",
       "14                               Acetylsalicylic acid  "
      ]
     },
     "execution_count": 15,
     "metadata": {},
     "output_type": "execute_result"
    }
   ],
   "source": [
    "# print (dummy_data.columns)\n",
    "# ['FREETXT', 'CNT', 'INGR', 'ATC', 'BestOutput']\n",
    "\n",
    "dummy_data.head(15)"
   ]
  },
  {
   "cell_type": "code",
   "execution_count": 16,
   "metadata": {
    "collapsed": false
   },
   "outputs": [
    {
     "data": {
      "text/plain": [
       "1.0"
      ]
     },
     "execution_count": 16,
     "metadata": {},
     "output_type": "execute_result"
    }
   ],
   "source": [
    "sum(dummy_data['FREETXT'] == dummy_data['INGR']) / float(dummy_data.shape[0])"
   ]
  },
  {
   "cell_type": "code",
   "execution_count": 17,
   "metadata": {
    "collapsed": false
   },
   "outputs": [
    {
     "data": {
      "text/plain": [
       "0.36785009861932938"
      ]
     },
     "execution_count": 17,
     "metadata": {},
     "output_type": "execute_result"
    }
   ],
   "source": [
    "sum(dummy_data['FREETXT'] == dummy_data['BestOutput']) / float(dummy_data.shape[0])"
   ]
  },
  {
   "cell_type": "code",
   "execution_count": null,
   "metadata": {
    "collapsed": true
   },
   "outputs": [],
   "source": []
  }
 ],
 "metadata": {
  "anaconda-cloud": {},
  "kernelspec": {
   "display_name": "Python [conda env:tensorflow]",
   "language": "python",
   "name": "conda-env-tensorflow-py"
  },
  "language_info": {
   "codemirror_mode": {
    "name": "ipython",
    "version": 3
   },
   "file_extension": ".py",
   "mimetype": "text/x-python",
   "name": "python",
   "nbconvert_exporter": "python",
   "pygments_lexer": "ipython3",
   "version": "3.5.2"
  }
 },
 "nbformat": 4,
 "nbformat_minor": 2
}
