{
 "cells": [
  {
   "cell_type": "code",
   "execution_count": 1,
   "metadata": {
    "collapsed": false
   },
   "outputs": [],
   "source": [
    "import tensorflow as tf\n",
    "import numpy as np\n",
    "import pandas as pd\n",
    "\n",
    "from collections import Counter\n",
    "from math import isnan\n",
    "\n",
    "import matplotlib.pyplot as plt\n",
    "\n",
    "import re"
   ]
  },
  {
   "cell_type": "code",
   "execution_count": 2,
   "metadata": {
    "collapsed": false
   },
   "outputs": [],
   "source": [
    "# import os\n",
    "# print (os.name)\n",
    "# 'posix'"
   ]
  },
  {
   "cell_type": "code",
   "execution_count": 3,
   "metadata": {
    "collapsed": false
   },
   "outputs": [
    {
     "name": "stdout",
     "output_type": "stream",
     "text": [
      "tensorflow version is 1.0.0\n",
      "numpy version is 1.12.0\n",
      "pd version is 0.19.2\n"
     ]
    }
   ],
   "source": [
    "print('tensorflow version is {}'.format(tf.__version__))\n",
    "print('numpy version is {}'.format(np.__version__))\n",
    "print('pd version is {}'.format(pd.__version__))"
   ]
  },
  {
   "cell_type": "code",
   "execution_count": 4,
   "metadata": {
    "collapsed": false
   },
   "outputs": [],
   "source": [
    "import getpass\n",
    "# getpass.getuser()\n",
    "# 'yarden'\n",
    "\n",
    "user_opt = {\n",
    "    'yarden' : {\n",
    "        'data_path' : r'/media/yarden/OS/Users/Yarden-/Desktop/ETH Autumn 2016/Master Thesis/Data/20170303_EXPORT_for_Yarden.csv',\n",
    "#         'data_path' : r'/home/yarden/git/Automated_categorization_medication/data/20170303_EXPORT_for_Yarden.csv',\n",
    "        'atc_conversion_data_path' : r'/media/yarden/OS/Users/Yarden-/Desktop/ETH Autumn 2016/Master Thesis/Data/Complete_ATCs_and_lacking_translations_V03a_20161206.csv'\n",
    "    },\n",
    "    'Yarden-' : {\n",
    "        'dummy_data_path' : None,\n",
    "        'atc_conversion_data_path' : None\n",
    "    }\n",
    "}\n",
    "\n",
    "cur_user = getpass.getuser()\n",
    "user_opt = user_opt[cur_user]"
   ]
  },
  {
   "cell_type": "code",
   "execution_count": 5,
   "metadata": {
    "collapsed": false,
    "scrolled": true
   },
   "outputs": [],
   "source": [
    "main_data = pd.read_csv(user_opt['data_path'], \n",
    "                         sep=';', \n",
    "                         header=0, \n",
    "                         encoding='cp850')\n",
    "\n",
    "atc_conversion_data = pd.read_csv(user_opt['atc_conversion_data_path'], \n",
    "                                  sep=';', \n",
    "                                  header=0, \n",
    "                                  encoding='cp850')"
   ]
  },
  {
   "cell_type": "code",
   "execution_count": 6,
   "metadata": {
    "collapsed": false,
    "scrolled": false
   },
   "outputs": [
    {
     "data": {
      "text/html": [
       "<div>\n",
       "<table border=\"1\" class=\"dataframe\">\n",
       "  <thead>\n",
       "    <tr style=\"text-align: right;\">\n",
       "      <th></th>\n",
       "      <th>FREETXT</th>\n",
       "      <th>CNT</th>\n",
       "      <th>INGR</th>\n",
       "      <th>ATC</th>\n",
       "      <th>BestOutput</th>\n",
       "      <th>EnglishVsGerman</th>\n",
       "      <th>MoreATCs</th>\n",
       "    </tr>\n",
       "  </thead>\n",
       "  <tbody>\n",
       "    <tr>\n",
       "      <th>0</th>\n",
       "      <td>NaCl 0.9%</td>\n",
       "      <td>315067</td>\n",
       "      <td>(Saline solution)</td>\n",
       "      <td>B05B</td>\n",
       "      <td>(Sugar solution) or (Ringer's solution and var...</td>\n",
       "      <td>English</td>\n",
       "      <td>NaN</td>\n",
       "    </tr>\n",
       "    <tr>\n",
       "      <th>1</th>\n",
       "      <td>Dafalgan (Filmtabl 1 g) / Paracetamol 1000mg</td>\n",
       "      <td>56346</td>\n",
       "      <td>Paracetamol</td>\n",
       "      <td>N02BE01</td>\n",
       "      <td>Paracetamol</td>\n",
       "      <td>English</td>\n",
       "      <td>NaN</td>\n",
       "    </tr>\n",
       "    <tr>\n",
       "      <th>2</th>\n",
       "      <td>Fragmin (Inj L÷s 5000 E/0.2ml) Fertigspr / Dal...</td>\n",
       "      <td>54330</td>\n",
       "      <td>Dalteparin</td>\n",
       "      <td>B01AB04</td>\n",
       "      <td>Dalteparin</td>\n",
       "      <td>English</td>\n",
       "      <td>NaN</td>\n",
       "    </tr>\n",
       "    <tr>\n",
       "      <th>3</th>\n",
       "      <td>Perfalgan (Inf L÷s 1 g/100ml) Durchstf / Parac...</td>\n",
       "      <td>54235</td>\n",
       "      <td>Paracetamol</td>\n",
       "      <td>N02BE01</td>\n",
       "      <td>Paracetamol</td>\n",
       "      <td>English</td>\n",
       "      <td>NaN</td>\n",
       "    </tr>\n",
       "    <tr>\n",
       "      <th>4</th>\n",
       "      <td>Ringerfundin</td>\n",
       "      <td>53037</td>\n",
       "      <td>(Ringer's solution and variations)</td>\n",
       "      <td>B05B</td>\n",
       "      <td>(Sugar solution) or (Ringer's solution and var...</td>\n",
       "      <td>English</td>\n",
       "      <td>NaN</td>\n",
       "    </tr>\n",
       "    <tr>\n",
       "      <th>5</th>\n",
       "      <td>Novalgin (Filmtabl 500 mg) / Metamizol 500mg</td>\n",
       "      <td>47530</td>\n",
       "      <td>Metamizol-Natrium</td>\n",
       "      <td>N02BB02</td>\n",
       "      <td>Metamizole sodium</td>\n",
       "      <td>English</td>\n",
       "      <td>NaN</td>\n",
       "    </tr>\n",
       "    <tr>\n",
       "      <th>6</th>\n",
       "      <td>Marcoumar (Tabl 3 mg) / Phenprocoumon 3mg</td>\n",
       "      <td>46118</td>\n",
       "      <td>Phenprocoumon</td>\n",
       "      <td>B01AA04</td>\n",
       "      <td>Phenprocoumon</td>\n",
       "      <td>English</td>\n",
       "      <td>NaN</td>\n",
       "    </tr>\n",
       "    <tr>\n",
       "      <th>7</th>\n",
       "      <td>Heparin</td>\n",
       "      <td>41495</td>\n",
       "      <td>Heparin</td>\n",
       "      <td>B01AB01</td>\n",
       "      <td>Heparin</td>\n",
       "      <td>English</td>\n",
       "      <td>NaN</td>\n",
       "    </tr>\n",
       "    <tr>\n",
       "      <th>8</th>\n",
       "      <td>Fragmin (Inj L÷s 5000 E/0.2ml) Fertspr / Dalte...</td>\n",
       "      <td>33946</td>\n",
       "      <td>Dalteparin</td>\n",
       "      <td>B01AB04</td>\n",
       "      <td>Dalteparin</td>\n",
       "      <td>English</td>\n",
       "      <td>NaN</td>\n",
       "    </tr>\n",
       "    <tr>\n",
       "      <th>9</th>\n",
       "      <td>Novaminsulfon SIN Injektionsl÷sung 50% Amp 2ml...</td>\n",
       "      <td>33211</td>\n",
       "      <td>Metamizol-Natrium</td>\n",
       "      <td>N02BB02</td>\n",
       "      <td>Metamizole sodium</td>\n",
       "      <td>English</td>\n",
       "      <td>NaN</td>\n",
       "    </tr>\n",
       "    <tr>\n",
       "      <th>10</th>\n",
       "      <td>Ringer-Lactat</td>\n",
       "      <td>27774</td>\n",
       "      <td>(Ringer's solution and variations)</td>\n",
       "      <td>B05B</td>\n",
       "      <td>(Sugar solution) or (Ringer's solution and var...</td>\n",
       "      <td>English</td>\n",
       "      <td>NaN</td>\n",
       "    </tr>\n",
       "    <tr>\n",
       "      <th>11</th>\n",
       "      <td>Fragmin (Inj L÷s 2500 E/0.2ml) Fertigspr / Dal...</td>\n",
       "      <td>25853</td>\n",
       "      <td>Dalteparin</td>\n",
       "      <td>B01AB04</td>\n",
       "      <td>Dalteparin</td>\n",
       "      <td>English</td>\n",
       "      <td>NaN</td>\n",
       "    </tr>\n",
       "    <tr>\n",
       "      <th>12</th>\n",
       "      <td>Nexium Mups 40 (Tabl 40 mg) / Esomeprazol 40mg</td>\n",
       "      <td>24757</td>\n",
       "      <td>Esomeprazol</td>\n",
       "      <td>A02BC05</td>\n",
       "      <td>Esomeprazole</td>\n",
       "      <td>English</td>\n",
       "      <td>NaN</td>\n",
       "    </tr>\n",
       "    <tr>\n",
       "      <th>13</th>\n",
       "      <td>Lasix (Inj L÷s 20 mg/2ml) Amp / Furosemid 20mg</td>\n",
       "      <td>20810</td>\n",
       "      <td>Furosemid</td>\n",
       "      <td>C03CA01</td>\n",
       "      <td>Furosemide</td>\n",
       "      <td>English</td>\n",
       "      <td>NaN</td>\n",
       "    </tr>\n",
       "    <tr>\n",
       "      <th>14</th>\n",
       "      <td>Aspirin Cardio (Filmtabl 100 mg) / Acetylsalic...</td>\n",
       "      <td>19254</td>\n",
       "      <td>Acetylsalicylsõure</td>\n",
       "      <td>B01AC06</td>\n",
       "      <td>Acetylsalicylic acid</td>\n",
       "      <td>English</td>\n",
       "      <td>NaN</td>\n",
       "    </tr>\n",
       "  </tbody>\n",
       "</table>\n",
       "</div>"
      ],
      "text/plain": [
       "                                              FREETXT     CNT  \\\n",
       "0                                           NaCl 0.9%  315067   \n",
       "1        Dafalgan (Filmtabl 1 g) / Paracetamol 1000mg   56346   \n",
       "2   Fragmin (Inj L÷s 5000 E/0.2ml) Fertigspr / Dal...   54330   \n",
       "3   Perfalgan (Inf L÷s 1 g/100ml) Durchstf / Parac...   54235   \n",
       "4                                        Ringerfundin   53037   \n",
       "5        Novalgin (Filmtabl 500 mg) / Metamizol 500mg   47530   \n",
       "6           Marcoumar (Tabl 3 mg) / Phenprocoumon 3mg   46118   \n",
       "7                                             Heparin   41495   \n",
       "8   Fragmin (Inj L÷s 5000 E/0.2ml) Fertspr / Dalte...   33946   \n",
       "9   Novaminsulfon SIN Injektionsl÷sung 50% Amp 2ml...   33211   \n",
       "10                                      Ringer-Lactat   27774   \n",
       "11  Fragmin (Inj L÷s 2500 E/0.2ml) Fertigspr / Dal...   25853   \n",
       "12     Nexium Mups 40 (Tabl 40 mg) / Esomeprazol 40mg   24757   \n",
       "13     Lasix (Inj L÷s 20 mg/2ml) Amp / Furosemid 20mg   20810   \n",
       "14  Aspirin Cardio (Filmtabl 100 mg) / Acetylsalic...   19254   \n",
       "\n",
       "                                  INGR      ATC  \\\n",
       "0                    (Saline solution)     B05B   \n",
       "1                          Paracetamol  N02BE01   \n",
       "2                           Dalteparin  B01AB04   \n",
       "3                          Paracetamol  N02BE01   \n",
       "4   (Ringer's solution and variations)     B05B   \n",
       "5                    Metamizol-Natrium  N02BB02   \n",
       "6                        Phenprocoumon  B01AA04   \n",
       "7                              Heparin  B01AB01   \n",
       "8                           Dalteparin  B01AB04   \n",
       "9                    Metamizol-Natrium  N02BB02   \n",
       "10  (Ringer's solution and variations)     B05B   \n",
       "11                          Dalteparin  B01AB04   \n",
       "12                         Esomeprazol  A02BC05   \n",
       "13                           Furosemid  C03CA01   \n",
       "14                  Acetylsalicylsõure  B01AC06   \n",
       "\n",
       "                                           BestOutput EnglishVsGerman MoreATCs  \n",
       "0   (Sugar solution) or (Ringer's solution and var...         English      NaN  \n",
       "1                                         Paracetamol         English      NaN  \n",
       "2                                          Dalteparin         English      NaN  \n",
       "3                                         Paracetamol         English      NaN  \n",
       "4   (Sugar solution) or (Ringer's solution and var...         English      NaN  \n",
       "5                                   Metamizole sodium         English      NaN  \n",
       "6                                       Phenprocoumon         English      NaN  \n",
       "7                                             Heparin         English      NaN  \n",
       "8                                          Dalteparin         English      NaN  \n",
       "9                                   Metamizole sodium         English      NaN  \n",
       "10  (Sugar solution) or (Ringer's solution and var...         English      NaN  \n",
       "11                                         Dalteparin         English      NaN  \n",
       "12                                       Esomeprazole         English      NaN  \n",
       "13                                         Furosemide         English      NaN  \n",
       "14                               Acetylsalicylic acid         English      NaN  "
      ]
     },
     "execution_count": 6,
     "metadata": {},
     "output_type": "execute_result"
    }
   ],
   "source": [
    "main_data.head(15)"
   ]
  },
  {
   "cell_type": "code",
   "execution_count": 7,
   "metadata": {
    "collapsed": true
   },
   "outputs": [],
   "source": [
    "# sum(main_data['FREETXT'] == main_data['INGR']) / float(main_data.shape[0])\n",
    "# sum(main_data['FREETXT'] == main_data['BestOutput']) / float(main_data.shape[0])"
   ]
  },
  {
   "cell_type": "code",
   "execution_count": 8,
   "metadata": {
    "collapsed": false
   },
   "outputs": [],
   "source": [
    "atc_freq = Counter(main_data['ATC'])\n",
    "\n",
    "# filter out 'nan'\n",
    "atc_freq = {k: atc_freq[k] for k in atc_freq if isinstance(k, str)}\n",
    "# atc_freq"
   ]
  },
  {
   "cell_type": "code",
   "execution_count": 9,
   "metadata": {
    "collapsed": false,
    "scrolled": true
   },
   "outputs": [
    {
     "name": "stdout",
     "output_type": "stream",
     "text": [
      "Number of observations: 2028. \n",
      "Number of ATC labels: 558. \n",
      "Mean number of occurrences per ATC code: 3.63.\n"
     ]
    }
   ],
   "source": [
    "print(\n",
    "    'Number of observations: {}.'.format(sum(atc_freq.values())), '\\n'\n",
    "    'Number of ATC labels: {}.'.format(len(atc_freq.keys())), '\\n'\n",
    "    'Mean number of occurrences per ATC code: {:.3}.'.format(np.mean([float(k) for k in atc_freq.values()]))\n",
    ")"
   ]
  },
  {
   "cell_type": "code",
   "execution_count": 10,
   "metadata": {
    "collapsed": false
   },
   "outputs": [
    {
     "data": {
      "image/png": "[encoded data removed]",
      "text/plain": [
       "<matplotlib.figure.Figure at 0x7fcbf269ff28>"
      ]
     },
     "metadata": {},
     "output_type": "display_data"
    }
   ],
   "source": [
    "atc_label_freq = [v for v in atc_freq.values()]\n",
    "hist, bins = np.histogram(atc_label_freq, \n",
    "                          bins=np.max(atc_label_freq))\n",
    "width = 1 * (bins[1] - bins[0])\n",
    "center = (bins[:-1] + bins[1:]) / 2\n",
    "plt.bar(center, hist, align='center', width=width)\n",
    "plt.xlabel('Number of label appearance')\n",
    "plt.ylabel('Frequency')\n",
    "plt.title('Historgram of all label appearance')\n",
    "plt.show()\n",
    "\n",
    "# fig, ax = plt.subplots()\n",
    "# ax.bar(center, hist, align='center', width=width)\n",
    "# fig.savefig(\"1.png\")"
   ]
  },
  {
   "cell_type": "code",
   "execution_count": 11,
   "metadata": {
    "collapsed": false
   },
   "outputs": [
    {
     "data": {
      "image/png": "[encoded data removed]",
      "text/plain": [
       "<matplotlib.figure.Figure at 0x7fcbf25be9e8>"
      ]
     },
     "metadata": {},
     "output_type": "display_data"
    },
    {
     "name": "stdout",
     "output_type": "stream",
     "text": [
      "There are 212 labels that appear only once. \n",
      "This leaves 346 labels, 115 of which appear 5 times or more and 47 appearing at least 10 times\n"
     ]
    }
   ],
   "source": [
    "atc_label_freq_filtered = [v for v in atc_freq.values() if v <= 10]\n",
    "hist, bins = np.histogram(atc_label_freq_filtered, \n",
    "                          bins=np.max(atc_label_freq_filtered))\n",
    "width = 1 * (bins[1] - bins[0])\n",
    "center = (bins[:-1] + bins[1:]) / 2\n",
    "plt.bar(center, hist, align='center', width=width)\n",
    "plt.xlabel('Number of label appearance')\n",
    "plt.ylabel('Frequency')\n",
    "plt.title('Historgram of label appearance, appearing 10 times or less')\n",
    "plt.show()\n",
    "\n",
    "appearing_once_labels = len([one for one in atc_label_freq if one == 1])\n",
    "appearing_5more_labels = len([f for f in atc_label_freq if f >= 5])\n",
    "appearing_10more_labels = len([f for f in atc_label_freq if f >= 10])\n",
    "\n",
    "print('There are {} labels that appear only once.'.\n",
    "      format(appearing_once_labels, ), \n",
    "      '\\nThis leaves {} labels, {} of which appear 5 times or more and {} appearing at least 10 times'.\n",
    "      format(len(atc_label_freq) - appearing_once_labels, \n",
    "             appearing_5more_labels, \n",
    "             appearing_10more_labels))"
   ]
  },
  {
   "cell_type": "code",
   "execution_count": 12,
   "metadata": {
    "collapsed": false
   },
   "outputs": [
    {
     "data": {
      "image/png": "[encoded data removed]",
      "text/plain": [
       "<matplotlib.figure.Figure at 0x7fcbf261b9e8>"
      ]
     },
     "metadata": {},
     "output_type": "display_data"
    }
   ],
   "source": [
    "atc_label_freq_high_filtered = [v for v in atc_freq.values() if v >= 10]\n",
    "\n",
    "hist, bins = np.histogram(atc_label_freq_high_filtered, \n",
    "                          bins=np.max(atc_label_freq_high_filtered))\n",
    "width = 1 * (bins[1] - bins[0])\n",
    "center = (bins[:-1] + bins[1:]) / 2\n",
    "plt.bar(center, hist, align='center', width=width)\n",
    "plt.xlabel('Number of label appearance')\n",
    "plt.ylabel('Frequency')\n",
    "plt.title('Historgram of label appearance, appearing at least 10 times')\n",
    "plt.show()"
   ]
  },
  {
   "cell_type": "code",
   "execution_count": null,
   "metadata": {
    "collapsed": true
   },
   "outputs": [],
   "source": []
  },
  {
   "cell_type": "code",
   "execution_count": null,
   "metadata": {
    "collapsed": true
   },
   "outputs": [],
   "source": []
  },
  {
   "cell_type": "code",
   "execution_count": 13,
   "metadata": {
    "collapsed": false
   },
   "outputs": [
    {
     "data": {
      "text/html": [
       "<div>\n",
       "<table border=\"1\" class=\"dataframe\">\n",
       "  <thead>\n",
       "    <tr style=\"text-align: right;\">\n",
       "      <th></th>\n",
       "      <th>SummevonCNT</th>\n",
       "      <th>INGR</th>\n",
       "      <th>ATC</th>\n",
       "      <th>BestOutput</th>\n",
       "      <th>EnglishVsGerman</th>\n",
       "      <th>MoreATCs</th>\n",
       "    </tr>\n",
       "  </thead>\n",
       "  <tbody>\n",
       "    <tr>\n",
       "      <th>0</th>\n",
       "      <td>29</td>\n",
       "      <td>Nortriptylin</td>\n",
       "      <td>N06AA10</td>\n",
       "      <td>Nortriptyline</td>\n",
       "      <td>English</td>\n",
       "      <td>NaN</td>\n",
       "    </tr>\n",
       "    <tr>\n",
       "      <th>1</th>\n",
       "      <td>29</td>\n",
       "      <td>Opipramol</td>\n",
       "      <td>N06AA05</td>\n",
       "      <td>Opipramol</td>\n",
       "      <td>English</td>\n",
       "      <td>NaN</td>\n",
       "    </tr>\n",
       "    <tr>\n",
       "      <th>2</th>\n",
       "      <td>29</td>\n",
       "      <td>Pindolol</td>\n",
       "      <td>C07AA03</td>\n",
       "      <td>Pindolol</td>\n",
       "      <td>English</td>\n",
       "      <td>NaN</td>\n",
       "    </tr>\n",
       "    <tr>\n",
       "      <th>3</th>\n",
       "      <td>29</td>\n",
       "      <td>Tenidap</td>\n",
       "      <td>M01AX23</td>\n",
       "      <td>Tenidap</td>\n",
       "      <td>English</td>\n",
       "      <td>NaN</td>\n",
       "    </tr>\n",
       "    <tr>\n",
       "      <th>4</th>\n",
       "      <td>28</td>\n",
       "      <td>Cocain</td>\n",
       "      <td>N01BC01</td>\n",
       "      <td>Cocaine</td>\n",
       "      <td>English</td>\n",
       "      <td>R02AD03;S01HA01;S02DA02</td>\n",
       "    </tr>\n",
       "    <tr>\n",
       "      <th>5</th>\n",
       "      <td>27</td>\n",
       "      <td>Diflucortolon</td>\n",
       "      <td>D07AC06</td>\n",
       "      <td>Diflucortolone</td>\n",
       "      <td>English</td>\n",
       "      <td>D07XC04</td>\n",
       "    </tr>\n",
       "    <tr>\n",
       "      <th>6</th>\n",
       "      <td>27</td>\n",
       "      <td>Flutamid</td>\n",
       "      <td>L02BB01</td>\n",
       "      <td>Flutamide</td>\n",
       "      <td>English</td>\n",
       "      <td>NaN</td>\n",
       "    </tr>\n",
       "    <tr>\n",
       "      <th>7</th>\n",
       "      <td>26</td>\n",
       "      <td>Carbomer</td>\n",
       "      <td>S01XA20</td>\n",
       "      <td>Artificial tears and other indifferent prepara...</td>\n",
       "      <td>English</td>\n",
       "      <td>NaN</td>\n",
       "    </tr>\n",
       "    <tr>\n",
       "      <th>8</th>\n",
       "      <td>26</td>\n",
       "      <td>Histamin-H2-Rezeptorantagonisten</td>\n",
       "      <td>A02BA</td>\n",
       "      <td>H2-receptor antagonists</td>\n",
       "      <td>English</td>\n",
       "      <td>NaN</td>\n",
       "    </tr>\n",
       "    <tr>\n",
       "      <th>9</th>\n",
       "      <td>25</td>\n",
       "      <td>Maprotilin</td>\n",
       "      <td>N06AA21</td>\n",
       "      <td>Maprotiline</td>\n",
       "      <td>English</td>\n",
       "      <td>NaN</td>\n",
       "    </tr>\n",
       "    <tr>\n",
       "      <th>10</th>\n",
       "      <td>24</td>\n",
       "      <td>Dikaliumclorazepat</td>\n",
       "      <td>N05BA05</td>\n",
       "      <td>Potassium clorazepate</td>\n",
       "      <td>English</td>\n",
       "      <td>NaN</td>\n",
       "    </tr>\n",
       "    <tr>\n",
       "      <th>11</th>\n",
       "      <td>24</td>\n",
       "      <td>Talbutal</td>\n",
       "      <td>N05CA07</td>\n",
       "      <td>Talbutal</td>\n",
       "      <td>English</td>\n",
       "      <td>NaN</td>\n",
       "    </tr>\n",
       "    <tr>\n",
       "      <th>12</th>\n",
       "      <td>23</td>\n",
       "      <td>Cycloserin</td>\n",
       "      <td>J04AB01</td>\n",
       "      <td>Cycloserine</td>\n",
       "      <td>English</td>\n",
       "      <td>NaN</td>\n",
       "    </tr>\n",
       "    <tr>\n",
       "      <th>13</th>\n",
       "      <td>23</td>\n",
       "      <td>Tazobactam</td>\n",
       "      <td>J01CG02</td>\n",
       "      <td>Tazobactam</td>\n",
       "      <td>English</td>\n",
       "      <td>NaN</td>\n",
       "    </tr>\n",
       "    <tr>\n",
       "      <th>14</th>\n",
       "      <td>22</td>\n",
       "      <td>Dibenzepin</td>\n",
       "      <td>N06AA08</td>\n",
       "      <td>Dibenzepin</td>\n",
       "      <td>English</td>\n",
       "      <td>NaN</td>\n",
       "    </tr>\n",
       "  </tbody>\n",
       "</table>\n",
       "</div>"
      ],
      "text/plain": [
       "    SummevonCNT                              INGR      ATC  \\\n",
       "0            29                      Nortriptylin  N06AA10   \n",
       "1            29                         Opipramol  N06AA05   \n",
       "2            29                          Pindolol  C07AA03   \n",
       "3            29                           Tenidap  M01AX23   \n",
       "4            28                            Cocain  N01BC01   \n",
       "5            27                     Diflucortolon  D07AC06   \n",
       "6            27                          Flutamid  L02BB01   \n",
       "7            26                          Carbomer  S01XA20   \n",
       "8            26  Histamin-H2-Rezeptorantagonisten    A02BA   \n",
       "9            25                        Maprotilin  N06AA21   \n",
       "10           24                Dikaliumclorazepat  N05BA05   \n",
       "11           24                          Talbutal  N05CA07   \n",
       "12           23                        Cycloserin  J04AB01   \n",
       "13           23                        Tazobactam  J01CG02   \n",
       "14           22                        Dibenzepin  N06AA08   \n",
       "\n",
       "                                           BestOutput EnglishVsGerman  \\\n",
       "0                                       Nortriptyline         English   \n",
       "1                                           Opipramol         English   \n",
       "2                                            Pindolol         English   \n",
       "3                                             Tenidap         English   \n",
       "4                                             Cocaine         English   \n",
       "5                                      Diflucortolone         English   \n",
       "6                                           Flutamide         English   \n",
       "7   Artificial tears and other indifferent prepara...         English   \n",
       "8                             H2-receptor antagonists         English   \n",
       "9                                         Maprotiline         English   \n",
       "10                              Potassium clorazepate         English   \n",
       "11                                           Talbutal         English   \n",
       "12                                        Cycloserine         English   \n",
       "13                                         Tazobactam         English   \n",
       "14                                         Dibenzepin         English   \n",
       "\n",
       "                   MoreATCs  \n",
       "0                       NaN  \n",
       "1                       NaN  \n",
       "2                       NaN  \n",
       "3                       NaN  \n",
       "4   R02AD03;S01HA01;S02DA02  \n",
       "5                   D07XC04  \n",
       "6                       NaN  \n",
       "7                       NaN  \n",
       "8                       NaN  \n",
       "9                       NaN  \n",
       "10                      NaN  \n",
       "11                      NaN  \n",
       "12                      NaN  \n",
       "13                      NaN  \n",
       "14                      NaN  "
      ]
     },
     "execution_count": 13,
     "metadata": {},
     "output_type": "execute_result"
    }
   ],
   "source": [
    "atc_conversion_data.head(15)"
   ]
  },
  {
   "cell_type": "code",
   "execution_count": 14,
   "metadata": {
    "collapsed": false
   },
   "outputs": [],
   "source": [
    "# generate a dict of conversions,\n",
    "# dropping keys that appear more than once (ambiguous)\n",
    "atc_conversion_ingr_atc = {}\n",
    "seen_keys = []\n",
    "for j in range(len(atc_conversion_data)):\n",
    "    key = atc_conversion_data['INGR'][j].split(' ')[0]\n",
    "    # if key exists, delete and remember\n",
    "    if key in atc_conversion_ingr_atc:\n",
    "        del atc_conversion_ingr_atc[key]\n",
    "        seen_keys.append(key)\n",
    "    # if seen before, skip\n",
    "    if key in seen_keys:\n",
    "        continue\n",
    "    # else add\n",
    "    else:\n",
    "        atc_conversion_ingr_atc[key] = atc_conversion_data['ATC'][j]"
   ]
  },
  {
   "cell_type": "code",
   "execution_count": 15,
   "metadata": {
    "collapsed": true
   },
   "outputs": [],
   "source": [
    "# removes characters from key, such as '(' and ')'.\n",
    "atc_conversion_ingr_atc = {\n",
    "    list(filter(None, re.compile(r\"[;,()]\").split(k)))[0]: atc_conversion_ingr_atc[k] \n",
    "    for k in atc_conversion_ingr_atc\n",
    "}\n",
    "\n",
    "# can verify:\n",
    "# for key in atc_conversion_ingr_atc.keys():\n",
    "#     print(key)\n",
    "# or both key and ATC code\n",
    "# for key in atc_conversion_ingr_atc.keys():\n",
    "#     print('{}: {}'.format(key, atc_conversion_ingr_atc[key]))"
   ]
  },
  {
   "cell_type": "code",
   "execution_count": 16,
   "metadata": {
    "collapsed": false
   },
   "outputs": [],
   "source": [
    "# trying to find out if we can expand the dataset in a relatively cheap way\n",
    "# does any of the FREETXT, currently unlabelled, \n",
    "# can be found in the ATC convertion table (not accurate, only indicative)\n",
    "supplementary_candidates = {}\n",
    "for txt in main_data['FREETXT'][main_data['CNT'] < 100]:\n",
    "    freetxt_elements = list(filter(None, re.compile(r\"[;,()]\").split(txt)))\n",
    "    atc_conversion_ingr_atc_keys = atc_conversion_ingr_atc.keys()\n",
    "    if not set(freetxt_elements).isdisjoint(atc_conversion_ingr_atc_keys):\n",
    "        currecnt_candidate = set(freetxt_elements).intersection(atc_conversion_ingr_atc_keys)\n",
    "#         print('found one! It is {}. We have {} so far'.format(currecnt_candidate, counter))\n",
    "#         print(atc_conversion_ingr_atc[list(currecnt_candidate)[0]])\n",
    "        supplementary_candidates[txt] = atc_conversion_ingr_atc[list(currecnt_candidate)[0]]\n",
    "\n",
    "# this list should be verified manually\n",
    "# possible to generate an automatic URL\n",
    "# to make verification a bit easier\n",
    "# (repalce ATCCODE)\n",
    "# URL=https://www.whocc.no/atc_ddd_index/?code=ATCCODE&showdescription=no\n",
    "# consult with Carsten and Patrick, a physician should manually verify\n",
    "# if so, export (to CSV?), clean some obvious mistakes and generate URLs\n",
    "# \n",
    "# supplementary_candidates"
   ]
  },
  {
   "cell_type": "code",
   "execution_count": null,
   "metadata": {
    "collapsed": true
   },
   "outputs": [],
   "source": []
  },
  {
   "cell_type": "code",
   "execution_count": null,
   "metadata": {
    "collapsed": true
   },
   "outputs": [],
   "source": []
  },
  {
   "cell_type": "code",
   "execution_count": null,
   "metadata": {
    "collapsed": true
   },
   "outputs": [],
   "source": []
  }
 ],
 "metadata": {
  "anaconda-cloud": {},
  "kernelspec": {
   "display_name": "Python [conda env:tensorflow]",
   "language": "python",
   "name": "conda-env-tensorflow-py"
  },
  "language_info": {
   "codemirror_mode": {
    "name": "ipython",
    "version": 3
   },
   "file_extension": ".py",
   "mimetype": "text/x-python",
   "name": "python",
   "nbconvert_exporter": "python",
   "pygments_lexer": "ipython3",
   "version": "3.5.2"
  }
 },
 "nbformat": 4,
 "nbformat_minor": 2
}
