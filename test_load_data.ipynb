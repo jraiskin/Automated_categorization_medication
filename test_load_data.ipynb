{
 "cells": [
  {
   "cell_type": "code",
   "execution_count": 1,
   "metadata": {
    "collapsed": false
   },
   "outputs": [],
   "source": [
    "# import tensorflow as tf\n",
    "import numpy as np\n",
    "import pandas as pd\n",
    "\n",
    "from utils.utils import *\n",
    "\n",
    "from collections import Counter\n",
    "\n",
    "import matplotlib.pyplot as plt"
   ]
  },
  {
   "cell_type": "code",
   "execution_count": 2,
   "metadata": {
    "collapsed": false,
    "scrolled": false
   },
   "outputs": [],
   "source": [
    "def count_chars_in_text(text):\n",
    "    char_dict = {}\n",
    "    for txt in text:\n",
    "        for char in  list(txt):\n",
    "            cur_counter = Counter(char)\n",
    "            char_dict = {k: char_dict.get(k, 0) + cur_counter.get(k, 0)\n",
    "                         for k in set(char_dict).union(set(cur_counter))}\n",
    "\n",
    "    print('Data contains {} distinct characters'.format(len(char_dict.keys())))\n",
    "    \n",
    "    return char_dict\n",
    "\n",
    "\n",
    "def plot_exploratory_hist(atc_freq):\n",
    "\n",
    "    print(\n",
    "        'Number of observations (unique free text fields): {}.'.format(sum(atc_freq.values())), '\\n'\n",
    "        'Number of ATC labels: {}.'.format(len(atc_freq.keys())), '\\n'\n",
    "        'Mean number of occurrences per ATC code: {:.3}.'.format(np.mean([float(k) for k in atc_freq.values()]))\n",
    "    )\n",
    "\n",
    "    atc_label_freq = [v for v in atc_freq.values()]\n",
    "    hist, bins = np.histogram(atc_label_freq, \n",
    "                              bins=np.max(atc_label_freq))\n",
    "    width = 1 * (bins[1] - bins[0])\n",
    "    center = (bins[:-1] + bins[1:]) / 2\n",
    "    plt.bar(center, hist, align='center', width=width)\n",
    "    plt.xlabel('Number of label appearance')\n",
    "    plt.ylabel('Frequency')\n",
    "    plt.title('Historgram of all label appearance')\n",
    "    plt.show()\n",
    "\n",
    "    # fig, ax = plt.subplots()\n",
    "    # ax.bar(center, hist, align='center', width=width)\n",
    "    # fig.savefig(\"1.png\")\n",
    "\n",
    "    atc_label_freq_filtered = [v for v in atc_freq.values() if v <= 10]\n",
    "    hist, bins = np.histogram(atc_label_freq_filtered, \n",
    "                              bins=np.max(atc_label_freq_filtered))\n",
    "    width = 1 * (bins[1] - bins[0])\n",
    "    center = (bins[:-1] + bins[1:]) / 2\n",
    "    plt.bar(center, hist, align='center', width=width)\n",
    "    plt.xlabel('Number of label appearance')\n",
    "    plt.ylabel('Frequency')\n",
    "    plt.title('Historgram of label appearance, appearing 10 times or less')\n",
    "    plt.show()\n",
    "\n",
    "    appearing_once_labels = len([one for one in atc_label_freq if one == 1])\n",
    "    appearing_5more_labels = len([f for f in atc_label_freq if f >= 5])\n",
    "    appearing_10more_labels = len([f for f in atc_label_freq if f >= 10])\n",
    "\n",
    "    print('There are {} labels that appear exactly once.'.\n",
    "          format(appearing_once_labels, ), \n",
    "          '\\nThis leaves {} labels, {} of which appear 5 times or more and {} appearing at least 10 times'.\n",
    "          format(len(atc_label_freq) - appearing_once_labels, \n",
    "                 appearing_5more_labels, \n",
    "                 appearing_10more_labels))\n",
    "\n",
    "    atc_label_freq_high_filtered = [v for v in atc_freq.values() if v >= 10]\n",
    "\n",
    "    hist, bins = np.histogram(atc_label_freq_high_filtered, \n",
    "                              bins=np.max(atc_label_freq_high_filtered))\n",
    "    width = 1 * (bins[1] - bins[0])\n",
    "    center = (bins[:-1] + bins[1:]) / 2\n",
    "    plt.bar(center, hist, align='center', width=width)\n",
    "    plt.xlabel('Number of label appearance')\n",
    "    plt.ylabel('Frequency')\n",
    "    plt.title('Historgram of label appearance, appearing at least 10 times')\n",
    "    plt.show()"
   ]
  },
  {
   "cell_type": "code",
   "execution_count": 3,
   "metadata": {
    "collapsed": false
   },
   "outputs": [],
   "source": [
    "# print('tensorflow version is {}'.format(tf.__version__))\n",
    "# print('numpy version is {}'.format(np.__version__))\n",
    "# print('pd version is {}'.format(pd.__version__))"
   ]
  },
  {
   "cell_type": "code",
   "execution_count": 4,
   "metadata": {
    "collapsed": false,
    "scrolled": true
   },
   "outputs": [],
   "source": [
    "# initialize data from main (original) CSV file\n",
    "x, y, n, main_data = init_data()\n",
    "x = [i for i in x]  # converting x to list, for simplicity and consistency\n",
    "\n",
    "# initialize data from suggestions CSV file\n",
    "x_suggest, y_suggest, freq_suggest = init_data_suggest()\n",
    "x_merge, y_merge = x + x_suggest, y + y_suggest\n",
    "\n",
    "# create Counter dicts, of the form {element: freq(element)}\n",
    "labeled_data_freq = Counter(y)  # for original data\n",
    "merged_data_freq = Counter(y_merge)  # for merged data"
   ]
  },
  {
   "cell_type": "code",
   "execution_count": 5,
   "metadata": {
    "collapsed": false,
    "scrolled": true
   },
   "outputs": [
    {
     "data": {
      "text/html": [
       "<div>\n",
       "<table border=\"1\" class=\"dataframe\">\n",
       "  <thead>\n",
       "    <tr style=\"text-align: right;\">\n",
       "      <th></th>\n",
       "      <th>FREETXT</th>\n",
       "      <th>CNT</th>\n",
       "      <th>INGR</th>\n",
       "      <th>ATC</th>\n",
       "      <th>BestOutput</th>\n",
       "      <th>EnglishVsGerman</th>\n",
       "      <th>MoreATCs</th>\n",
       "    </tr>\n",
       "  </thead>\n",
       "  <tbody>\n",
       "    <tr>\n",
       "      <th>0</th>\n",
       "      <td>NaCl 0.9%</td>\n",
       "      <td>315067</td>\n",
       "      <td>(Saline solution)</td>\n",
       "      <td>B05B</td>\n",
       "      <td>(Sugar solution) or (Ringer's solution and var...</td>\n",
       "      <td>English</td>\n",
       "      <td>NaN</td>\n",
       "    </tr>\n",
       "    <tr>\n",
       "      <th>1</th>\n",
       "      <td>Dafalgan (Filmtabl 1 g) / Paracetamol 1000mg</td>\n",
       "      <td>56346</td>\n",
       "      <td>Paracetamol</td>\n",
       "      <td>N02BE01</td>\n",
       "      <td>Paracetamol</td>\n",
       "      <td>English</td>\n",
       "      <td>NaN</td>\n",
       "    </tr>\n",
       "    <tr>\n",
       "      <th>2</th>\n",
       "      <td>Fragmin (Inj L÷s 5000 E/0.2ml) Fertigspr / Dal...</td>\n",
       "      <td>54330</td>\n",
       "      <td>Dalteparin</td>\n",
       "      <td>B01AB04</td>\n",
       "      <td>Dalteparin</td>\n",
       "      <td>English</td>\n",
       "      <td>NaN</td>\n",
       "    </tr>\n",
       "    <tr>\n",
       "      <th>3</th>\n",
       "      <td>Perfalgan (Inf L÷s 1 g/100ml) Durchstf / Parac...</td>\n",
       "      <td>54235</td>\n",
       "      <td>Paracetamol</td>\n",
       "      <td>N02BE01</td>\n",
       "      <td>Paracetamol</td>\n",
       "      <td>English</td>\n",
       "      <td>NaN</td>\n",
       "    </tr>\n",
       "    <tr>\n",
       "      <th>4</th>\n",
       "      <td>Ringerfundin</td>\n",
       "      <td>53037</td>\n",
       "      <td>(Ringer's solution and variations)</td>\n",
       "      <td>B05B</td>\n",
       "      <td>(Sugar solution) or (Ringer's solution and var...</td>\n",
       "      <td>English</td>\n",
       "      <td>NaN</td>\n",
       "    </tr>\n",
       "  </tbody>\n",
       "</table>\n",
       "</div>"
      ],
      "text/plain": [
       "                                             FREETXT     CNT  \\\n",
       "0                                          NaCl 0.9%  315067   \n",
       "1       Dafalgan (Filmtabl 1 g) / Paracetamol 1000mg   56346   \n",
       "2  Fragmin (Inj L÷s 5000 E/0.2ml) Fertigspr / Dal...   54330   \n",
       "3  Perfalgan (Inf L÷s 1 g/100ml) Durchstf / Parac...   54235   \n",
       "4                                       Ringerfundin   53037   \n",
       "\n",
       "                                 INGR      ATC  \\\n",
       "0                   (Saline solution)     B05B   \n",
       "1                         Paracetamol  N02BE01   \n",
       "2                          Dalteparin  B01AB04   \n",
       "3                         Paracetamol  N02BE01   \n",
       "4  (Ringer's solution and variations)     B05B   \n",
       "\n",
       "                                          BestOutput EnglishVsGerman MoreATCs  \n",
       "0  (Sugar solution) or (Ringer's solution and var...         English      NaN  \n",
       "1                                        Paracetamol         English      NaN  \n",
       "2                                         Dalteparin         English      NaN  \n",
       "3                                        Paracetamol         English      NaN  \n",
       "4  (Sugar solution) or (Ringer's solution and var...         English      NaN  "
      ]
     },
     "execution_count": 5,
     "metadata": {},
     "output_type": "execute_result"
    }
   ],
   "source": [
    "main_data.head(5)"
   ]
  },
  {
   "cell_type": "code",
   "execution_count": 6,
   "metadata": {
    "collapsed": false,
    "scrolled": false
   },
   "outputs": [
    {
     "name": "stdout",
     "output_type": "stream",
     "text": [
      "For labeld (original) data:\n",
      "Number of observations (unique free text fields): 2028. \n",
      "Number of ATC labels: 558. \n",
      "Mean number of occurrences per ATC code: 3.63.\n"
     ]
    },
    {
     "data": {
      "image/png": "[encoded data removed]",
      "text/plain": [
       "<matplotlib.figure.Figure at 0x7fb339ed8898>"
      ]
     },
     "metadata": {},
     "output_type": "display_data"
    },
    {
     "data": {
      "image/png": "[encoded data removed]",
      "text/plain": [
       "<matplotlib.figure.Figure at 0x7fb33f1a4400>"
      ]
     },
     "metadata": {},
     "output_type": "display_data"
    },
    {
     "name": "stdout",
     "output_type": "stream",
     "text": [
      "There are 212 labels that appear exactly once. \n",
      "This leaves 346 labels, 115 of which appear 5 times or more and 47 appearing at least 10 times\n"
     ]
    },
    {
     "data": {
      "image/png": "[encoded data removed]",
      "text/plain": [
       "<matplotlib.figure.Figure at 0x7fb3399c9f60>"
      ]
     },
     "metadata": {},
     "output_type": "display_data"
    }
   ],
   "source": [
    "print('For labeld (original) data:')\n",
    "plot_exploratory_hist(labeled_data_freq)"
   ]
  },
  {
   "cell_type": "code",
   "execution_count": 7,
   "metadata": {
    "collapsed": false
   },
   "outputs": [
    {
     "name": "stdout",
     "output_type": "stream",
     "text": [
      "For the merged data (original data, merged with suggested labels):\n",
      "Number of observations (unique free text fields): 2919. \n",
      "Number of ATC labels: 558. \n",
      "Mean number of occurrences per ATC code: 5.23.\n"
     ]
    },
    {
     "data": {
      "image/png": "[encoded data removed]",
      "text/plain": [
       "<matplotlib.figure.Figure at 0x7fb339a760f0>"
      ]
     },
     "metadata": {},
     "output_type": "display_data"
    },
    {
     "data": {
      "image/png": "[encoded data removed]",
      "text/plain": [
       "<matplotlib.figure.Figure at 0x7fb339831ba8>"
      ]
     },
     "metadata": {},
     "output_type": "display_data"
    },
    {
     "name": "stdout",
     "output_type": "stream",
     "text": [
      "There are 178 labels that appear exactly once. \n",
      "This leaves 380 labels, 171 of which appear 5 times or more and 82 appearing at least 10 times\n"
     ]
    },
    {
     "data": {
      "image/png": "[encoded data removed]",
      "text/plain": [
       "<matplotlib.figure.Figure at 0x7fb3399e8940>"
      ]
     },
     "metadata": {},
     "output_type": "display_data"
    }
   ],
   "source": [
    "print('For the merged data (original data, merged with suggested labels):')\n",
    "plot_exploratory_hist(merged_data_freq)"
   ]
  },
  {
   "cell_type": "code",
   "execution_count": 8,
   "metadata": {
    "collapsed": false
   },
   "outputs": [
    {
     "name": "stdout",
     "output_type": "stream",
     "text": [
      "For labeld (original) data:\n",
      "Data contains 81 distinct characters\n"
     ]
    }
   ],
   "source": [
    "print('For labeld (original) data:')\n",
    "char_dict_x = count_chars_in_text(x)"
   ]
  },
  {
   "cell_type": "code",
   "execution_count": 9,
   "metadata": {
    "collapsed": false
   },
   "outputs": [
    {
     "name": "stdout",
     "output_type": "stream",
     "text": [
      "For the merged data (original data, merged with suggested labels):\n",
      "Data contains 89 distinct characters\n"
     ]
    }
   ],
   "source": [
    "print('For the merged data (original data, merged with suggested labels):')\n",
    "char_dict_x_merge = count_chars_in_text(x_merge)"
   ]
  },
  {
   "cell_type": "code",
   "execution_count": null,
   "metadata": {
    "collapsed": true
   },
   "outputs": [],
   "source": []
  }
 ],
 "metadata": {
  "anaconda-cloud": {},
  "kernelspec": {
   "display_name": "Python [conda env:tensorflow]",
   "language": "python",
   "name": "conda-env-tensorflow-py"
  },
  "language_info": {
   "codemirror_mode": {
    "name": "ipython",
    "version": 3
   },
   "file_extension": ".py",
   "mimetype": "text/x-python",
   "name": "python",
   "nbconvert_exporter": "python",
   "pygments_lexer": "ipython3",
   "version": "3.5.2"
  }
 },
 "nbformat": 4,
 "nbformat_minor": 2
}
