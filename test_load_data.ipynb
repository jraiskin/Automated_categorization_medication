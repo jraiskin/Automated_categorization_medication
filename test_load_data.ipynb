{
 "cells": [
  {
   "cell_type": "code",
   "execution_count": null,
   "metadata": {
    "collapsed": false
   },
   "outputs": [],
   "source": [
    "# import tensorflow as tf\n",
    "import numpy as np\n",
    "import pandas as pd\n",
    "\n",
    "from utils import utils\n",
    "\n",
    "from collections import Counter\n",
    "# from math import isnan\n",
    "\n",
    "import matplotlib.pyplot as plt\n",
    "\n",
    "import re"
   ]
  },
  {
   "cell_type": "code",
   "execution_count": null,
   "metadata": {
    "collapsed": false
   },
   "outputs": [],
   "source": [
    "# import os\n",
    "# print (os.name)\n",
    "# 'posix'"
   ]
  },
  {
   "cell_type": "code",
   "execution_count": null,
   "metadata": {
    "collapsed": false
   },
   "outputs": [],
   "source": [
    "print('tensorflow version is {}'.format(tf.__version__))\n",
    "print('numpy version is {}'.format(np.__version__))\n",
    "print('pd version is {}'.format(pd.__version__))"
   ]
  },
  {
   "cell_type": "code",
   "execution_count": null,
   "metadata": {
    "collapsed": false,
    "scrolled": true
   },
   "outputs": [],
   "source": [
    "user_opt = utils.user_opt_gen()\n",
    "\n",
    "main_data = pd.read_csv(user_opt['data_path'], \n",
    "                         sep=';', \n",
    "                         header=0, \n",
    "                         encoding='cp850')\n",
    "\n",
    "atc_conversion_data = pd.read_csv(user_opt['atc_conversion_data_path'], \n",
    "                                  sep=';', \n",
    "                                  header=0, \n",
    "                                  encoding='cp850')"
   ]
  },
  {
   "cell_type": "code",
   "execution_count": null,
   "metadata": {
    "collapsed": false,
    "scrolled": false
   },
   "outputs": [],
   "source": [
    "main_data.head(15)"
   ]
  },
  {
   "cell_type": "code",
   "execution_count": null,
   "metadata": {
    "collapsed": true
   },
   "outputs": [],
   "source": [
    "# sum(main_data['FREETXT'] == main_data['INGR']) / float(main_data.shape[0])\n",
    "# sum(main_data['FREETXT'] == main_data['BestOutput']) / float(main_data.shape[0])"
   ]
  },
  {
   "cell_type": "code",
   "execution_count": null,
   "metadata": {
    "collapsed": false
   },
   "outputs": [],
   "source": [
    "atc_freq = Counter(main_data['ATC'])\n",
    "\n",
    "# filter out 'nan'\n",
    "atc_freq = {k: atc_freq[k] for k in atc_freq if isinstance(k, str)}\n",
    "# atc_freq"
   ]
  },
  {
   "cell_type": "code",
   "execution_count": null,
   "metadata": {
    "collapsed": false,
    "scrolled": true
   },
   "outputs": [],
   "source": [
    "print(\n",
    "    'Number of observations: {}.'.format(sum(atc_freq.values())), '\\n'\n",
    "    'Number of ATC labels: {}.'.format(len(atc_freq.keys())), '\\n'\n",
    "    'Mean number of occurrences per ATC code: {:.3}.'.format(np.mean([float(k) for k in atc_freq.values()]))\n",
    ")"
   ]
  },
  {
   "cell_type": "code",
   "execution_count": null,
   "metadata": {
    "collapsed": false
   },
   "outputs": [],
   "source": [
    "atc_label_freq = [v for v in atc_freq.values()]\n",
    "hist, bins = np.histogram(atc_label_freq, \n",
    "                          bins=np.max(atc_label_freq))\n",
    "width = 1 * (bins[1] - bins[0])\n",
    "center = (bins[:-1] + bins[1:]) / 2\n",
    "plt.bar(center, hist, align='center', width=width)\n",
    "plt.xlabel('Number of label appearance')\n",
    "plt.ylabel('Frequency')\n",
    "plt.title('Historgram of all label appearance')\n",
    "plt.show()\n",
    "\n",
    "# fig, ax = plt.subplots()\n",
    "# ax.bar(center, hist, align='center', width=width)\n",
    "# fig.savefig(\"1.png\")"
   ]
  },
  {
   "cell_type": "code",
   "execution_count": null,
   "metadata": {
    "collapsed": false
   },
   "outputs": [],
   "source": [
    "atc_label_freq_filtered = [v for v in atc_freq.values() if v <= 10]\n",
    "hist, bins = np.histogram(atc_label_freq_filtered, \n",
    "                          bins=np.max(atc_label_freq_filtered))\n",
    "width = 1 * (bins[1] - bins[0])\n",
    "center = (bins[:-1] + bins[1:]) / 2\n",
    "plt.bar(center, hist, align='center', width=width)\n",
    "plt.xlabel('Number of label appearance')\n",
    "plt.ylabel('Frequency')\n",
    "plt.title('Historgram of label appearance, appearing 10 times or less')\n",
    "plt.show()\n",
    "\n",
    "appearing_once_labels = len([one for one in atc_label_freq if one == 1])\n",
    "appearing_5more_labels = len([f for f in atc_label_freq if f >= 5])\n",
    "appearing_10more_labels = len([f for f in atc_label_freq if f >= 10])\n",
    "\n",
    "print('There are {} labels that appear only once.'.\n",
    "      format(appearing_once_labels, ), \n",
    "      '\\nThis leaves {} labels, {} of which appear 5 times or more and {} appearing at least 10 times'.\n",
    "      format(len(atc_label_freq) - appearing_once_labels, \n",
    "             appearing_5more_labels, \n",
    "             appearing_10more_labels))"
   ]
  },
  {
   "cell_type": "code",
   "execution_count": null,
   "metadata": {
    "collapsed": false
   },
   "outputs": [],
   "source": [
    "atc_label_freq_high_filtered = [v for v in atc_freq.values() if v >= 10]\n",
    "\n",
    "hist, bins = np.histogram(atc_label_freq_high_filtered, \n",
    "                          bins=np.max(atc_label_freq_high_filtered))\n",
    "width = 1 * (bins[1] - bins[0])\n",
    "center = (bins[:-1] + bins[1:]) / 2\n",
    "plt.bar(center, hist, align='center', width=width)\n",
    "plt.xlabel('Number of label appearance')\n",
    "plt.ylabel('Frequency')\n",
    "plt.title('Historgram of label appearance, appearing at least 10 times')\n",
    "plt.show()"
   ]
  },
  {
   "cell_type": "code",
   "execution_count": null,
   "metadata": {
    "collapsed": true
   },
   "outputs": [],
   "source": []
  },
  {
   "cell_type": "code",
   "execution_count": null,
   "metadata": {
    "collapsed": true
   },
   "outputs": [],
   "source": []
  },
  {
   "cell_type": "code",
   "execution_count": null,
   "metadata": {
    "collapsed": false
   },
   "outputs": [],
   "source": [
    "atc_conversion_data.head(15)"
   ]
  },
  {
   "cell_type": "code",
   "execution_count": null,
   "metadata": {
    "collapsed": false
   },
   "outputs": [],
   "source": [
    "# generate a dict of conversions,\n",
    "# dropping keys that appear more than once (ambiguous)\n",
    "atc_conversion_ingr_atc = {}\n",
    "seen_keys = []\n",
    "for j in range(len(atc_conversion_data)):\n",
    "    key = atc_conversion_data['INGR'][j].split(' ')[0]\n",
    "    # if key exists, delete and remember\n",
    "    if key in atc_conversion_ingr_atc:\n",
    "        del atc_conversion_ingr_atc[key]\n",
    "        seen_keys.append(key)\n",
    "    # if seen before, skip\n",
    "    if key in seen_keys:\n",
    "        continue\n",
    "    # else add\n",
    "    else:\n",
    "        atc_conversion_ingr_atc[key] = atc_conversion_data['ATC'][j]"
   ]
  },
  {
   "cell_type": "code",
   "execution_count": null,
   "metadata": {
    "collapsed": true
   },
   "outputs": [],
   "source": [
    "# removes characters from key, such as '(' and ')'.\n",
    "atc_conversion_ingr_atc = {\n",
    "    list(filter(None, re.compile(r\"[;,()]\").split(k)))[0]: atc_conversion_ingr_atc[k] \n",
    "    for k in atc_conversion_ingr_atc\n",
    "}\n",
    "\n",
    "# can verify:\n",
    "# for key in atc_conversion_ingr_atc.keys():\n",
    "#     print(key)\n",
    "# or both key and ATC code\n",
    "# for key in atc_conversion_ingr_atc.keys():\n",
    "#     print('{}: {}'.format(key, atc_conversion_ingr_atc[key]))"
   ]
  },
  {
   "cell_type": "code",
   "execution_count": null,
   "metadata": {
    "collapsed": false
   },
   "outputs": [],
   "source": [
    "# trying to find out if we can expand the dataset in a relatively cheap way\n",
    "# does any of the FREETXT, currently unlabelled, \n",
    "# can be found in the ATC convertion table (not accurate, only indicative)\n",
    "supplementary_candidates = {}\n",
    "for txt in main_data['FREETXT'][main_data['CNT'] < 100]:\n",
    "    freetxt_elements = list(filter(None, re.compile(r\"[;,()]\").split(txt)))\n",
    "    atc_conversion_ingr_atc_keys = atc_conversion_ingr_atc.keys()\n",
    "    if not set(freetxt_elements).isdisjoint(atc_conversion_ingr_atc_keys):\n",
    "        currecnt_candidate = set(freetxt_elements).intersection(atc_conversion_ingr_atc_keys)\n",
    "#         print('found one! It is {}. We have {} so far'.format(currecnt_candidate, counter))\n",
    "#         print(atc_conversion_ingr_atc[list(currecnt_candidate)[0]])\n",
    "        supplementary_candidates[txt] = atc_conversion_ingr_atc[list(currecnt_candidate)[0]]\n",
    "\n",
    "# this list should be verified manually\n",
    "# possible to generate an automatic URL\n",
    "# to make verification a bit easier\n",
    "# (repalce ATCCODE)\n",
    "# URL=https://www.whocc.no/atc_ddd_index/?code=ATCCODE&showdescription=no\n",
    "# consult with Carsten and Patrick, a physician should manually verify\n",
    "# if so, export (to CSV?), clean some obvious mistakes and generate URLs\n",
    "# \n",
    "# supplementary_candidates"
   ]
  },
  {
   "cell_type": "code",
   "execution_count": null,
   "metadata": {
    "collapsed": true
   },
   "outputs": [],
   "source": []
  },
  {
   "cell_type": "code",
   "execution_count": null,
   "metadata": {
    "collapsed": false
   },
   "outputs": [],
   "source": []
  },
  {
   "cell_type": "code",
   "execution_count": null,
   "metadata": {
    "collapsed": false
   },
   "outputs": [],
   "source": [
    "# create a charachter dictionary (incrementing int)\n",
    "char_dict = {}\n",
    "for txt in main_data['FREETXT'][main_data['CNT'] >= 100]:\n",
    "    txt = list(txt)\n",
    "    for char in txt:\n",
    "        if char in char_dict:\n",
    "            continue\n",
    "        else:\n",
    "            char_dict[char] = len(char_dict)"
   ]
  },
  {
   "cell_type": "code",
   "execution_count": null,
   "metadata": {
    "collapsed": false
   },
   "outputs": [],
   "source": [
    "len(char_dict)"
   ]
  },
  {
   "cell_type": "code",
   "execution_count": null,
   "metadata": {
    "collapsed": true
   },
   "outputs": [],
   "source": []
  }
 ],
 "metadata": {
  "anaconda-cloud": {},
  "kernelspec": {
   "display_name": "Python [conda env:tensorflow]",
   "language": "python",
   "name": "conda-env-tensorflow-py"
  },
  "language_info": {
   "codemirror_mode": {
    "name": "ipython",
    "version": 3
   },
   "file_extension": ".py",
   "mimetype": "text/x-python",
   "name": "python",
   "nbconvert_exporter": "python",
   "pygments_lexer": "ipython3",
   "version": "3.5.2"
  }
 },
 "nbformat": 4,
 "nbformat_minor": 2
}
