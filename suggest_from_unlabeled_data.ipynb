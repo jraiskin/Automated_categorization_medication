{
 "cells": [
  {
   "cell_type": "code",
   "execution_count": null,
   "metadata": {
    "collapsed": false
   },
   "outputs": [],
   "source": [
    "import numpy as np\n",
    "import pandas as pd\n",
    "\n",
    "from utils.utils import user_opt_gen, nice_dict, seed, init_data, print_source, pcp1, pcp2, pcp3, pcp4\n",
    "from utils.utils_baseline_svm import *\n",
    "\n",
    "import csv\n",
    "\n",
    "from collections import Counter\n",
    "\n",
    "from math import inf\n",
    "from time import time\n",
    "# from utils.utils_nn import *"
   ]
  },
  {
   "cell_type": "code",
   "execution_count": null,
   "metadata": {
    "collapsed": true
   },
   "outputs": [],
   "source": [
    "def jaccard_sim(d1, d2):\n",
    "    # collect union keys\n",
    "    key_union = list(dict(d1, **d2))\n",
    "    # for each key, get max(d1[key], d2[key]), with default of zero\n",
    "    val_union = [max(d1.get(k, 0), d2.get(k, 0)) for k in key_union]\n",
    "    # collect intersection keys\n",
    "    key_intersect = [k for k in d1 if k in d2]\n",
    "    # for each key, get min(d1[key], d2[key]), (with default of inf)\n",
    "    val_intersect = [min(d1.get(k, inf), d2.get(k, inf)) for k in key_intersect]\n",
    "    return float(sum(val_intersect) / sum(val_union))\n",
    "#     return key_union, val_union\n",
    "#     return key_intersect, val_intersect"
   ]
  },
  {
   "cell_type": "code",
   "execution_count": null,
   "metadata": {
    "collapsed": true
   },
   "outputs": [],
   "source": [
    "def labeld_unlabeled_similarities(*, sim_thereshold, x_unlabeled, X_unlabeled, y):\n",
    "    # takes in the labeled, unlabeled data and the labels\n",
    "    # outputs a dict with (label, sim)\n",
    "    sim_dict = {}\n",
    "    timenow = time()\n",
    "    for text, features in zip(x_unlabeled, X_unlabeled):\n",
    "    #     print(d1)\n",
    "    #     sim_dict[text] = [(y[i], jaccard_sim(obs, d1)) for i, obs in enumerate(X_labeled) if jaccard_sim(obs, d1) >= sim_thereshold]\n",
    "    #     sim_dict[text] = [(y[i], jaccard_sim(obs, d1)) if jaccard_sim(obs, d1) >= sim_thereshold else (None, 0) for i, obs in enumerate(X_labeled)]\n",
    "        sim_dict[text] = [(y[i], jaccard_sim(obs, features)) for i, obs in enumerate(X_labeled)]\n",
    "\n",
    "    print('Calculating all Jaccard similarities took {:.2f} seconds'.format(time() - timenow))\n",
    "\n",
    "    # filtering out entries with similarity below threshold\n",
    "    sim_dict_filtered = {}\n",
    "    for k, v in sim_dict.items():\n",
    "    #     print (k)\n",
    "    #     print(v)\n",
    "        sim_dict_filtered[k] = [(label, sim) for (label, sim) in v if sim >= sim_thereshold]\n",
    "        # remove labels that don't meet the criteria\n",
    "        if sim_dict_filtered[k] == []: del sim_dict_filtered[k]    \n",
    "    \n",
    "    # return only the top result\n",
    "    sim_result_list = []\n",
    "    for k, v in sim_dict_filtered.items():\n",
    "        for label, sim in v:\n",
    "            # keep the entry with the highest similarity\n",
    "            top_sim = 0\n",
    "            if sim > top_sim:\n",
    "                top_label, top_sim = label, sim\n",
    "            sim_result_list.append([k, top_label, top_sim])\n",
    "    \n",
    "    return sim_result_list, sim_dict_filtered, sim_dict"
   ]
  },
  {
   "cell_type": "code",
   "execution_count": null,
   "metadata": {
    "collapsed": false
   },
   "outputs": [],
   "source": [
    "if __name__ == '__main__':\n",
    "    # replicate results from the linear classifier\n",
    "    x, y, n, main_data = init_data()\n",
    "    x_unlabeled = main_data['FREETXT'][n:]\n",
    "\n",
    "    # create a sparse matrix (X) to hold features \n",
    "    kwargs_lin_clf = nice_dict({'input_data': x, \n",
    "                                'width': 5, \n",
    "                                'mk_ngrams': True, 'ngram_filter': 10, 'filter_keys_ngrams': None,\n",
    "                                'mk_chars': True, 'char_filter': 100, 'filter_keys_chars': None})\n",
    "\n",
    "    X_labeled, filter_keys_ngrams, filter_keys_chars = lin_clf_features(**kwargs_lin_clf)\n",
    "\n",
    "    # removing text fields shorter than sliding window width\n",
    "    x_unlabeled = x_unlabeled.loc[[len(k) >= kwargs_lin_clf.width for k in x_unlabeled]]\n",
    "\n",
    "    X_unlabeled, _, _ = lin_clf_features(**{**kwargs_lin_clf, \n",
    "                                            **{'input_data': x_unlabeled, \n",
    "                                               'filter_keys_ngrams': filter_keys_ngrams, \n",
    "                                               'filter_keys_chars': filter_keys_chars}})\n",
    "\n",
    "    sim_result_list, sim_dict_filtered, sim_dict = \\\n",
    "        labeld_unlabeled_similarities(\n",
    "            sim_thereshold=0.85, \n",
    "            x_unlabeled=x_unlabeled, \n",
    "            X_unlabeled=X_unlabeled, \n",
    "            y=y)\n",
    "\n",
    "    # remove duplicate entries\n",
    "    seen_results = set()\n",
    "    uniqe_results = [line for line in sim_result_list if \n",
    "                     line[0] not in seen_results and not seen_results.add(line[0])]  \n",
    "    # sort by text (0 element in list)\n",
    "    uniqe_results.sort(key=lambda line: line[0])\n",
    "\n",
    "    # save result to file\n",
    "    with open('similarity_labels_suggestion.csv', 'w') as f:\n",
    "        writer = csv.writer(f, delimiter=',', quoting=csv.QUOTE_ALL)\n",
    "        writer.writerows(uniqe_results)"
   ]
  },
  {
   "cell_type": "code",
   "execution_count": null,
   "metadata": {
    "collapsed": true
   },
   "outputs": [],
   "source": []
  }
 ],
 "metadata": {
  "anaconda-cloud": {},
  "kernelspec": {
   "display_name": "Python [conda env:tensorflow]",
   "language": "python",
   "name": "conda-env-tensorflow-py"
  },
  "language_info": {
   "codemirror_mode": {
    "name": "ipython",
    "version": 3
   },
   "file_extension": ".py",
   "mimetype": "text/x-python",
   "name": "python",
   "nbconvert_exporter": "python",
   "pygments_lexer": "ipython3",
   "version": "3.5.2"
  }
 },
 "nbformat": 4,
 "nbformat_minor": 2
}
