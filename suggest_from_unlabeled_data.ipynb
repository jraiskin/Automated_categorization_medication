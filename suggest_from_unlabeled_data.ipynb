{
 "cells": [
  {
   "cell_type": "code",
   "execution_count": null,
   "metadata": {
    "collapsed": false
   },
   "outputs": [],
   "source": [
    "import numpy as np\n",
    "import pandas as pd\n",
    "\n",
    "from utils.utils import *\n",
    "from utils.utils_baseline_svm import *\n",
    "\n",
    "import csv\n",
    "\n",
    "# from collections import Counter\n",
    "\n",
    "from math import inf\n",
    "from time import time\n",
    "# from utils.utils_nn import *"
   ]
  },
  {
   "cell_type": "code",
   "execution_count": null,
   "metadata": {
    "collapsed": true
   },
   "outputs": [],
   "source": [
    "kwargs_lin_clf = nice_dict({'mk_chars': True, \n",
    "                            'char_filter': 100, 'allowed_chars': None, \n",
    "                            'mk_ngrams': True, 'ngram_width': 5, \n",
    "                            'ngram_filter': 10, 'allowed_ngrams': None, \n",
    "                            })"
   ]
  },
  {
   "cell_type": "code",
   "execution_count": null,
   "metadata": {
    "collapsed": true
   },
   "outputs": [],
   "source": [
    "def jaccard_sim(d1, d2):\n",
    "    # collect union keys\n",
    "    key_union = list(dict(d1, **d2))\n",
    "    # for each key, get max(d1[key], d2[key]), with default of zero\n",
    "    val_union = [max(d1.get(k, 0), d2.get(k, 0)) for k in key_union]\n",
    "    # collect intersection keys\n",
    "    key_intersect = [k for k in d1 if k in d2]\n",
    "    # for each key, get min(d1[key], d2[key]), (with default of inf)\n",
    "    val_intersect = [min(d1.get(k, inf), d2.get(k, inf)) for k in key_intersect]\n",
    "    return float(sum(val_intersect) / sum(val_union))"
   ]
  },
  {
   "cell_type": "code",
   "execution_count": null,
   "metadata": {
    "collapsed": true
   },
   "outputs": [],
   "source": [
    "def labeld_unlabeled_similarities(*, sim_thereshold, \n",
    "                                  x_unlabeled, X_unlabeled, X_labeled, y):\n",
    "    \"\"\"\n",
    "    Takes in the labeled, unlabeled data and the labels\n",
    "    Returns sim_result_list, sim_dict_filtered, sim_dict,\n",
    "    where sim_result_list,\n",
    "    sim_dict_filtered,\n",
    "    sim_dict is a dict from unlabeled text to (label, Jaccard sim) tuples for all labeled observations.\n",
    "    \"\"\" \n",
    "    sim_dict = {}\n",
    "    timenow = time()\n",
    "    for text, features in zip(x_unlabeled, X_unlabeled):\n",
    "        sim_dict[text] = [(y[i], jaccard_sim(obs, features)) for i, obs in enumerate(X_labeled)]\n",
    "\n",
    "    print('Calculating all Jaccard similarities took {:.2f} seconds'.format(time() - timenow))\n",
    "    \n",
    "    # filtering out entries with similarity below threshold\n",
    "    timenow = time()\n",
    "    sim_dict_filtered = {}\n",
    "    for k, v in sim_dict.items():\n",
    "        sim_dict_filtered[k] = [(label, sim) for (label, sim) in v if sim >= sim_thereshold]\n",
    "        # remove labels that don't meet the criteria\n",
    "        if sim_dict_filtered[k] == []: del sim_dict_filtered[k]    \n",
    "    print('Removing entries with Jaccard sim lower than the threshold took {:.2f} seconds'.\n",
    "          format(time() - timenow))\n",
    "    \n",
    "    # return only the top result\n",
    "    sim_result_list = []\n",
    "    for k, v in sim_dict_filtered.items():\n",
    "        for label, sim in v:\n",
    "            # keep the entry with the highest similarity\n",
    "            top_sim = 0\n",
    "            if sim > top_sim:\n",
    "                top_label, top_sim = label, sim\n",
    "            sim_result_list.append([k, top_label, top_sim])\n",
    "    \n",
    "    return sim_result_list, sim_dict_filtered, sim_dict"
   ]
  },
  {
   "cell_type": "code",
   "execution_count": null,
   "metadata": {
    "collapsed": false
   },
   "outputs": [],
   "source": [
    "x, y, n, main_data = init_data()\n",
    "x_unlabeled = main_data['FREETXT'][n:]\n",
    "# removing text fields shorter than sliding window width\n",
    "x_unlabeled = x_unlabeled.loc[[len(k) >= kwargs_lin_clf.ngram_width \n",
    "                               for k in x_unlabeled]]\n",
    "\n",
    "### global counter: characters ###\n",
    "if kwargs_lin_clf.mk_chars:\n",
    "    char_counter = dict_addition([Counter(obs) for obs in x])\n",
    "    allowed_chars = [key for key,value in char_counter.items() \n",
    "                     if value >= kwargs_lin_clf.char_filter]\n",
    "    allowed_chars.sort()\n",
    "\n",
    "    # replacing unknown characters with UNKNOWN symbol\n",
    "    unknown_char = '<unk-char>'\n",
    "    # for labeled x\n",
    "    x_unk = [list(obs) for obs in x]\n",
    "    x_unk = [[char if char in allowed_chars \n",
    "              else unknown_char for char in obs]\n",
    "             for obs in x_unk]\n",
    "    # for unlabeled x\n",
    "    x_unk_unlabeled = [list(obs) for obs in x_unlabeled]\n",
    "    x_unk_unlabeled = [[char if char in allowed_chars \n",
    "                        else unknown_char for char in obs]\n",
    "                       for obs in x_unk_unlabeled]\n",
    "else:\n",
    "    allowed_chars = list({char for obs in x for char in obs})\n",
    "    allowed_chars.sort()\n",
    "    x_unk = x\n",
    "    x_unk_unlabeled = x_unlabeled\n",
    "\n",
    "### global counter: ngrams ###\n",
    "if kwargs_lin_clf.mk_ngrams:\n",
    "    ngram_counter = dict_addition(\n",
    "        [Counter(join_sliding_window(obs, kwargs_lin_clf.ngram_width))\n",
    "         for obs in x_unk])\n",
    "    allowed_ngrams = [key for key,value in ngram_counter.items() \n",
    "                     if value >= kwargs_lin_clf.ngram_filter]\n",
    "    allowed_ngrams.sort()\n",
    "    \n",
    "    ### apply ngrams ###\n",
    "    unknown_ngram = '<unk-ngram>'\n",
    "    x_unk = [obs + [ngram\n",
    "                    if ngram in allowed_ngrams\n",
    "                    else unknown_ngram\n",
    "                    for ngram in join_sliding_window(obs, \n",
    "                        kwargs_lin_clf.ngram_width)]\n",
    "             for obs in x_unk]\n",
    "    x_unk_unlabeled = [obs + [ngram\n",
    "                    if ngram in allowed_ngrams\n",
    "                    else unknown_ngram\n",
    "                    for ngram in join_sliding_window(obs, \n",
    "                        kwargs_lin_clf.ngram_width)]\n",
    "             for obs in x_unk_unlabeled]\n",
    "    \n",
    "else:\n",
    "    pass\n",
    "\n",
    "X_labeled = [Counter(obs) for obs in x_unk]\n",
    "X_unlabeled = [Counter(obs) for obs in x_unk_unlabeled]"
   ]
  },
  {
   "cell_type": "code",
   "execution_count": null,
   "metadata": {
    "collapsed": false
   },
   "outputs": [],
   "source": [
    "sim_result_list, sim_dict_filtered, sim_dict = \\\n",
    "    labeld_unlabeled_similarities(\n",
    "        sim_thereshold=0.5, \n",
    "        x_unlabeled=x_unlabeled, \n",
    "        X_unlabeled=X_unlabeled, \n",
    "        X_labeled=X_labeled, \n",
    "        y=y)\n",
    "\n",
    "# save to file (python pickle format)\n",
    "for name, obj in [('sim_result_list', sim_result_list), \n",
    "                  ('sim_dict', sim_dict), \n",
    "                  ('sim_dict_filtered', sim_dict_filtered)]:\n",
    "    save(name, obj)\n",
    "#     print(name, str(obj))"
   ]
  },
  {
   "cell_type": "code",
   "execution_count": null,
   "metadata": {
    "collapsed": true
   },
   "outputs": [],
   "source": [
    "# # remove duplicate entries\n",
    "# seen_results = set()\n",
    "# uniqe_results = [line for line in sim_result_list if \n",
    "#                  line[0] not in seen_results and not seen_results.add(line[0])]  \n",
    "# # sort by text (0 element in list)\n",
    "# uniqe_results.sort(key=lambda line: line[0])\n",
    "\n",
    "# # save result to file\n",
    "# with open('similarity_labels_suggestion.csv', 'w', \n",
    "#           encoding='cp850') as f:\n",
    "#     writer = csv.writer(f, delimiter=',', quoting=csv.QUOTE_ALL)\n",
    "#     writer.writerows(uniqe_results)"
   ]
  },
  {
   "cell_type": "code",
   "execution_count": null,
   "metadata": {
    "collapsed": true
   },
   "outputs": [],
   "source": []
  }
 ],
 "metadata": {
  "anaconda-cloud": {},
  "kernelspec": {
   "display_name": "Python [conda env:tensorflow]",
   "language": "python",
   "name": "conda-env-tensorflow-py"
  },
  "language_info": {
   "codemirror_mode": {
    "name": "ipython",
    "version": 3
   },
   "file_extension": ".py",
   "mimetype": "text/x-python",
   "name": "python",
   "nbconvert_exporter": "python",
   "pygments_lexer": "ipython3",
   "version": "3.5.2"
  }
 },
 "nbformat": 4,
 "nbformat_minor": 2
}
