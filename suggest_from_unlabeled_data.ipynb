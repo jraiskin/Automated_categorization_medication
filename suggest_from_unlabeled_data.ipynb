{
 "cells": [
  {
   "cell_type": "code",
   "execution_count": null,
   "metadata": {
    "collapsed": false
   },
   "outputs": [],
   "source": [
    "import numpy as np\n",
    "import pandas as pd\n",
    "\n",
    "from utils.utils import *\n",
    "from utils.utils_baseline_svm import *\n",
    "\n",
    "import matplotlib.pyplot as plt\n",
    "%matplotlib inline\n",
    "\n",
    "# import csv\n",
    "\n",
    "from sklearn.feature_extraction import DictVectorizer\n",
    "from sklearn import svm\n",
    "\n",
    "from collections import Counter, OrderedDict\n",
    "\n",
    "from math import inf\n",
    "from time import time"
   ]
  },
  {
   "cell_type": "code",
   "execution_count": null,
   "metadata": {
    "collapsed": true
   },
   "outputs": [],
   "source": [
    "kwargs_lin_clf = nice_dict({'mk_chars': True, \n",
    "                            'char_filter': 2, 'allowed_chars': None, \n",
    "                            'mk_ngrams': True, 'ngram_width': 5, \n",
    "                            'ngram_filter': 2, 'allowed_ngrams': None, \n",
    "                            'keep_infreq_labels': False, 'label_count_thresh': 10, \n",
    "                            'valid_ratio': 0.0, \n",
    "                            })\n",
    "\n",
    "kwargs_svm = nice_dict({'C': 0.10,  # penalty term\n",
    "                        'decision_function_shape': 'ovr',  # one-vs-rest (‘ovr’) / one-vs-one (‘ovo’) \n",
    "                        'random_state': seed(), \n",
    "                        'kernel': 'linear', \n",
    "                        'gamma': 'auto' ,  # kernel coef for ‘rbf’, ‘poly’ and ‘sigmoid’. ‘auto’ -> 1/n_features\n",
    "                        'probability': True,  # enable probability estimates \n",
    "                        'shrinking': True,  # use the shrinking heuristic \n",
    "                        'max_iter': -1  # -1 mean no limitation \n",
    "                        })\n",
    "\n",
    "# ths will be used as part of the file name when saving results\n",
    "date_str = '_5_23'"
   ]
  },
  {
   "cell_type": "code",
   "execution_count": null,
   "metadata": {
    "collapsed": true
   },
   "outputs": [],
   "source": [
    "def jaccard_sim(d1, d2):\n",
    "    # collect union keys\n",
    "    key_union = list(dict(d1, **d2))\n",
    "    # for each key, get max(d1[key], d2[key]), with default of zero\n",
    "    val_union = [max(d1.get(k, 0), d2.get(k, 0)) for k in key_union]\n",
    "    # collect intersection keys\n",
    "    key_intersect = [k for k in d1 if k in d2]\n",
    "    # for each key, get min(d1[key], d2[key]), (with default of inf)\n",
    "    val_intersect = [min(d1.get(k, inf), d2.get(k, inf)) for k in key_intersect]\n",
    "    return float(sum(val_intersect) / sum(val_union))"
   ]
  },
  {
   "cell_type": "code",
   "execution_count": null,
   "metadata": {
    "collapsed": true
   },
   "outputs": [],
   "source": [
    "def labeld_unlabeled_similarities(*, sim_thereshold, \n",
    "                                  x_unlabeled, X_unlabeled, X_labeled, y):\n",
    "    \"\"\"\n",
    "    Takes in the labeled, unlabeled data and the labels\n",
    "    Returns sim_result_list, sim_dict_filtered, sim_dict,\n",
    "    where sim_result_list,\n",
    "    sim_dict_filtered,\n",
    "    sim_dict is a dict from unlabeled text to (label, Jaccard sim) tuples for all labeled observations.\n",
    "    \"\"\" \n",
    "    sim_dict = {}\n",
    "    timenow = time()\n",
    "    for text, features in zip(x_unlabeled, X_unlabeled):\n",
    "        sim_dict[text] = [(y[i], jaccard_sim(obs, features)) for i, obs in enumerate(X_labeled)]\n",
    "\n",
    "    print('Calculating all Jaccard similarities took {:.2f} seconds'.format(time() - timenow))\n",
    "    \n",
    "    # filtering out entries with similarity below threshold\n",
    "    timenow = time()\n",
    "    sim_dict_filtered = {}\n",
    "    for k, v in sim_dict.items():\n",
    "        sim_dict_filtered[k] = [(label, sim) for (label, sim) in v if sim >= sim_thereshold]\n",
    "        # remove labels that don't meet the criteria\n",
    "        if sim_dict_filtered[k] == []: del sim_dict_filtered[k]    \n",
    "    print('Removing entries with Jaccard sim lower than the threshold took {:.2f} seconds'.\n",
    "          format(time() - timenow))\n",
    "    \n",
    "    # return only the top result\n",
    "    sim_result_list = []\n",
    "    for k, v in sim_dict_filtered.items():\n",
    "        for label, sim in v:\n",
    "            # keep the entry with the highest similarity\n",
    "            top_sim = 0\n",
    "            if sim > top_sim:\n",
    "                top_label, top_sim = label, sim\n",
    "            sim_result_list.append([k, top_label, top_sim])\n",
    "    \n",
    "    return sim_result_list, sim_dict_filtered, sim_dict"
   ]
  },
  {
   "cell_type": "code",
   "execution_count": null,
   "metadata": {
    "collapsed": false
   },
   "outputs": [],
   "source": [
    "# labeled data\n",
    "x, y, n, main_data = init_data()\n",
    "# labeled data from external sources\n",
    "x_wiki, y_wiki = init_data_other_atc('wiki_atc_code')\n",
    "x_drugbank, y_drugbank = init_data_other_atc('drugbank_atc_code')\n",
    "x_external = x_wiki + x_drugbank\n",
    "y_external = y_wiki + y_drugbank\n",
    "\n",
    "# unlabeled data\n",
    "x_unlabeled = main_data['FREETXT'][n:]\n",
    "\n",
    "# removing text fields shorter than sliding window width\n",
    "xy_external = [(xx,yy) for (xx,yy) \n",
    "               in zip(x_external, y_external) \n",
    "               if len(xx) >= kwargs_lin_clf.ngram_width]\n",
    "x_external, y_external = zip(*xy_external)\n",
    "\n",
    "x_unlabeled = x_unlabeled.loc[[len(k) >= kwargs_lin_clf.ngram_width \n",
    "                               for k in x_unlabeled]]\n",
    "\n",
    "### global counter: characters ###\n",
    "if kwargs_lin_clf.mk_chars:\n",
    "    char_counter = dict_addition([Counter(obs) for obs in x])\n",
    "    allowed_chars = [key for key,value in char_counter.items() \n",
    "                     if value >= kwargs_lin_clf.char_filter]\n",
    "    allowed_chars.sort()\n",
    "\n",
    "    # replacing unknown characters with UNKNOWN symbol\n",
    "    unknown_char = '<unk-char>'\n",
    "    def make_chars(input, \n",
    "                   allowed_chars=allowed_chars, \n",
    "                   unknown_char=unknown_char):\n",
    "        \n",
    "        result = [list(obs) for obs in input]\n",
    "        result = [[char if char in allowed_chars \n",
    "                  else unknown_char for char in obs]\n",
    "                 for obs in result]\n",
    "        return result\n",
    "    \n",
    "    # for labeled x\n",
    "    x_unk = make_chars(x)\n",
    "    \n",
    "    # for labeled x from external sources\n",
    "    x_unk_external = make_chars(x_external)\n",
    "    \n",
    "    # for unlabeled x\n",
    "    x_unk_unlabeled = make_chars(x_unlabeled)\n",
    "else:\n",
    "    allowed_chars = list({char for obs in x for char in obs})\n",
    "    allowed_chars.sort()\n",
    "    x_unk_external = x_external\n",
    "    x_unk = x\n",
    "    x_unk_unlabeled = x_unlabeled\n",
    "\n",
    "# ### global counter: ngrams ###\n",
    "if kwargs_lin_clf.mk_ngrams:\n",
    "    ngram_counter = dict_addition(\n",
    "        [Counter(join_sliding_window(obs, kwargs_lin_clf.ngram_width))\n",
    "         for obs in x_unk])\n",
    "    allowed_ngrams = [key for key,value in ngram_counter.items() \n",
    "                     if value >= kwargs_lin_clf.ngram_filter]\n",
    "    allowed_ngrams.sort()\n",
    "    \n",
    "    ### apply ngrams ###\n",
    "    unknown_ngram = '<unk-ngram>'\n",
    "    def make_ngrams(input, \n",
    "                    allowed_ngrams=allowed_ngrams, \n",
    "                    unknown_ngram=unknown_ngram):\n",
    "        return [obs + [ngram\n",
    "                       if ngram in allowed_ngrams\n",
    "                       else unknown_ngram\n",
    "                       for ngram in \n",
    "                       join_sliding_window(obs, \n",
    "                           kwargs_lin_clf.ngram_width)]\n",
    "                for obs in input]\n",
    "    \n",
    "    # for labeled x\n",
    "    x_unk = make_ngrams(x_unk)\n",
    "    \n",
    "    # for labeled x from external sources\n",
    "    x_unk_external = make_ngrams(x_unk_external)\n",
    "    \n",
    "    # for unlabeled x\n",
    "    x_unk_unlabeled = make_ngrams(x_unk_unlabeled)\n",
    "    \n",
    "else:\n",
    "    pass\n",
    "\n",
    "# merge labeled sources together\n",
    "x_unk_all_labeled = x_unk + x_unk_external\n",
    "y = y + list(y_external)\n",
    "\n",
    "X_labeled = [Counter(obs) for obs in x_unk_all_labeled]\n",
    "X_unlabeled = [Counter(obs) for obs in x_unk_unlabeled]"
   ]
  },
  {
   "cell_type": "code",
   "execution_count": null,
   "metadata": {
    "collapsed": false
   },
   "outputs": [],
   "source": [
    "\"\"\"\n",
    "Generate label suggestions, \n",
    "based on a SVM classifier.\n",
    "\"\"\""
   ]
  },
  {
   "cell_type": "code",
   "execution_count": null,
   "metadata": {
    "collapsed": false
   },
   "outputs": [],
   "source": [
    "for var in [y, X_labeled, X_unlabeled]:\n",
    "    print(type(var), len(var), var[0])\n",
    "    \n",
    "# Counter([x for line in X_labeled for x in line])['<unk-char>']"
   ]
  },
  {
   "cell_type": "code",
   "execution_count": null,
   "metadata": {
    "collapsed": false
   },
   "outputs": [],
   "source": [
    "# using the train-validation split function\n",
    "# to discard infrequent labels\n",
    "_, x_train, _, y_train, _, _, _, statistics_dict = \\\n",
    "    train_validation_split(x=X_labeled, y=y, \n",
    "                           freq=[1 for elem in range(len(y))], \n",
    "                           label_count_thresh=kwargs_lin_clf.label_count_thresh, \n",
    "                           valid_ratio=kwargs_lin_clf.valid_ratio, \n",
    "                           keep_rare_labels=kwargs_lin_clf.keep_infreq_labels)"
   ]
  },
  {
   "cell_type": "code",
   "execution_count": null,
   "metadata": {
    "collapsed": false
   },
   "outputs": [],
   "source": [
    "# vectorizer transforms dict into sparse matrix\n",
    "v = DictVectorizer(sparse=True)\n",
    "\n",
    "# create a sparse X matrix with character and n-grams features\n",
    "X_train = v.fit_transform(x_train)\n",
    "X_unlabeled = v.transform(X_unlabeled)"
   ]
  },
  {
   "cell_type": "code",
   "execution_count": null,
   "metadata": {
    "collapsed": false
   },
   "outputs": [],
   "source": [
    "svm_clf = svm.SVC(**kwargs_svm)\n",
    "\n",
    "# print(svm_clf)\n",
    "svm_clf.fit(X_train, y_train)"
   ]
  },
  {
   "cell_type": "code",
   "execution_count": null,
   "metadata": {
    "collapsed": false
   },
   "outputs": [],
   "source": [
    "# array to hold log probabilities (takes a bit longer to calc)\n",
    "pred_prob = svm_clf.predict_log_proba(X_unlabeled)\n",
    "# makes y into array with the same shape as the log prob\n",
    "y_train_dense = y_to_dense(y=y_train, \n",
    "                           classes=svm_clf.classes_)"
   ]
  },
  {
   "cell_type": "code",
   "execution_count": null,
   "metadata": {
    "collapsed": false
   },
   "outputs": [],
   "source": [
    "prob_threshold = 0.5\n",
    "num_of_suggestions = sum(pred_prob.max(axis=1) >= np.log(prob_threshold))\n",
    "print('There are {} suggestions made, with a confidence of at least {}'\n",
    "      .format(num_of_suggestions, prob_threshold))\n",
    "# There are 936 suggestions made, with a confidence of at least 0.5\n",
    "print('Since this method appears to produce inferior results, it would not be investigated any further.')"
   ]
  },
  {
   "cell_type": "code",
   "execution_count": null,
   "metadata": {
    "collapsed": true
   },
   "outputs": [],
   "source": [
    "\"\"\"\n",
    "Generate label suggestions, \n",
    "based on Jaccard similarities to labels data.\n",
    "Skip the following block of code if file were already generated.\n",
    "\"\"\""
   ]
  },
  {
   "cell_type": "code",
   "execution_count": null,
   "metadata": {
    "collapsed": false
   },
   "outputs": [],
   "source": [
    "sim_result_list, sim_dict_filtered, sim_dict = \\\n",
    "    labeld_unlabeled_similarities(\n",
    "        sim_thereshold=0.5, \n",
    "        x_unlabeled=x_unlabeled, \n",
    "        X_unlabeled=X_unlabeled, \n",
    "        X_labeled=X_labeled, \n",
    "        y=y)\n",
    "\n",
    "# save to file (python pickle format)\n",
    "for name, obj in [('sim_result_list' + date_str, sim_result_list), \n",
    "                  ('sim_dict' + date_str, sim_dict), \n",
    "                  ('sim_dict_filtered' + date_str, sim_dict_filtered)]:\n",
    "    save(name, obj)\n",
    "#     print(name, str(obj))"
   ]
  },
  {
   "cell_type": "code",
   "execution_count": null,
   "metadata": {
    "collapsed": false
   },
   "outputs": [],
   "source": [
    "\"\"\"\n",
    "Load data from files, after files have been generated.\n",
    "\"\"\"\n",
    "sim_dict_filtered = load('sim_dict_filtered_5_8')"
   ]
  },
  {
   "cell_type": "code",
   "execution_count": null,
   "metadata": {
    "collapsed": false
   },
   "outputs": [],
   "source": [
    "def get_filtered_suggestion_results(threshold, \n",
    "                                    sim_dict_filtered):\n",
    "    \"\"\"\n",
    "    Inputs are threshold, a Jaccard similarity threshold\n",
    "        and sim_dict_filtered, of the form {'text': [(label, similarity)]}.\n",
    "    Returns some summaries regarding the label suggestions.\n",
    "        text: the free text field.\n",
    "        labels: the suggested labels.\n",
    "        number_of_distinct_labels: self explaining.\n",
    "        labels_sim_tup: retain the tuples in the raw form.\n",
    "    \"\"\"\n",
    "    text = []\n",
    "    labels = []\n",
    "    number_of_distinct_labels = []\n",
    "    labels_sim_tup = []\n",
    "\n",
    "    for key,val in sim_dict_filtered.items():\n",
    "        # val is a list of (label, sim) tuples\n",
    "\n",
    "        if max({v[1] for v in val}) >= threshold:\n",
    "#             print(key, len(\n",
    "#                 {v[0] for v in val if v[1] >= thresh}))\n",
    "\n",
    "            # add the free text\n",
    "            text.append([key])\n",
    "            # add the labels\n",
    "            labels.append([v[0] for v in val \n",
    "                           if v[1] >= threshold])\n",
    "            # count the number of distinct labels\n",
    "            number_of_distinct_labels.append(\n",
    "                len({v[0] for v in val \n",
    "                     if v[1] >= threshold}))\n",
    "            # add the filtered tuples list\n",
    "            labels_sim_tup.append([v for v in val \n",
    "                                   if v[1] >= threshold])\n",
    "            \n",
    "    return text, labels, \\\n",
    "           number_of_distinct_labels, \\\n",
    "           labels_sim_tup\n",
    "\n",
    "        \n",
    "def record_threshold_data(threshold, \n",
    "                          number_of_distinct_labels, \n",
    "                          labels_sim_tup):\n",
    "        \"\"\"\n",
    "        A handling function to record summaries for each threshold.\n",
    "        Is used to generate a Pandas DataFrame to analyze suggestions.\n",
    "        \"\"\"\n",
    "        return OrderedDict((\n",
    "            ('Threshold', threshold), \n",
    "            ('Mean # suggestions', \n",
    "             np.mean(number_of_distinct_labels)), \n",
    "            ('Max # suggestions', \n",
    "             max(number_of_distinct_labels)), \n",
    "            ('Mean similarity', \n",
    "           np.mean([[v[1] \n",
    "                     for tup in labels_sim_tup \n",
    "                     for v in tup]])), \n",
    "            ('Min similarity', \n",
    "             min([v[1] \n",
    "                  for tup in labels_sim_tup \n",
    "                  for v in tup])), \n",
    "          ('Unanimous suggestions', \n",
    "           len([l for l in number_of_distinct_labels \n",
    "                if l == 1])), \n",
    "            ('Unanimous mean similarity', \n",
    "             np.mean([tup[0][1] \n",
    "                      for tup, l \n",
    "                      in zip(labels_sim_tup, \n",
    "                             number_of_distinct_labels) \n",
    "                      if l == 1]))\n",
    "        ))\n"
   ]
  },
  {
   "cell_type": "code",
   "execution_count": null,
   "metadata": {
    "collapsed": false
   },
   "outputs": [],
   "source": [
    "label_suggestion_summary = []\n",
    "for threshold in np.linspace(0.5,1.0, 51):\n",
    "# for threshold in np.linspace(0.5,1.0, 3):\n",
    "    _, _, number_of_distinct_labels, \\\n",
    "        labels_sim_tup = \\\n",
    "        get_filtered_suggestion_results(threshold, \n",
    "                                        sim_dict_filtered)\n",
    "    label_suggestion_summary.append(\n",
    "        record_threshold_data(\n",
    "            threshold, \n",
    "            number_of_distinct_labels, \n",
    "            labels_sim_tup)        \n",
    "        )"
   ]
  },
  {
   "cell_type": "code",
   "execution_count": null,
   "metadata": {
    "collapsed": false
   },
   "outputs": [],
   "source": [
    "label_suggestion_summary =  \\\n",
    "    pd.DataFrame(label_suggestion_summary)\n",
    "    \n",
    "# some float formatting\n",
    "label_suggestion_summary_formatted = \\\n",
    "    label_suggestion_summary.head(5).style.format(\n",
    "        {'Mean # suggestions': '{:.2f}', \n",
    "         'Mean similarity': '{:.2f}', \n",
    "         'Min similarity': '{:.2f}', \n",
    "         'Unanimous mean similarity': '{:.2f}'})"
   ]
  },
  {
   "cell_type": "code",
   "execution_count": null,
   "metadata": {
    "collapsed": false
   },
   "outputs": [],
   "source": [
    "# label_suggestion_summary.head(3)\n",
    "label_suggestion_summary_formatted"
   ]
  },
  {
   "cell_type": "code",
   "execution_count": null,
   "metadata": {
    "collapsed": false
   },
   "outputs": [],
   "source": [
    "label_suggestion_summary.plot(x='Threshold', \n",
    "                              y=['Mean similarity', \n",
    "                                 'Min similarity', \n",
    "                                 'Unanimous mean similarity', \n",
    "                                 'Mean # suggestions', \n",
    "                                 'Max # suggestions'], \n",
    "#                               secondary_y=['Mean # suggestions', \n",
    "#                                            'Max # suggestions'], \n",
    "                              secondary_y=['Mean similarity', \n",
    "                                           'Min similarity', \n",
    "                                           'Unanimous mean similarity'], \n",
    "                              figsize=(12, 9) ,  # (width, height)\n",
    "                              ylim=(0,10), \n",
    "                              grid=True, \n",
    "                              kind='line')\n",
    "\n",
    "label_suggestion_summary.plot(x='Threshold', \n",
    "                              y=['Unanimous suggestions'], \n",
    "                              figsize=(12, 9) ,  # (width, height)\n",
    "                              grid=True, \n",
    "                              kind='line')\n",
    "# .axhline(y=0.002,xmin=0,xmax=3,c=\"blue\",linewidth=0.5,zorder=0)"
   ]
  },
  {
   "cell_type": "code",
   "execution_count": null,
   "metadata": {
    "collapsed": true
   },
   "outputs": [],
   "source": [
    "# after selecting a threshold\n",
    "# retrieve data again and export to CSV file\n",
    "threshold = 0.8\n",
    "text, labels, \\\n",
    "    number_of_distinct_labels, \\\n",
    "    labels_sim_tup = \\\n",
    "    get_filtered_suggestion_results(threshold, \n",
    "                                    sim_dict_filtered)"
   ]
  },
  {
   "cell_type": "code",
   "execution_count": null,
   "metadata": {
    "collapsed": false
   },
   "outputs": [],
   "source": [
    "print(len(text))\n",
    "print(len([elem \n",
    "           for elem in number_of_distinct_labels \n",
    "           if elem == 1]))\n",
    "print(len([elem \n",
    "           for elem in number_of_distinct_labels \n",
    "           if elem >= 2]))"
   ]
  },
  {
   "cell_type": "code",
   "execution_count": null,
   "metadata": {
    "collapsed": true
   },
   "outputs": [],
   "source": [
    "# keep only indices of entries with exactly 1 label suggestion\n",
    "keep_indices = [i for i, elem \n",
    "                in enumerate(number_of_distinct_labels) \n",
    "                if elem == 1]\n",
    "\n",
    "# keep all entries at keep_indices\n",
    "filter_indices = lambda somelist, indices:\\\n",
    "    [elem for i, elem \n",
    "     in enumerate(somelist) \n",
    "     if i in indices]\n",
    "\n",
    "text = filter_indices(text, keep_indices)\n",
    "labels = filter_indices(labels, keep_indices)\n",
    "number_of_distinct_labels = \\\n",
    "    filter_indices(number_of_distinct_labels, \n",
    "                   keep_indices)\n",
    "labels_sim_tup = \\\n",
    "    filter_indices(labels_sim_tup, keep_indices)"
   ]
  },
  {
   "cell_type": "code",
   "execution_count": null,
   "metadata": {
    "collapsed": false
   },
   "outputs": [],
   "source": [
    "print(len(text))\n",
    "print(len([elem \n",
    "           for elem in number_of_distinct_labels \n",
    "           if elem == 1]))\n",
    "print(len([elem \n",
    "           for elem in number_of_distinct_labels \n",
    "           if elem >= 2]))"
   ]
  },
  {
   "cell_type": "code",
   "execution_count": null,
   "metadata": {
    "collapsed": false
   },
   "outputs": [],
   "source": [
    "# check (again) that all labels are unanimously suggested\n",
    "assert all([len(set(label)) == 1 \n",
    "            for label\n",
    "            in labels])\n",
    "\n",
    "# check that labels and raw tuples match in order\n",
    "assert all([set(label).pop() == {t[0] \n",
    "                                 for t in tup}.pop() \n",
    "            for label, tup \n",
    "            in zip(labels, labels_sim_tup)])"
   ]
  },
  {
   "cell_type": "code",
   "execution_count": null,
   "metadata": {
    "collapsed": false
   },
   "outputs": [],
   "source": [
    "results_list = [(txt.pop(), \n",
    "                 set(label).pop(), \n",
    "                 max({t[1] for t in tup})) \n",
    "                for txt, label, tup\n",
    "                in zip(text, labels, labels_sim_tup)]\n",
    "\n",
    "# sort by similarity (element 2)\n",
    "results_list.sort(key=lambda line: line[2])"
   ]
  },
  {
   "cell_type": "code",
   "execution_count": null,
   "metadata": {
    "collapsed": false
   },
   "outputs": [],
   "source": [
    "# view results\n",
    "print(results_list[:2])\n",
    "print(results_list[-2:])  # last 2"
   ]
  },
  {
   "cell_type": "code",
   "execution_count": null,
   "metadata": {
    "collapsed": true
   },
   "outputs": [],
   "source": [
    "# save result to file\n",
    "\n",
    "###### use utils/save_csv\n",
    "# save_csv(fname, obj, \n",
    "#              headers, \n",
    "#              encoding='iso-8859-15')\n",
    "\n",
    "\n",
    "# with open('similarity_labels_suggestion_revised_10_5.csv', 'w', \n",
    "#           encoding='iso-8859-15') as f:\n",
    "#     writer = csv.writer(f, delimiter=',', quoting=csv.QUOTE_ALL)\n",
    "#     writer.writerows([('Text', 'Suggested label', 'Similarity')])\n",
    "#     writer.writerows(results_list)"
   ]
  },
  {
   "cell_type": "code",
   "execution_count": null,
   "metadata": {
    "collapsed": true
   },
   "outputs": [],
   "source": []
  },
  {
   "cell_type": "code",
   "execution_count": null,
   "metadata": {
    "collapsed": true
   },
   "outputs": [],
   "source": []
  },
  {
   "cell_type": "code",
   "execution_count": null,
   "metadata": {
    "collapsed": true
   },
   "outputs": [],
   "source": []
  },
  {
   "cell_type": "code",
   "execution_count": null,
   "metadata": {
    "collapsed": true
   },
   "outputs": [],
   "source": []
  },
  {
   "cell_type": "code",
   "execution_count": null,
   "metadata": {
    "collapsed": true
   },
   "outputs": [],
   "source": []
  },
  {
   "cell_type": "code",
   "execution_count": null,
   "metadata": {
    "collapsed": true
   },
   "outputs": [],
   "source": []
  },
  {
   "cell_type": "code",
   "execution_count": null,
   "metadata": {
    "collapsed": true
   },
   "outputs": [],
   "source": []
  },
  {
   "cell_type": "code",
   "execution_count": null,
   "metadata": {
    "collapsed": true
   },
   "outputs": [],
   "source": []
  },
  {
   "cell_type": "code",
   "execution_count": null,
   "metadata": {
    "collapsed": true
   },
   "outputs": [],
   "source": []
  },
  {
   "cell_type": "code",
   "execution_count": null,
   "metadata": {
    "collapsed": true
   },
   "outputs": [],
   "source": []
  },
  {
   "cell_type": "code",
   "execution_count": null,
   "metadata": {
    "collapsed": true
   },
   "outputs": [],
   "source": []
  },
  {
   "cell_type": "code",
   "execution_count": null,
   "metadata": {
    "collapsed": true
   },
   "outputs": [],
   "source": []
  },
  {
   "cell_type": "code",
   "execution_count": null,
   "metadata": {
    "collapsed": true
   },
   "outputs": [],
   "source": []
  }
 ],
 "metadata": {
  "anaconda-cloud": {},
  "kernelspec": {
   "display_name": "Python [conda env:tensorflow]",
   "language": "python",
   "name": "conda-env-tensorflow-py"
  },
  "language_info": {
   "codemirror_mode": {
    "name": "ipython",
    "version": 3
   },
   "file_extension": ".py",
   "mimetype": "text/x-python",
   "name": "python",
   "nbconvert_exporter": "python",
   "pygments_lexer": "ipython3",
   "version": "3.5.2"
  }
 },
 "nbformat": 4,
 "nbformat_minor": 2
}
