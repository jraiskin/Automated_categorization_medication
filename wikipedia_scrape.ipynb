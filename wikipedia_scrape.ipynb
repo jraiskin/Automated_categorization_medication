{
 "cells": [
  {
   "cell_type": "code",
   "execution_count": 1,
   "metadata": {
    "collapsed": false
   },
   "outputs": [],
   "source": [
    "from utils.utils import save, load\n",
    "\n",
    "from selenium import webdriver\n",
    "\n",
    "# from itertools import product, islice\n",
    "from itertools import islice\n",
    "from time import sleep\n",
    "from collections import OrderedDict\n",
    "import re\n",
    "import argparse"
   ]
  },
  {
   "cell_type": "code",
   "execution_count": 2,
   "metadata": {
    "collapsed": true
   },
   "outputs": [],
   "source": [
    "\"\"\"\n",
    "Enable passing some keyword arguments from command line.\n",
    "This does not affect the Jupyter notebook.\n",
    "\"\"\"\n",
    "# try:\n",
    "parser = argparse.ArgumentParser()\n",
    "\n",
    "parser.add_argument('--start', action='store', dest='start',\n",
    "                    help='Specify the starting iteration number', \n",
    "                    type=int,\n",
    "                    default=None)\n",
    "\n",
    "parser.add_argument('--stop', action='store', dest='stop',\n",
    "                    help='Specify the stopping iteration number', \n",
    "                    type=int, \n",
    "                    default=None)\n",
    "\n",
    "#     results = parser.parse_args()\n",
    "args, unknown = parser.parse_known_args()\n",
    "\n",
    "# if args.logdir is not None and isinstance(args.logdir, str):\n",
    "#     kwargs_simple_rnn.log_dir = str(args.logdir)\n",
    "\n",
    "start_itr = args.start\n",
    "stop_itr = args.stop\n",
    "\n",
    "sub_dir = 'scrape/'"
   ]
  },
  {
   "cell_type": "code",
   "execution_count": null,
   "metadata": {
    "collapsed": false,
    "scrolled": true
   },
   "outputs": [],
   "source": [
    "# all wiki articles of the ATC-code category can be found here\n",
    "petscan_url = 'https://petscan.wmflabs.org/?psid=1039824'\n",
    "\n",
    "# some constants regarding the articles in this category\n",
    "right_table_css_select = '#mw-content-text > table.float-right.infobox.wikitable'\n",
    "# fields to look for in the table ('Name' is matched from the header)\n",
    "var_name_list = ['Name', \n",
    "                 'ATC-Code', \n",
    "                 'Andere Namen', \n",
    "                 'CAS-Nummer', \n",
    "                 'PubChem', \n",
    "                 'Kurzbeschreibung', \n",
    "                 'PubMed-Suche', \n",
    "                 'Summenformel', \n",
    "                 'DrugBank', \n",
    "                 'Wirkstoffklasse', \n",
    "                 'Wirkmechanismus']"
   ]
  },
  {
   "cell_type": "code",
   "execution_count": null,
   "metadata": {
    "collapsed": false
   },
   "outputs": [],
   "source": [
    "driver = webdriver.Firefox()\n",
    "driver.delete_all_cookies()\n",
    "driver.get(petscan_url)\n",
    "driver.implicitly_wait(2)  # seconds"
   ]
  },
  {
   "cell_type": "code",
   "execution_count": null,
   "metadata": {
    "collapsed": false,
    "scrolled": true
   },
   "outputs": [],
   "source": [
    "# find all table rows that contain the\n",
    "# given partial_text, on the first (left) table cell\n",
    "find_row_by_text = lambda partial_text, row_list: \\\n",
    "    [row for row in row_list \n",
    "     if partial_text in row.find_elements_by_tag_name('td')[0].text]\n",
    "\n",
    "# get the text from the second (right) table cell\n",
    "get_right_cell_of_row = lambda row: \\\n",
    "    row.find_elements_by_tag_name('td')[1].text\\\n",
    "    .split('\\n')\n",
    "\n",
    "strip_ref = lambda text: re.sub(r'\\[.+?\\]\\s*', '', text)\n",
    "\n",
    "def get_table_data(partial_text, row_list, d=driver):\n",
    "    \"\"\"\n",
    "    Looks for a row in the 'row_list'\n",
    "    containing 'partial_text' and\n",
    "    returns (partial_text, [values]).\n",
    "    In case the partial_text is not found, values are None.\n",
    "    Removes numbers, used by Wikipedia for references.\n",
    "    \"\"\"\n",
    "    if partial_text == 'Name':\n",
    "        return (partial_text, \n",
    "                [d.find_element_by_id('firstHeading').text])\n",
    "    atc_row = find_row_by_text(partial_text, right_table_rows)\n",
    "    if len(atc_row) == 0:\n",
    "        values = [None]\n",
    "    else:\n",
    "        assert len(atc_row) == 1\n",
    "        atc_row = atc_row[0]\n",
    "        values = [strip_ref(elem) \n",
    "                  for elem in get_right_cell_of_row(atc_row)]\n",
    "    return (partial_text, values)"
   ]
  },
  {
   "cell_type": "code",
   "execution_count": null,
   "metadata": {
    "collapsed": false
   },
   "outputs": [],
   "source": [
    "# get all links tp wiki articles from the ATC-code category \n",
    "petscan_results_id = 'main_table'\n",
    "petscan_results = driver.find_element_by_id(petscan_results_id)\n",
    "petscan_results = petscan_results.find_elements_by_tag_name('a')\n",
    "petscan_results_links = [elem.get_attribute('href') \n",
    "                         for elem in petscan_results]"
   ]
  },
  {
   "cell_type": "code",
   "execution_count": null,
   "metadata": {
    "collapsed": false,
    "scrolled": true
   },
   "outputs": [],
   "source": [
    "# iterate through all links and collect results\n",
    "data_collector_list = []\n",
    "\n",
    "\n",
    "if start_itr is None:\n",
    "    start_itr = 1000\n",
    "if stop_itr is None:\n",
    "    stop_itr = len(petscan_results_links)\n",
    "    \n",
    "print('Starting at {}'.format(start_itr))\n",
    "print('Stopping at {}'.format(stop_itr))\n",
    "\n",
    "petscan_results_links = enumerate(petscan_results_links)\n",
    "\n",
    "iterable = islice(petscan_results_links, \n",
    "                  start_itr, \n",
    "                  stop_itr)\n",
    "\n",
    "for step, art_link in iterable:\n",
    "    print('step number {}'.format(step))\n",
    "    driver.get(art_link)\n",
    "    sleep(0.1)\n",
    "    \n",
    "    # try, since some pages are really weird, such as\n",
    "    # https://de.wikipedia.org/wiki/Ginkgo\n",
    "    try:\n",
    "        # get rows of the table on the right\n",
    "        right_table = driver.find_element_by_css_selector(right_table_css_select)\n",
    "        right_table_rows = right_table.find_elements_by_tag_name('tr')\n",
    "\n",
    "        # keep rows with exactly 2 columns\n",
    "        right_table_rows = \\\n",
    "            [row for row in right_table_rows \n",
    "             if len(row.find_elements_by_tag_name('td')) == 2]\n",
    "\n",
    "        data_collector_list.append(\n",
    "            OrderedDict([get_table_data(var, right_table_rows) \n",
    "                         for var in var_name_list]))\n",
    "    except:\n",
    "        print('Encountered a very weird article!')\n",
    "        print('Step number {}, article named {}'.\n",
    "              format(step, get_table_data('Name', [])[0]))\n",
    "        print('Skipping to the next page.')\n",
    "        "
   ]
  },
  {
   "cell_type": "code",
   "execution_count": null,
   "metadata": {
    "collapsed": false
   },
   "outputs": [],
   "source": [
    "print('Done scraping!')\n",
    "print('Saving now')"
   ]
  },
  {
   "cell_type": "code",
   "execution_count": null,
   "metadata": {
    "collapsed": false
   },
   "outputs": [],
   "source": [
    "# print(data_collector_list)\n",
    "\n",
    "def keep_unique(seq):\n",
    "    seen = []wiki_df_filtered\n",
    "    seen_add = seen.append\n",
    "    return [x for x in seq if not (x in seen or seen_add(x))]\n",
    "\n",
    "data_collector_list_unique = \\\n",
    "    keep_unique(data_collector_list)\n",
    "\n",
    "save(fname=sub_dir+'wikipedia_raw_data_collector_num_{}_{}'.\\\n",
    "     format(start_itr, stop_itr),\n",
    "     obj=data_collector_list_unique)"
   ]
  },
  {
   "cell_type": "code",
   "execution_count": null,
   "metadata": {
    "collapsed": true
   },
   "outputs": [],
   "source": [
    "print('Done saving!')"
   ]
  },
  {
   "cell_type": "code",
   "execution_count": null,
   "metadata": {
    "collapsed": false
   },
   "outputs": [],
   "source": [
    "driver.close()"
   ]
  },
  {
   "cell_type": "code",
   "execution_count": 3,
   "metadata": {
    "collapsed": false
   },
   "outputs": [],
   "source": [
    "\"\"\"\n",
    "Load raw data from file.\n",
    "\"\"\"\n",
    "\n",
    "from os import listdir\n",
    "from os.path import isfile, join\n",
    "import pandas as pd\n",
    "\n",
    "import matplotlib.pyplot as plt\n",
    "%matplotlib inline\n",
    "\n",
    "flatten_list = lambda l: [item for sublist in l for item in sublist]\n",
    "\n",
    "wiki_raw_data_files = \\\n",
    "    [join(sub_dir, f) \n",
    "     for f in listdir(sub_dir) \n",
    "     if isfile(join(sub_dir, f)) and \n",
    "     'wikipedia_raw_data_collector_num_' in join(sub_dir, f)]"
   ]
  },
  {
   "cell_type": "code",
   "execution_count": 4,
   "metadata": {
    "collapsed": false
   },
   "outputs": [],
   "source": [
    "wiki_raw_data_dict = {k:load(v) for k,v \n",
    "                      in enumerate(wiki_raw_data_files)}"
   ]
  },
  {
   "cell_type": "code",
   "execution_count": 5,
   "metadata": {
    "collapsed": false
   },
   "outputs": [],
   "source": [
    "wiki_raw_data = flatten_list(list(\n",
    "    wiki_raw_data_dict.values()))"
   ]
  },
  {
   "cell_type": "code",
   "execution_count": 6,
   "metadata": {
    "collapsed": false,
    "scrolled": false
   },
   "outputs": [
    {
     "name": "stdout",
     "output_type": "stream",
     "text": [
      "The Wikipedia.de raw files contain 1635 entries.\n"
     ]
    }
   ],
   "source": [
    "wiki_df = pd.DataFrame(wiki_raw_data)\n",
    "\n",
    "valid_len = lambda x: 0 if x==[None] else len(x)\n",
    "wiki_df_len = wiki_df.applymap(valid_len)\n",
    "\n",
    "print('The Wikipedia.de raw files contain {} entries.'.format(len(wiki_df)))"
   ]
  },
  {
   "cell_type": "code",
   "execution_count": 7,
   "metadata": {
    "collapsed": false
   },
   "outputs": [
    {
     "data": {
      "text/plain": [
       "<matplotlib.axes._subplots.AxesSubplot at 0x7fad44402898>"
      ]
     },
     "execution_count": 7,
     "metadata": {},
     "output_type": "execute_result"
    },
    {
     "data": {
      "image/png": "[encoded data removed]",
      "text/plain": [
       "<matplotlib.figure.Figure at 0x7fad443efc50>"
      ]
     },
     "metadata": {},
     "output_type": "display_data"
    }
   ],
   "source": [
    "# wiki_df_len.head(5)\n",
    "\n",
    "# plt.figure();\n",
    "wiki_df_len.plot.hist(stacked=True, \n",
    "                      alpha=1.0, \n",
    "                      figsize=(12, 14), \n",
    "                      grid=True, bins=range(-1, 10+1))"
   ]
  },
  {
   "cell_type": "code",
   "execution_count": 8,
   "metadata": {
    "collapsed": false
   },
   "outputs": [
    {
     "name": "stdout",
     "output_type": "stream",
     "text": [
      "After keeping only entries with one name and one ATC-code, we are left with 1379 entries\n"
     ]
    }
   ],
   "source": [
    "# wiki_df.drop(wiki_df[wiki_df.Name !=1])\n",
    "wiki_df_filtered = \\\n",
    "    wiki_df.drop(wiki_df[\n",
    "        (wiki_df_len['Name'] !=1) | \\\n",
    "        (wiki_df_len['ATC-Code'] !=1)].index)\n",
    "\n",
    "print('After keeping only entries with one name and one ATC-code, ' +\\\n",
    "      'we are left with {} entries'.format(len(wiki_df_filtered)))"
   ]
  },
  {
   "cell_type": "code",
   "execution_count": 9,
   "metadata": {
    "collapsed": false
   },
   "outputs": [
    {
     "data": {
      "text/plain": [
       "<matplotlib.axes._subplots.AxesSubplot at 0x7fad422ff358>"
      ]
     },
     "execution_count": 9,
     "metadata": {},
     "output_type": "execute_result"
    },
    {
     "data": {
      "image/png": "[encoded data removed]",
      "text/plain": [
       "<matplotlib.figure.Figure at 0x7fad70444668>"
      ]
     },
     "metadata": {},
     "output_type": "display_data"
    }
   ],
   "source": [
    "wiki_df_filtered['Andere Namen'].apply(valid_len)\\\n",
    "    .hist(stacked=True, \n",
    "          alpha=1.0, \n",
    "          figsize=(12, 14), \n",
    "          grid=True, \n",
    "          bins=range(-1, 10+1))"
   ]
  },
  {
   "cell_type": "code",
   "execution_count": 10,
   "metadata": {
    "collapsed": false,
    "scrolled": true
   },
   "outputs": [],
   "source": [
    "collector_other_names = []\n",
    "# iterable = islice(wiki_df_filtered.iterrows(), 0, 30)\n",
    "iterable = wiki_df_filtered.iterrows()\n",
    "\n",
    "for index, df_row in iterable:\n",
    "    other_names = df_row['Andere Namen']\n",
    "    if other_names == [None]:\n",
    "        continue\n",
    "    new_candidate_rows = [OrderedDict(df_row) \n",
    "                          for name in other_names]\n",
    "    \n",
    "    for k, name in enumerate(other_names):\n",
    "        new_candidate_rows[k]['Name'] = [name]\n",
    "    \n",
    "    collector_other_names.extend(new_candidate_rows)"
   ]
  },
  {
   "cell_type": "code",
   "execution_count": 11,
   "metadata": {
    "collapsed": false
   },
   "outputs": [
    {
     "name": "stdout",
     "output_type": "stream",
     "text": [
      "Created 2833 additional rows from \"Other Names (Andere Namen)\"\n"
     ]
    }
   ],
   "source": [
    "print('Created {} additional rows from \"Other Names (Andere Namen)\"'.\\\n",
    "      format(len(collector_other_names)))"
   ]
  },
  {
   "cell_type": "code",
   "execution_count": 12,
   "metadata": {
    "collapsed": false
   },
   "outputs": [],
   "source": [
    "wiki_df_other_names = \\\n",
    "    pd.DataFrame(collector_other_names, \n",
    "                 index=range(\n",
    "                     max(wiki_df_filtered.index), \n",
    "                     max(wiki_df_filtered.index)+\\\n",
    "                         len(collector_other_names)))"
   ]
  },
  {
   "cell_type": "code",
   "execution_count": 13,
   "metadata": {
    "collapsed": false
   },
   "outputs": [],
   "source": [
    "# concat the two DataFrames into a single one\n",
    "wiki_df_merged = \\\n",
    "    pd.concat([wiki_df_filtered[['Name', 'ATC-Code']], \n",
    "               wiki_df_other_names[['Name', 'ATC-Code']]],\n",
    "               ignore_index=True)"
   ]
  },
  {
   "cell_type": "code",
   "execution_count": 14,
   "metadata": {
    "collapsed": false
   },
   "outputs": [
    {
     "data": {
      "text/html": [
       "<div>\n",
       "<table border=\"1\" class=\"dataframe\">\n",
       "  <thead>\n",
       "    <tr style=\"text-align: right;\">\n",
       "      <th></th>\n",
       "      <th>Name</th>\n",
       "      <th>ATC-Code</th>\n",
       "    </tr>\n",
       "  </thead>\n",
       "  <tbody>\n",
       "    <tr>\n",
       "      <th>0</th>\n",
       "      <td>[Nebivolol]</td>\n",
       "      <td>[C07AB12]</td>\n",
       "    </tr>\n",
       "    <tr>\n",
       "      <th>1</th>\n",
       "      <td>[Afamelanotid]</td>\n",
       "      <td>[D02BB02]</td>\n",
       "    </tr>\n",
       "    <tr>\n",
       "      <th>2</th>\n",
       "      <td>[Ergocalciferol]</td>\n",
       "      <td>[A11CC01]</td>\n",
       "    </tr>\n",
       "    <tr>\n",
       "      <th>3</th>\n",
       "      <td>[Pindolol]</td>\n",
       "      <td>[C07AA03]</td>\n",
       "    </tr>\n",
       "    <tr>\n",
       "      <th>4</th>\n",
       "      <td>[Apramycin]</td>\n",
       "      <td>[QA07AA92]</td>\n",
       "    </tr>\n",
       "    <tr>\n",
       "      <th>5</th>\n",
       "      <td>[Flupentixol]</td>\n",
       "      <td>[N05AF01]</td>\n",
       "    </tr>\n",
       "    <tr>\n",
       "      <th>6</th>\n",
       "      <td>[Lenalidomid]</td>\n",
       "      <td>[L04AX04]</td>\n",
       "    </tr>\n",
       "    <tr>\n",
       "      <th>7</th>\n",
       "      <td>[Sotalol]</td>\n",
       "      <td>[C07AA07]</td>\n",
       "    </tr>\n",
       "    <tr>\n",
       "      <th>8</th>\n",
       "      <td>[Alprenolol]</td>\n",
       "      <td>[C07AA01]</td>\n",
       "    </tr>\n",
       "    <tr>\n",
       "      <th>9</th>\n",
       "      <td>[Lercanidipin]</td>\n",
       "      <td>[C08CA13]</td>\n",
       "    </tr>\n",
       "    <tr>\n",
       "      <th>10</th>\n",
       "      <td>[Barbital]</td>\n",
       "      <td>[N05CA04]</td>\n",
       "    </tr>\n",
       "    <tr>\n",
       "      <th>11</th>\n",
       "      <td>[Mepacrin]</td>\n",
       "      <td>[P01AX05]</td>\n",
       "    </tr>\n",
       "    <tr>\n",
       "      <th>12</th>\n",
       "      <td>[Zinn(II)-fluorid]</td>\n",
       "      <td>[A01AA04]</td>\n",
       "    </tr>\n",
       "    <tr>\n",
       "      <th>13</th>\n",
       "      <td>[Atenolol]</td>\n",
       "      <td>[C07AB03]</td>\n",
       "    </tr>\n",
       "    <tr>\n",
       "      <th>14</th>\n",
       "      <td>[Artemether]</td>\n",
       "      <td>[P01BE02, P01BE52]</td>\n",
       "    </tr>\n",
       "    <tr>\n",
       "      <th>15</th>\n",
       "      <td>[Artesunat]</td>\n",
       "      <td>[P01BE03]</td>\n",
       "    </tr>\n",
       "    <tr>\n",
       "      <th>16</th>\n",
       "      <td>[Lumefantrin]</td>\n",
       "      <td>[P01 ]</td>\n",
       "    </tr>\n",
       "    <tr>\n",
       "      <th>17</th>\n",
       "      <td>[Amodiaquin]</td>\n",
       "      <td>[P01BA06]</td>\n",
       "    </tr>\n",
       "    <tr>\n",
       "      <th>18</th>\n",
       "      <td>[Zonisamid]</td>\n",
       "      <td>[N03AX15]</td>\n",
       "    </tr>\n",
       "    <tr>\n",
       "      <th>19</th>\n",
       "      <td>[Dihydroergocryptin]</td>\n",
       "      <td>[N04BC03]</td>\n",
       "    </tr>\n",
       "    <tr>\n",
       "      <th>20</th>\n",
       "      <td>[Anagrelid]</td>\n",
       "      <td>[L01XX35]</td>\n",
       "    </tr>\n",
       "    <tr>\n",
       "      <th>21</th>\n",
       "      <td>[Ethacridinlactat]</td>\n",
       "      <td>[D08AA01]</td>\n",
       "    </tr>\n",
       "    <tr>\n",
       "      <th>22</th>\n",
       "      <td>[Palivizumab]</td>\n",
       "      <td>[J06BB16]</td>\n",
       "    </tr>\n",
       "    <tr>\n",
       "      <th>23</th>\n",
       "      <td>[Clobutinol]</td>\n",
       "      <td>[R05DB03]</td>\n",
       "    </tr>\n",
       "    <tr>\n",
       "      <th>24</th>\n",
       "      <td>[Kaliumhydrogencarbonat]</td>\n",
       "      <td>[A12BA04]</td>\n",
       "    </tr>\n",
       "    <tr>\n",
       "      <th>25</th>\n",
       "      <td>[Paliperidon]</td>\n",
       "      <td>[N05AX13]</td>\n",
       "    </tr>\n",
       "    <tr>\n",
       "      <th>26</th>\n",
       "      <td>[Artemotil]</td>\n",
       "      <td>[P01BE04]</td>\n",
       "    </tr>\n",
       "    <tr>\n",
       "      <th>27</th>\n",
       "      <td>[Paromomycin]</td>\n",
       "      <td>[A07AA06]</td>\n",
       "    </tr>\n",
       "    <tr>\n",
       "      <th>28</th>\n",
       "      <td>[Eszopiclon]</td>\n",
       "      <td>[N05CF04]</td>\n",
       "    </tr>\n",
       "    <tr>\n",
       "      <th>29</th>\n",
       "      <td>[Eculizumab]</td>\n",
       "      <td>[L04AA25]</td>\n",
       "    </tr>\n",
       "    <tr>\n",
       "      <th>...</th>\n",
       "      <td>...</td>\n",
       "      <td>...</td>\n",
       "    </tr>\n",
       "    <tr>\n",
       "      <th>4182</th>\n",
       "      <td>[rac-1-(Isopropylamino)-3-(naphthalen-1-yloxy)...</td>\n",
       "      <td>[C07AA05]</td>\n",
       "    </tr>\n",
       "    <tr>\n",
       "      <th>4183</th>\n",
       "      <td>[(±)-1-(Isopropylamino)-3-(naphthalen-1-yloxy)...</td>\n",
       "      <td>[C07AA05]</td>\n",
       "    </tr>\n",
       "    <tr>\n",
       "      <th>4184</th>\n",
       "      <td>[DL-1-(Isopropylamino)-3-(naphthalen-1-yloxy)-...</td>\n",
       "      <td>[C07AA05]</td>\n",
       "    </tr>\n",
       "    <tr>\n",
       "      <th>4185</th>\n",
       "      <td>[4-Amino-N-(2-diethylaminoethyl)-benzamid (IUP...</td>\n",
       "      <td>[C01BA02]</td>\n",
       "    </tr>\n",
       "    <tr>\n",
       "      <th>4186</th>\n",
       "      <td>[(±)-1-(2-Allyloxyphenoxy)-3-(isopropylamino)p...</td>\n",
       "      <td>[C07AA02]</td>\n",
       "    </tr>\n",
       "    <tr>\n",
       "      <th>4187</th>\n",
       "      <td>[(RS)-1-(2-Allyloxyphenoxy)-3-isopropylamino-2...</td>\n",
       "      <td>[C07AA02]</td>\n",
       "    </tr>\n",
       "    <tr>\n",
       "      <th>4188</th>\n",
       "      <td>[(RS)-1,3-Dimethyl-7--3,7-dihydro-2H-purin-2,6...</td>\n",
       "      <td>[N06BA10]</td>\n",
       "    </tr>\n",
       "    <tr>\n",
       "      <th>4189</th>\n",
       "      <td>[rac-1,3-Dimethyl-7--3,7-dihydro-2H-purin-2,6-...</td>\n",
       "      <td>[N06BA10]</td>\n",
       "    </tr>\n",
       "    <tr>\n",
       "      <th>4190</th>\n",
       "      <td>[DL-1,3-Dimethyl-7--3,7-dihydro-2H-purin-2,6-d...</td>\n",
       "      <td>[N06BA10]</td>\n",
       "    </tr>\n",
       "    <tr>\n",
       "      <th>4191</th>\n",
       "      <td>[Fenetyllinum (Latein)]</td>\n",
       "      <td>[N06BA10]</td>\n",
       "    </tr>\n",
       "    <tr>\n",
       "      <th>4192</th>\n",
       "      <td>[5-Oxo-Pro-His-Trp-Ser-Tyr-d-Leu-Leu-Arg-Pro-N...</td>\n",
       "      <td>[L02AE02]</td>\n",
       "    </tr>\n",
       "    <tr>\n",
       "      <th>4193</th>\n",
       "      <td>[4,4′-(Triazen-1,3-diyl)dibenzen carbimidamid]</td>\n",
       "      <td>[QP51AF01]</td>\n",
       "    </tr>\n",
       "    <tr>\n",
       "      <th>4194</th>\n",
       "      <td>[3α,7α,12α-Trihydroxycholansäure]</td>\n",
       "      <td>[A05AA03]</td>\n",
       "    </tr>\n",
       "    <tr>\n",
       "      <th>4195</th>\n",
       "      <td>[E 650]</td>\n",
       "      <td>[A16AX05]</td>\n",
       "    </tr>\n",
       "    <tr>\n",
       "      <th>4196</th>\n",
       "      <td>[(1R)-3-Methyl-1-({(2S)-3-phenyl-2-propanoyl}a...</td>\n",
       "      <td>[L01XX32]</td>\n",
       "    </tr>\n",
       "    <tr>\n",
       "      <th>4197</th>\n",
       "      <td>[PS-341 (Entwicklungsbezeichnung)]</td>\n",
       "      <td>[L01XX32]</td>\n",
       "    </tr>\n",
       "    <tr>\n",
       "      <th>4198</th>\n",
       "      <td>[(R)-2-acetamid (IUPAC)]</td>\n",
       "      <td>[N06BA]</td>\n",
       "    </tr>\n",
       "    <tr>\n",
       "      <th>4199</th>\n",
       "      <td>[(R)-(–)-2-acetamid]</td>\n",
       "      <td>[N06BA]</td>\n",
       "    </tr>\n",
       "    <tr>\n",
       "      <th>4200</th>\n",
       "      <td>[(10E,14E,16E)-(1R,4S,5′S,6R,6′R,8R,13R,20R,24...</td>\n",
       "      <td>[QP54AB01]</td>\n",
       "    </tr>\n",
       "    <tr>\n",
       "      <th>4201</th>\n",
       "      <td>[(10E,14E,16E)-(1R,4S,5′S,6R,6′R,8R,13R,20R,24...</td>\n",
       "      <td>[QP54AB01]</td>\n",
       "    </tr>\n",
       "    <tr>\n",
       "      <th>4202</th>\n",
       "      <td>[kohlensaures Lanthan]</td>\n",
       "      <td>[V03AE03]</td>\n",
       "    </tr>\n",
       "    <tr>\n",
       "      <th>4203</th>\n",
       "      <td>[N-{sulfonyl}propionamid (IUPAC)]</td>\n",
       "      <td>[M01AH04]</td>\n",
       "    </tr>\n",
       "    <tr>\n",
       "      <th>4204</th>\n",
       "      <td>[Acetylmethylcholin]</td>\n",
       "      <td>[V04CL01]</td>\n",
       "    </tr>\n",
       "    <tr>\n",
       "      <th>4205</th>\n",
       "      <td>[2-Acetyloxypropyl-trimethyl-azanium (IUPAC)]</td>\n",
       "      <td>[V04CL01]</td>\n",
       "    </tr>\n",
       "    <tr>\n",
       "      <th>4206</th>\n",
       "      <td>[(RS)-Hydroxychlorochin]</td>\n",
       "      <td>[P01BA02]</td>\n",
       "    </tr>\n",
       "    <tr>\n",
       "      <th>4207</th>\n",
       "      <td>[(RS)-Oxychloroquin]</td>\n",
       "      <td>[P01BA02]</td>\n",
       "    </tr>\n",
       "    <tr>\n",
       "      <th>4208</th>\n",
       "      <td>[4a,7,9-Trihydroxy-2-methyl-6,8-bis(methylamin...</td>\n",
       "      <td>[J01XX04]</td>\n",
       "    </tr>\n",
       "    <tr>\n",
       "      <th>4209</th>\n",
       "      <td>[(1R,3S,5R,8R,10R,11S,12S,13R,14S)-8,12,14-tri...</td>\n",
       "      <td>[J01XX04]</td>\n",
       "    </tr>\n",
       "    <tr>\n",
       "      <th>4210</th>\n",
       "      <td>[2,2-Dichlor-N-((1R,2S)-3-fluor-1-hydroxy-1-(4...</td>\n",
       "      <td>[QJ01BA90, QJ51BA90]</td>\n",
       "    </tr>\n",
       "    <tr>\n",
       "      <th>4211</th>\n",
       "      <td>[(1R,2R)-2,2-Dichlor-N--acetamid]</td>\n",
       "      <td>[QJ51BA02]</td>\n",
       "    </tr>\n",
       "  </tbody>\n",
       "</table>\n",
       "<p>4212 rows × 2 columns</p>\n",
       "</div>"
      ],
      "text/plain": [
       "                                                   Name              ATC-Code\n",
       "0                                           [Nebivolol]             [C07AB12]\n",
       "1                                        [Afamelanotid]             [D02BB02]\n",
       "2                                      [Ergocalciferol]             [A11CC01]\n",
       "3                                            [Pindolol]             [C07AA03]\n",
       "4                                           [Apramycin]            [QA07AA92]\n",
       "5                                         [Flupentixol]             [N05AF01]\n",
       "6                                         [Lenalidomid]             [L04AX04]\n",
       "7                                             [Sotalol]             [C07AA07]\n",
       "8                                          [Alprenolol]             [C07AA01]\n",
       "9                                        [Lercanidipin]             [C08CA13]\n",
       "10                                           [Barbital]             [N05CA04]\n",
       "11                                           [Mepacrin]             [P01AX05]\n",
       "12                                   [Zinn(II)-fluorid]             [A01AA04]\n",
       "13                                           [Atenolol]             [C07AB03]\n",
       "14                                         [Artemether]    [P01BE02, P01BE52]\n",
       "15                                          [Artesunat]             [P01BE03]\n",
       "16                                        [Lumefantrin]                [P01 ]\n",
       "17                                         [Amodiaquin]             [P01BA06]\n",
       "18                                          [Zonisamid]             [N03AX15]\n",
       "19                                 [Dihydroergocryptin]             [N04BC03]\n",
       "20                                          [Anagrelid]             [L01XX35]\n",
       "21                                   [Ethacridinlactat]             [D08AA01]\n",
       "22                                        [Palivizumab]             [J06BB16]\n",
       "23                                         [Clobutinol]             [R05DB03]\n",
       "24                             [Kaliumhydrogencarbonat]             [A12BA04]\n",
       "25                                        [Paliperidon]             [N05AX13]\n",
       "26                                          [Artemotil]             [P01BE04]\n",
       "27                                        [Paromomycin]             [A07AA06]\n",
       "28                                         [Eszopiclon]             [N05CF04]\n",
       "29                                         [Eculizumab]             [L04AA25]\n",
       "...                                                 ...                   ...\n",
       "4182  [rac-1-(Isopropylamino)-3-(naphthalen-1-yloxy)...             [C07AA05]\n",
       "4183  [(±)-1-(Isopropylamino)-3-(naphthalen-1-yloxy)...             [C07AA05]\n",
       "4184  [DL-1-(Isopropylamino)-3-(naphthalen-1-yloxy)-...             [C07AA05]\n",
       "4185  [4-Amino-N-(2-diethylaminoethyl)-benzamid (IUP...             [C01BA02]\n",
       "4186  [(±)-1-(2-Allyloxyphenoxy)-3-(isopropylamino)p...             [C07AA02]\n",
       "4187  [(RS)-1-(2-Allyloxyphenoxy)-3-isopropylamino-2...             [C07AA02]\n",
       "4188  [(RS)-1,3-Dimethyl-7--3,7-dihydro-2H-purin-2,6...             [N06BA10]\n",
       "4189  [rac-1,3-Dimethyl-7--3,7-dihydro-2H-purin-2,6-...             [N06BA10]\n",
       "4190  [DL-1,3-Dimethyl-7--3,7-dihydro-2H-purin-2,6-d...             [N06BA10]\n",
       "4191                            [Fenetyllinum (Latein)]             [N06BA10]\n",
       "4192  [5-Oxo-Pro-His-Trp-Ser-Tyr-d-Leu-Leu-Arg-Pro-N...             [L02AE02]\n",
       "4193     [4,4′-(Triazen-1,3-diyl)dibenzen carbimidamid]            [QP51AF01]\n",
       "4194                  [3α,7α,12α-Trihydroxycholansäure]             [A05AA03]\n",
       "4195                                            [E 650]             [A16AX05]\n",
       "4196  [(1R)-3-Methyl-1-({(2S)-3-phenyl-2-propanoyl}a...             [L01XX32]\n",
       "4197                 [PS-341 (Entwicklungsbezeichnung)]             [L01XX32]\n",
       "4198                           [(R)-2-acetamid (IUPAC)]               [N06BA]\n",
       "4199                               [(R)-(–)-2-acetamid]               [N06BA]\n",
       "4200  [(10E,14E,16E)-(1R,4S,5′S,6R,6′R,8R,13R,20R,24...            [QP54AB01]\n",
       "4201  [(10E,14E,16E)-(1R,4S,5′S,6R,6′R,8R,13R,20R,24...            [QP54AB01]\n",
       "4202                             [kohlensaures Lanthan]             [V03AE03]\n",
       "4203                  [N-{sulfonyl}propionamid (IUPAC)]             [M01AH04]\n",
       "4204                               [Acetylmethylcholin]             [V04CL01]\n",
       "4205      [2-Acetyloxypropyl-trimethyl-azanium (IUPAC)]             [V04CL01]\n",
       "4206                           [(RS)-Hydroxychlorochin]             [P01BA02]\n",
       "4207                               [(RS)-Oxychloroquin]             [P01BA02]\n",
       "4208  [4a,7,9-Trihydroxy-2-methyl-6,8-bis(methylamin...             [J01XX04]\n",
       "4209  [(1R,3S,5R,8R,10R,11S,12S,13R,14S)-8,12,14-tri...             [J01XX04]\n",
       "4210  [2,2-Dichlor-N-((1R,2S)-3-fluor-1-hydroxy-1-(4...  [QJ01BA90, QJ51BA90]\n",
       "4211                  [(1R,2R)-2,2-Dichlor-N--acetamid]            [QJ51BA02]\n",
       "\n",
       "[4212 rows x 2 columns]"
      ]
     },
     "execution_count": 14,
     "metadata": {},
     "output_type": "execute_result"
    }
   ],
   "source": [
    "wiki_df_merged"
   ]
  },
  {
   "cell_type": "code",
   "execution_count": 16,
   "metadata": {
    "collapsed": false,
    "scrolled": true
   },
   "outputs": [
    {
     "data": {
      "text/html": [
       "<div>\n",
       "<table border=\"1\" class=\"dataframe\">\n",
       "  <thead>\n",
       "    <tr style=\"text-align: right;\">\n",
       "      <th></th>\n",
       "      <th>Name</th>\n",
       "      <th>ATC-Code</th>\n",
       "    </tr>\n",
       "  </thead>\n",
       "  <tbody>\n",
       "    <tr>\n",
       "      <th>0</th>\n",
       "      <td>Nebivolol</td>\n",
       "      <td>C07AB12</td>\n",
       "    </tr>\n",
       "    <tr>\n",
       "      <th>1</th>\n",
       "      <td>Afamelanotid</td>\n",
       "      <td>D02BB02</td>\n",
       "    </tr>\n",
       "    <tr>\n",
       "      <th>2</th>\n",
       "      <td>Ergocalciferol</td>\n",
       "      <td>A11CC01</td>\n",
       "    </tr>\n",
       "    <tr>\n",
       "      <th>3</th>\n",
       "      <td>Pindolol</td>\n",
       "      <td>C07AA03</td>\n",
       "    </tr>\n",
       "    <tr>\n",
       "      <th>4</th>\n",
       "      <td>Apramycin</td>\n",
       "      <td>QA07AA92</td>\n",
       "    </tr>\n",
       "  </tbody>\n",
       "</table>\n",
       "</div>"
      ],
      "text/plain": [
       "             Name  ATC-Code\n",
       "0       Nebivolol   C07AB12\n",
       "1    Afamelanotid   D02BB02\n",
       "2  Ergocalciferol   A11CC01\n",
       "3        Pindolol   C07AA03\n",
       "4       Apramycin  QA07AA92"
      ]
     },
     "execution_count": 16,
     "metadata": {},
     "output_type": "execute_result"
    }
   ],
   "source": [
    "pop = lambda x: x[0]\n",
    "wiki_df_merged = wiki_df_merged.applymap(pop)\n",
    "wiki_df_merged.head(5)"
   ]
  },
  {
   "cell_type": "code",
   "execution_count": null,
   "metadata": {
    "collapsed": true
   },
   "outputs": [],
   "source": []
  },
  {
   "cell_type": "code",
   "execution_count": null,
   "metadata": {
    "collapsed": true
   },
   "outputs": [],
   "source": []
  }
 ],
 "metadata": {
  "anaconda-cloud": {},
  "kernelspec": {
   "display_name": "Python [conda env:tensorflow]",
   "language": "python",
   "name": "conda-env-tensorflow-py"
  },
  "language_info": {
   "codemirror_mode": {
    "name": "ipython",
    "version": 3
   },
   "file_extension": ".py",
   "mimetype": "text/x-python",
   "name": "python",
   "nbconvert_exporter": "python",
   "pygments_lexer": "ipython3",
   "version": "3.5.2"
  }
 },
 "nbformat": 4,
 "nbformat_minor": 2
}
